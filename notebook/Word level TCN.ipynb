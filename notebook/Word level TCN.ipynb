{
 "cells": [
  {
   "cell_type": "markdown",
   "metadata": {},
   "source": [
    "# Horoscope generation using Temporal Convolution Networks\n",
    "\n",
    "The goal of this notebook is to implement a generator of horoscope based on neural networks. \n",
    "\n",
    "More specifically, the architecture used is a Temporal Convolution Network based on the research paper [\"An Empirical Evaluation of Generic Convolutional and Recurrent Networks for Sequence Modeling\"](https://arxiv.org/abs/1803.01271). This architecture is fully convolutional and can therefore take arbitrary length sequence as inputs. The main idea of the authors of this paper is to increase the perceptive field of each successive layer using [dilated convolution](https://github.com/vdumoulin/conv_arithmetic). \n",
    "\n",
    "The bulk of the code of the TCN has been taken from [the implementation](https://github.com/locuslab/TCN) linked in the article.\n",
    "\n",
    "The data used here are all the horoscopes published [beliefnet.com](beliefnet.com) for the year 2011. \n",
    "\n",
    "The network takes a sequence of `window_size` words as input and outputs a sequence of `window_size` words. The target that we use for training is a slice of the horoscope corresponding to the input slid on step to the right, effectively asking the network what should the next word be. "
   ]
  },
  {
   "cell_type": "markdown",
   "metadata": {},
   "source": [
    "## Imports"
   ]
  },
  {
   "cell_type": "code",
   "execution_count": 1,
   "metadata": {},
   "outputs": [],
   "source": [
    "import random\n",
    "import math\n",
    "import itertools\n",
    "\n",
    "import numpy as np\n",
    "import pandas as pd\n",
    "\n",
    "from tqdm import tnrange, tqdm_notebook\n",
    "from tqdm import tqdm\n",
    "\n",
    "import torch\n",
    "import torch.nn            as nn\n",
    "import torch.nn.functional as F\n",
    "import torch.optim         as optim\n",
    "from torch.nn.utils import weight_norm\n",
    "from torch.autograd import Variable"
   ]
  },
  {
   "cell_type": "markdown",
   "metadata": {},
   "source": [
    "## Training parameters"
   ]
  },
  {
   "cell_type": "code",
   "execution_count": 2,
   "metadata": {},
   "outputs": [],
   "source": [
    "cuda          = True\n",
    "file_path     = '../data/horoscope_2011.csv'\n",
    "window_size   = 50\n",
    "batch_size    = 256\n",
    "print_every   = 200\n",
    "test_seq_size = 100\n",
    "epochs        = 30"
   ]
  },
  {
   "cell_type": "markdown",
   "metadata": {},
   "source": [
    "## Data loading code"
   ]
  },
  {
   "cell_type": "code",
   "execution_count": 3,
   "metadata": {},
   "outputs": [],
   "source": [
    "def load_data(path, window_size):\n",
    "    df          = pd.read_csv(path)\n",
    "    split_texts = [t.lower().split() for t in df.TEXT] \n",
    "    text        = list(itertools.chain.from_iterable(split_texts))\n",
    "    words       = set(text)\n",
    "    n_words     = len(words)\n",
    "    idx_to_word = dict(enumerate(words))\n",
    "    word_to_idx = {word : idx for idx, word in idx_to_word.items()}\n",
    "    data        = [(text[i : i + window_size], text[i + 1 : i + window_size + 1])\n",
    "                    for i in range(len(text) - window_size - 1)]\n",
    "\n",
    "    return n_words, idx_to_word, word_to_idx, data"
   ]
  },
  {
   "cell_type": "code",
   "execution_count": 4,
   "metadata": {},
   "outputs": [],
   "source": [
    "def encode_seq(seq, word_to_id):\n",
    "    return [word_to_id[w] for w in seq]"
   ]
  },
  {
   "cell_type": "code",
   "execution_count": 5,
   "metadata": {},
   "outputs": [],
   "source": [
    "def data_to_tensor(data, word_to_id, n_char):\n",
    "    input_tensor = torch.LongTensor([encode_seq(input_seq, word_to_id)\n",
    "                                      for input_seq, _ in data])\n",
    "    target_tensor = torch.LongTensor([encode_seq(target_seq, word_to_id)\n",
    "                                       for _, target_seq in data])\n",
    "    \n",
    "    return input_tensor, target_tensor"
   ]
  },
  {
   "cell_type": "code",
   "execution_count": 6,
   "metadata": {},
   "outputs": [],
   "source": [
    "def batch_generator(data, batch_size, n_char, word_to_id, shuffle = True):\n",
    "    if shuffle:\n",
    "        data = random.sample(data, len(data))\n",
    "    \n",
    "    return (data_to_tensor(data[i : i + batch_size], word_to_id, n_char) \n",
    "                 for i in range(0, len(data), batch_size))"
   ]
  },
  {
   "cell_type": "markdown",
   "metadata": {},
   "source": [
    "## Model visualization code\n",
    "\n",
    "The model evaluation consists in asking it to generate a long sequence of character. We randomly select an input as a base for our generation and create a new sequence character by character using the model."
   ]
  },
  {
   "cell_type": "code",
   "execution_count": 7,
   "metadata": {},
   "outputs": [],
   "source": [
    "def test_model(tcn, final_sequence_size, window_size, n_words, \n",
    "               id_to_word, word_to_id, data):\n",
    "    seq = list(random.choice(data)[0])\n",
    "    while len(seq) < final_sequence_size:\n",
    "        # As the sequence is able to take variable length inputs, it could be \n",
    "        # interesting to not limit ourselves on inputs of window_size.\n",
    "        encoded_input = encode_seq(seq[-window_size:], word_to_id)\n",
    "        input_tensor  = torch.LongTensor([encoded_input])\n",
    "        X             = Variable(input_tensor)\n",
    "        X             = X.cuda() if cuda else X \n",
    "        y_pred        = tcn(X)\n",
    "        # It is important to take the maximum on the dim -2 as each channel of \n",
    "        # the output will correspond to the score associated to a character.\n",
    "        word_pred_id  = y_pred.cpu().max(dim = 2)[1][:,-1].data[0]\n",
    "#         word_pred_id  = y_pred[0].max(dim = -2)[1][-1].cpu().data[0]\n",
    "        word_pred     = id_to_word[word_pred_id]\n",
    "        seq.append(word_pred)\n",
    "    \n",
    "    return ' '.join(seq)"
   ]
  },
  {
   "cell_type": "markdown",
   "metadata": {},
   "source": [
    "The following function generates an horoscope starting from a `base` supplied by the caller. "
   ]
  },
  {
   "cell_type": "code",
   "execution_count": 8,
   "metadata": {},
   "outputs": [],
   "source": [
    "def genererate_long_sequence(tcn, final_sequence_size, n_wordsr, id_to_word, word_to_id, base):\n",
    "    seq = base.split()\n",
    "\n",
    "    while len(seq) < final_sequence_size:\n",
    "        # In this case we do not limit the size of the input to window_size.\n",
    "        encoded_input = encode_seq(seq, word_to_id)\n",
    "        input_tensor  = torch.LongTensor([encoded_input])\n",
    "        X             = Variable(input_tensor)\n",
    "        X             = X.cuda() if cuda else X \n",
    "        y_pred        = tcn(X)\n",
    "        # It is important to take the maximum on the dim -2 as each channel of \n",
    "        # the output will correspond to the score associated to a character.\n",
    "        word_pred_id  = y_pred[0].max(dim = -2)[1][-1].cpu().data[0]\n",
    "        word_pred     = id_to_word[word_pred_id]\n",
    "        seq.append(word_pred)\n",
    "        \n",
    "    return ' '.join(seq)"
   ]
  },
  {
   "cell_type": "markdown",
   "metadata": {},
   "source": [
    "## Model definition"
   ]
  },
  {
   "cell_type": "markdown",
   "metadata": {},
   "source": [
    "The `TransposeLayer` is just a simple transposition that reformats the output of the embedding layer into the correct format for the convolution layers."
   ]
  },
  {
   "cell_type": "code",
   "execution_count": 9,
   "metadata": {},
   "outputs": [],
   "source": [
    "class TransposeLayer(nn.Module):\n",
    "    def forward(self, x):\n",
    "        return x.transpose(-2, -1)"
   ]
  },
  {
   "cell_type": "markdown",
   "metadata": {},
   "source": [
    "The `Chomp1d` module is used to remove the extra values at the end of the sequence by the padding of a convolution. As the TCN architecture uses dilated convolution, the padding have to be increased in order to be able to generate a long enough output. We have to remove the extra values so that the last value of our output is the result of a dilated convolution whose rightmost value was the last value of the input sequence. "
   ]
  },
  {
   "cell_type": "code",
   "execution_count": 10,
   "metadata": {},
   "outputs": [],
   "source": [
    "class Chomp1d(nn.Module):\n",
    "    def __init__(self, chomp_size):\n",
    "        super(Chomp1d, self).__init__()\n",
    "        self.chomp_size = chomp_size\n",
    "        \n",
    "    def forward(self, x):\n",
    "        # As x can be stored on the GPU, if we use it to build a new tensor,\n",
    "        # we have to ensure that our new value is stored contiguously.\n",
    "        return x[:, :, :-self.chomp_size].contiguous()"
   ]
  },
  {
   "cell_type": "markdown",
   "metadata": {},
   "source": [
    "The `TemporalBlock` module is a residual block containing two weight normalized dilated convolutions with ReLU activations and dropout2d (we drop whole channel at once). The residual connection may contain a 1x1 convolution if it is necessary to transform the input to the correct number of channels. "
   ]
  },
  {
   "cell_type": "code",
   "execution_count": 11,
   "metadata": {},
   "outputs": [],
   "source": [
    "class TemporalBlock(nn.Module):\n",
    "    def __init__(self, n_inputs, n_outputs, kernel_size, stride, dilation, padding, dropout = 0.2):\n",
    "        super(TemporalBlock, self).__init__()\n",
    "        conv_params = {\n",
    "            'kernel_size' : kernel_size,\n",
    "            'stride'      : stride,\n",
    "            'padding'     : padding,\n",
    "            'dilation'    : dilation\n",
    "        }\n",
    "        self.conv1    = weight_norm(nn.Conv1d(n_inputs, n_outputs, **conv_params))\n",
    "        self.chomp1   = Chomp1d(padding)\n",
    "        self.relu1    = nn.ReLU()\n",
    "        self.dropout1 = nn.Dropout2d(dropout)\n",
    "        self.conv2    = weight_norm(nn.Conv1d(n_outputs, n_outputs, **conv_params))\n",
    "        self.chomp2   = Chomp1d(padding)\n",
    "        self.relu2    = nn.ReLU()\n",
    "        self.dropout2 = nn.Dropout2d(dropout)\n",
    "        self.net      = nn.Sequential(\n",
    "            self.conv1, \n",
    "            self.chomp1,\n",
    "            self.relu1,\n",
    "            self.dropout1,\n",
    "            self.conv2,\n",
    "            self.chomp2,\n",
    "            self.relu2,\n",
    "            self.dropout2\n",
    "        )\n",
    "        # If the number of input channels is equal to the number of output channel then\n",
    "        # no transformation is required.\n",
    "        self.downsample = nn.Conv1d(n_inputs, n_outputs, 1) if n_inputs != n_outputs else None\n",
    "        self.relu       = nn.ReLU()\n",
    "        self.init_weights()\n",
    "        \n",
    "    def forward(self, x):\n",
    "        # Convolutional branch of the residual block\n",
    "        out = self.net(x)\n",
    "        # Residual branch of the residual block\n",
    "        res = x if self.downsample is None else self.downsample(x)\n",
    "\n",
    "        return self.relu(out + res)\n",
    "    \n",
    "    def init_weights(self):\n",
    "        self.conv1.weight.data.normal_(0, 0.01)\n",
    "        self.conv2.weight.data.normal_(0, 0.01)\n",
    "        if self.downsample is not None:\n",
    "            self.downsample.weight.data.normal_(0, 0.01)"
   ]
  },
  {
   "cell_type": "markdown",
   "metadata": {},
   "source": [
    "The Temporal Convolution Network is a sequence of Temporal Blocks whose dilation is doubled at each step. If enough blocks are uses, this definition allows the network to used information for arbitrarily far away in the past to generate its prediction. "
   ]
  },
  {
   "cell_type": "code",
   "execution_count": 12,
   "metadata": {},
   "outputs": [],
   "source": [
    "class TemporalConvNet(nn.Module):\n",
    "    def __init__(self, num_inputs, num_channels, dim_emb, kernel_size, dropout):\n",
    "        super(TemporalConvNet, self).__init__()\n",
    "        layers     = []\n",
    "        num_levels = len(num_channels)\n",
    "        \n",
    "        for i in range(num_levels):\n",
    "            # The dilation is doubled at each layer to allow an exponential growth of \n",
    "            # the receptive field size.   \n",
    "            dilation_size = 2 ** i\n",
    "            in_channels   = dim_emb if i == 0 else num_channels[i - 1]\n",
    "            out_channels  = num_channels[i]\n",
    "            layers.append(\n",
    "                TemporalBlock(\n",
    "                    in_channels,\n",
    "                    out_channels,\n",
    "                    kernel_size,\n",
    "                    stride   = 1,\n",
    "                    dilation = dilation_size,\n",
    "                    padding  = (kernel_size - 1) * dilation_size,\n",
    "                    dropout  = dropout\n",
    "                )\n",
    "            )\n",
    "        \n",
    "        self.network = nn.Sequential(*layers)\n",
    "        \n",
    "    def forward(self, x):\n",
    "        return self.network(x)"
   ]
  },
  {
   "cell_type": "code",
   "execution_count": 13,
   "metadata": {},
   "outputs": [],
   "source": [
    "class LanguageModel(nn.Module):\n",
    "    def __init__(self, n_inputs, n_outputs, num_channels, dim_emb = 50, kernel_size = 2, \n",
    "                 emb_dropout = 0.1, dropout = 0.2):\n",
    "        super(LanguageModel, self).__init__()\n",
    "        self.embedding = nn.Embedding(n_inputs, dim_emb)\n",
    "        self.tcn = TemporalConvNet(dim_emb, num_channels, dim_emb, kernel_size, dropout)\n",
    "        self.decoder = nn.Linear(num_channels[-1], n_outputs)\n",
    "        self.drop = nn.Dropout(emb_dropout)\n",
    "        self.init_weights()\n",
    "        \n",
    "    def init_weights(self):\n",
    "        self.embedding.weight.data.normal_(0, 0.01)\n",
    "        self.decoder.bias.data.fill_(0)\n",
    "        self.decoder.weight.data.normal_(0, 0.01)\n",
    "        \n",
    "    def forward(self, input):\n",
    "        emb = self.drop(self.embedding(input))\n",
    "        emb = emb.transpose(-2, -1)\n",
    "        y   = self.tcn(emb)\n",
    "        y   = y.transpose(-2, -1) \n",
    "        y   = self.decoder(y)\n",
    "        \n",
    "        return y"
   ]
  },
  {
   "cell_type": "markdown",
   "metadata": {},
   "source": [
    "## Training"
   ]
  },
  {
   "cell_type": "code",
   "execution_count": 14,
   "metadata": {},
   "outputs": [],
   "source": [
    "n_words, id_to_word, word_to_id, data = load_data(file_path, window_size)\n",
    "# num_channels                          = [512] * 6 + [n_words]\n",
    "num_channels                          = [512] * 6\n",
    "# tcn                                   = TemporalConvNet(n_words, num_channels)\n",
    "tcn                                   = LanguageModel(n_words, n_words, num_channels) \n",
    "tcn                                   = tcn.cuda() if cuda else tcn\n",
    "# We view the problem as a classification task in which the network tries\n",
    "# to predict what class the following character should be.   \n",
    "criterion                             = nn.CrossEntropyLoss()\n",
    "# We use an Adam optimizer with the default learning rate of 1e-3.\n",
    "optimizer                             = optim.Adam(tcn.parameters())\n",
    "# tcn"
   ]
  },
  {
   "cell_type": "code",
   "execution_count": 15,
   "metadata": {},
   "outputs": [
    {
     "data": {
      "text/plain": [
       "13234883"
      ]
     },
     "execution_count": 15,
     "metadata": {},
     "output_type": "execute_result"
    }
   ],
   "source": [
    "params = filter(lambda p: p.requires_grad, tcn.parameters())\n",
    "sum([np.prod(p.size()) for p in params])"
   ]
  },
  {
   "cell_type": "code",
   "execution_count": 16,
   "metadata": {},
   "outputs": [],
   "source": [
    "batch_per_epoch  = math.ceil(len(data) / batch_size)\n",
    "loss_update_rate = 3"
   ]
  },
  {
   "cell_type": "code",
   "execution_count": 17,
   "metadata": {},
   "outputs": [
    {
     "data": {
      "application/vnd.jupyter.widget-view+json": {
       "model_id": "e11b16394919426e9a8006fafa455f3e",
       "version_major": 2,
       "version_minor": 0
      },
      "text/html": [
       "<p>Failed to display Jupyter Widget of type <code>HBox</code>.</p>\n",
       "<p>\n",
       "  If you're reading this message in the Jupyter Notebook or JupyterLab Notebook, it may mean\n",
       "  that the widgets JavaScript is still loading. If this message persists, it\n",
       "  likely means that the widgets JavaScript library is either not installed or\n",
       "  not enabled. See the <a href=\"https://ipywidgets.readthedocs.io/en/stable/user_install.html\">Jupyter\n",
       "  Widgets Documentation</a> for setup instructions.\n",
       "</p>\n",
       "<p>\n",
       "  If you're reading this message in another frontend (for example, a static\n",
       "  rendering on GitHub or <a href=\"https://nbviewer.jupyter.org/\">NBViewer</a>),\n",
       "  it may mean that your frontend doesn't currently support widgets.\n",
       "</p>\n"
      ],
      "text/plain": [
       "HBox(children=(IntProgress(value=0, description='epochs', max=30), HTML(value='')))"
      ]
     },
     "metadata": {},
     "output_type": "display_data"
    },
    {
     "data": {
      "application/vnd.jupyter.widget-view+json": {
       "model_id": "19be3a4e033d42c3816cc3e88ff829f8",
       "version_major": 2,
       "version_minor": 0
      },
      "text/html": [
       "<p>Failed to display Jupyter Widget of type <code>HBox</code>.</p>\n",
       "<p>\n",
       "  If you're reading this message in the Jupyter Notebook or JupyterLab Notebook, it may mean\n",
       "  that the widgets JavaScript is still loading. If this message persists, it\n",
       "  likely means that the widgets JavaScript library is either not installed or\n",
       "  not enabled. See the <a href=\"https://ipywidgets.readthedocs.io/en/stable/user_install.html\">Jupyter\n",
       "  Widgets Documentation</a> for setup instructions.\n",
       "</p>\n",
       "<p>\n",
       "  If you're reading this message in another frontend (for example, a static\n",
       "  rendering on GitHub or <a href=\"https://nbviewer.jupyter.org/\">NBViewer</a>),\n",
       "  it may mean that your frontend doesn't currently support widgets.\n",
       "</p>\n"
      ],
      "text/plain": [
       "HBox(children=(IntProgress(value=0, description='batches', max=1260), HTML(value='')))"
      ]
     },
     "metadata": {},
     "output_type": "display_data"
    },
    {
     "name": "stdout",
     "output_type": "stream",
     "text": [
      "Batch:    200, loss:  6.1580\n",
      "you are not responsible for anyone else's emotions. don't intrude into someone else's life unless you have been specifically invited. your ruling planet mercury engages in a mental war of survival with relentless pluto today. you may feel as if you're in over your head, but mercury is clever enough to be as you may be be able to be a feelings of your current house of moon is to your current way of your sign to be able to be a moon and your moon house of moon is your moon and your moon house of work is a\n",
      "\n",
      "Batch:    400, loss:  4.8890\n",
      "the day because you might become quite busy later in the afternoon. but instead of just daydreaming about how to make more money, it would be wise to consider ways to reduce your spending. asking a friend for assistance could make a significant difference in what you accomplish now, for your feelings is a good idea to make your feelings and a few days. you may be able to make your feelings and a good strategy to be a bit of two or your current life is a propitious strategy to be a lot of a friend or days. you\n",
      "\n",
      "Batch:    600, loss:  4.1668\n",
      "today. your superiors may have inflated expectations, yet you know that there's only so much that you can handle now. unfortunately, trouble arises if you don't establish clear limits. there's no need to complain about anything that is beyond your control, because that just makes the situation worse. it helps to be more than you realize. you may be able to tap out of the next few days. you may be feeling to make you want to get out of the disagreement, you might be satisfied with your current desire to work out of your own pace; you been sufficiently\n",
      "\n",
      "Batch:    800, loss:  3.6793\n",
      "your emotions to yourself, yet you are tempted to bend the rules and say more than is necessary. remember, it's probably better for everyone involved if you don't act impulsively at this time. you aren't prepared to say exactly what you are feeling today because you don't want to add to the charm you want to be done, but don't try to detach yourself from your own notions about your emotions, but you may be able to safely adapt to the most significant picture in a situation that's presented, be able to recreate your life level of realism and plague\n",
      "\n",
      "Batch:   1000, loss:  3.3246\n",
      "don't get it right today, rest assured you'll be able to try again tomorrow. your undying sense of optimism usually works to your advantage, but the current opposition between jupiter's confidence and saturn's pessimism has you bouncing back and forth. still, the positive thoughts should win the battle as jolly jupiter radiates neptune, jupiter, making it difficult to keep your feelings to the ground. you may be easier to take a risk to combine your goals. your lack of apparent inspiration is likely to be quiet. you might have to be disappointed because you might not be able to grasp\n",
      "\n",
      "Batch:   1200, loss:  3.0602\n",
      "careful about inflating your expectations too much. it's better now to achieve a modest success that makes you feel good about your accomplishments, rather than reaching too high and then facing the disappointment of failure. fortunately, whatever you choose to do now is not set in stone; you will have a lot of energy today as long mars in your 8th house of intimacy pulling you to turn your own desires and you can be so much about the long run. you may be sorely too far to yourself. you can be able to tap off a vein of details\n",
      "\n"
     ]
    },
    {
     "data": {
      "application/vnd.jupyter.widget-view+json": {
       "model_id": "f92a84768fd4447f81e6856df8eaea9e",
       "version_major": 2,
       "version_minor": 0
      },
      "text/html": [
       "<p>Failed to display Jupyter Widget of type <code>HBox</code>.</p>\n",
       "<p>\n",
       "  If you're reading this message in the Jupyter Notebook or JupyterLab Notebook, it may mean\n",
       "  that the widgets JavaScript is still loading. If this message persists, it\n",
       "  likely means that the widgets JavaScript library is either not installed or\n",
       "  not enabled. See the <a href=\"https://ipywidgets.readthedocs.io/en/stable/user_install.html\">Jupyter\n",
       "  Widgets Documentation</a> for setup instructions.\n",
       "</p>\n",
       "<p>\n",
       "  If you're reading this message in another frontend (for example, a static\n",
       "  rendering on GitHub or <a href=\"https://nbviewer.jupyter.org/\">NBViewer</a>),\n",
       "  it may mean that your frontend doesn't currently support widgets.\n",
       "</p>\n"
      ],
      "text/plain": [
       "HBox(children=(IntProgress(value=0, description='batches', max=1260), HTML(value='')))"
      ]
     },
     "metadata": {},
     "output_type": "display_data"
    },
    {
     "name": "stdout",
     "output_type": "stream",
     "text": [
      "Batch:    200, loss:  2.8036\n",
      "a few loose ends dangling now. delay declaring your final decision until the ambiguity begins to fade. unraveling your romantic feelings may be a significant part of your day, yet it's difficult to know where your heart will lead you now. you could grow frustrated if you try to force clarity. don't let your frustration is so firm that you cannot see something. nevertheless, you may not be able to address your current optimism, but you might be struggling to sustain your energy to yourself. you may be extremely successful in the day than you realize. you may be feeling\n",
      "\n",
      "Batch:    400, loss:  2.6637\n",
      "where they may. you are extra creative today as mars, now in your 5th house of self-expression, is agitated by imaginative neptune. however, your production can be delayed or even blocked by your lack of a concrete plan. nevertheless, you could feel as if you're wasting time managing the unexpected interruptions, but it's wise to discuss potential to business and suddenly shift in mind and you could be more playful today as you attempt to keep up with your own fantasies today, but you may be able to refocus your intuition. you could be surprised by how fast is a\n",
      "\n",
      "Batch:    600, loss:  2.5488\n",
      "visit to your 7th house of companions may tempt you to pin your hopes and dreams on someone else now. although a solid partnership won't likely pose any special difficulties, you are more prone to project your fantasies onto others. attaching your goals onto those closest to you can naturally alter interpersonal dynamics. you might not be able to see a supporting invitation today, but you might be required to execute your ideas if you think you know those in the present moment and reveal your opinions. you may be a bit of time questioning your own emotionally-detached attitude to\n",
      "\n",
      "Batch:    800, loss:  2.4467\n",
      "are necessary to put things back on track, but don't overreact. an emotional outburst will only stir up more trouble than it solves. you are usually quick to share what you're thinking, but your impulsive tendencies may have you backtracking later on. ironically, you're probably correct in your analysis of your reality. you may be happier if you are honest and sad yet your fear of clarity will still improve your immediate attitude because you realize that you could be benefit from the general part of your continuing and helps you reach your goals and could be fully irrational. instead\n",
      "\n",
      "Batch:   1000, loss:  2.3555\n",
      "may be more impatient today than usual, moving too quickly isn't a smart thing to do. you might not feel supported by your closest friends and workmates, especially if you are concerned with fulfilling your own needs. ultimately, you'll do better if you follow your dreams, even if they conflict isn't necessarily right. although you are confident about your current routine today as the moon in your 9th house of big ideas. you might even think about your current path to success on your current course of putting yourself back into the time, even if you are eager to hide\n",
      "\n",
      "Batch:   1200, loss:  2.2785\n",
      "establishing yourself as someone who must be reckoned with. even if you have to give in, you'll make it known that you're not an easy target. don't be afraid to express your feelings because they give you the strength to be yourself. there may be a big difference between your feelings and a wise level today. fortunately, you can still remain open to the clarity that you want to admit. although you have a lot to do today as you try to sort out where you don't waste your dreams, even if you retreat socially, it's not that you are\n",
      "\n"
     ]
    },
    {
     "data": {
      "application/vnd.jupyter.widget-view+json": {
       "model_id": "7b153469cdd14f50b3b0ed737e124462",
       "version_major": 2,
       "version_minor": 0
      },
      "text/html": [
       "<p>Failed to display Jupyter Widget of type <code>HBox</code>.</p>\n",
       "<p>\n",
       "  If you're reading this message in the Jupyter Notebook or JupyterLab Notebook, it may mean\n",
       "  that the widgets JavaScript is still loading. If this message persists, it\n",
       "  likely means that the widgets JavaScript library is either not installed or\n",
       "  not enabled. See the <a href=\"https://ipywidgets.readthedocs.io/en/stable/user_install.html\">Jupyter\n",
       "  Widgets Documentation</a> for setup instructions.\n",
       "</p>\n",
       "<p>\n",
       "  If you're reading this message in another frontend (for example, a static\n",
       "  rendering on GitHub or <a href=\"https://nbviewer.jupyter.org/\">NBViewer</a>),\n",
       "  it may mean that your frontend doesn't currently support widgets.\n",
       "</p>\n"
      ],
      "text/plain": [
       "HBox(children=(IntProgress(value=0, description='batches', max=1260), HTML(value='')))"
      ]
     },
     "metadata": {},
     "output_type": "display_data"
    },
    {
     "name": "stdout",
     "output_type": "stream",
     "text": [
      "Batch:    200, loss:  2.1705\n",
      "your air of authority, you will be happier if you listen to your heart. you may not understand your feelings today, but this doesn't mean that you should try to bury them. although you are capable of keeping your personal issues to yourself, denying them isn't a healthy strategy. be smart and trust your own emotions without wasting happiness as long as you don't let go of your own agenda. you may be holding on to emotions today; instead, let your obligations stand in the right time. you may be tempted to take a break for your responsibilities today, but\n",
      "\n",
      "Batch:    400, loss:  2.1074\n",
      "up and you will steadfastly defend your decision if you are questioned today. often, you are the one to acquiesce, but now your legendary flexibility is nowhere to be found. your current strategy is to stubbornly hold still and wait for others to come around to your position. unfortunately, you're willing to blame anyone how you have already feel it. if you are able to take a lot of words early in the day and then start quietly behind the distance to the next few days completely bringing you more freedom into the future can alleviate the potential of discomfort\n",
      "\n",
      "Batch:    600, loss:  2.0496\n",
      "faster. lessen your frustration by temporarily suspending your need to do something new while concentrating on what you can change, instead. you are a bit agitated today because you know what you want but don't know exactly how to get it. magnetic venus is anxiously aspecting erratic uranus, heightening your desires while also drawing up with your daily routine, and won't be a word that you can do or a while back. you may be able to accomplish a lot today when you are uncertain about your personal needs to reach out your way for you to do your own\n",
      "\n",
      "Batch:    800, loss:  1.9985\n",
      "to do at home today, enabling you to retreat without getting bored. it's fun when there are so many possibilities, but it can be tricky to narrow your choices and just pick one course of action. don't take your discomfort or frustration out on anyone else. you should feel better after you realize that you got a harsh member unfolding to the surface. but once you start well for others won't be easy for you to understand where you are going. you may be so hard to get to the top of your desire to be very stubborn. overcoming course\n",
      "\n",
      "Batch:   1000, loss:  1.9471\n",
      "especially if you must face several obstacles today. fortunately, your hope returns quickly and you know that things will get better. your buoyant attitude could change a very difficult situation into an opportunity that ultimately works in your favor. even if you can't control what happens to you, you are tempted to take on this of time and get off to do. however, your ability to be discouraged; instead, retreat the right thing that are being detached about your current actions. although you may be surprised by what you want to do. instead of attempting to live too far to\n",
      "\n",
      "Batch:   1200, loss:  1.8945\n",
      "can make a conscious decision to set priorities before you run into trouble. you might believe that your cautious approach to making plans will be enough to prevent any problems from surfacing, but it's nearly impossible to think of everything in advance. don't worry if something pops up unexpectedly today. you cannot avoid the inevitable by simply going on in a party, but the deeper you can do today because you don't want too much value of the fearless sagittarius moon in your 11th house of long-term goals. you may be reconsidering your needs to what's explain how to get\n",
      "\n"
     ]
    },
    {
     "data": {
      "application/vnd.jupyter.widget-view+json": {
       "model_id": "91a534cde1934a0a9bbfa73b90e1d200",
       "version_major": 2,
       "version_minor": 0
      },
      "text/html": [
       "<p>Failed to display Jupyter Widget of type <code>HBox</code>.</p>\n",
       "<p>\n",
       "  If you're reading this message in the Jupyter Notebook or JupyterLab Notebook, it may mean\n",
       "  that the widgets JavaScript is still loading. If this message persists, it\n",
       "  likely means that the widgets JavaScript library is either not installed or\n",
       "  not enabled. See the <a href=\"https://ipywidgets.readthedocs.io/en/stable/user_install.html\">Jupyter\n",
       "  Widgets Documentation</a> for setup instructions.\n",
       "</p>\n",
       "<p>\n",
       "  If you're reading this message in another frontend (for example, a static\n",
       "  rendering on GitHub or <a href=\"https://nbviewer.jupyter.org/\">NBViewer</a>),\n",
       "  it may mean that your frontend doesn't currently support widgets.\n",
       "</p>\n"
      ],
      "text/plain": [
       "HBox(children=(IntProgress(value=0, description='batches', max=1260), HTML(value='')))"
      ]
     },
     "metadata": {},
     "output_type": "display_data"
    },
    {
     "name": "stdout",
     "output_type": "stream",
     "text": [
      "Batch:    200, loss:  1.8249\n",
      "into fun-loving and lively leo. but you may still try to cling to unresolved emotions from the past. attempts to communicate your feelings could keep you spinning in an endless loop. don't rely on logic now; act in the moment without worrying too much about the consequences. the moon returns to melodramatic leo today, tempting you to believe that you can deliver all your attention on your ideal feelings. you aren't happy enough to expand your dreams in yourself now, especially if you planned to reach your goals. you want to watch the potential of unfolding today and might one\n",
      "\n",
      "Batch:    400, loss:  1.7889\n",
      "12th house. if you want to take the focus off of your inner process, there's a lot to discuss about all the developments at work. it's possible to delay a necessary confrontation for a day or two now, but it's not advisable. your emotions could trigger a meltdown if you are free from others. you might attempt to keep up with a practical problems while around. maintaining the meantime, start a conversation about a friend or business today, but you could be so eager to do what you want. you may be eager to escape from your own resistance because\n",
      "\n",
      "Batch:    600, loss:  1.7529\n",
      "be somewhat unformed. naturally, you excel at making plans and then focusing on achieving each goal one at a time. however, it's also wise to stay loose now, so you can take advantage of an interesting opportunity that may come along. your best strategy is to plan ahead while allowing for it will be, rather than going on last amazing experience in the process. you may be smooth feeling like a relationship today, but you won't be able to get away with a recent relationship or that helps you to see the truth today as you supply makes you feel\n",
      "\n",
      "Batch:    800, loss:  1.7181\n",
      "something happens to remind you of how much you don't understand. but rather than wondering about unsolvable mysteries, it's smarter to concentrate your attention on the tasks immediately in front of you. the simple act of finishing a job now will bring more satisfaction than anything else. being around other people stimulates your imagination and ask for what you are thinking is important. practice receiving a more positive approach. your thoughts can build on your public commitment if you judge yourself yourself for a while longer. but your actions may be acutely out of original directions. it's not easy for\n",
      "\n",
      "Batch:   1000, loss:  1.6812\n",
      "pleasure comes from being productive in the present moment, not dreaming about the unknown future. the thrill ride continues and, although you have gained some common sense, your imagination has also been unlocked. thankfully, you can distinguish between your dreams and reality today, but there's interference on all your communication lines, so it's tough to see which that leads you to believe that you have responsibilities that is not easy to make any final decision. you may be lost in your day, but you could easily hurt someone's emotional intensity unless you feel the most of you. you may be\n",
      "\n",
      "Batch:   1200, loss:  1.6496\n",
      "may need to assert yourself more aggressively than you prefer today. your discomfort increases when you think about what you must do, but fortunately you should be able to rise to the task. the clever gemini moon in your 9th house of future vision enables you to talk your way now. however, your positive thinking of being a relationship that has can't say today. instead of trying to control your plans or heart and will be better off by pursuing pleasure. you may not feel overly flexible today, but your spontaneity might be overwhelming and you are able to complete\n",
      "\n"
     ]
    },
    {
     "data": {
      "application/vnd.jupyter.widget-view+json": {
       "model_id": "11707a470f0e4027bc20260d18160b36",
       "version_major": 2,
       "version_minor": 0
      },
      "text/html": [
       "<p>Failed to display Jupyter Widget of type <code>HBox</code>.</p>\n",
       "<p>\n",
       "  If you're reading this message in the Jupyter Notebook or JupyterLab Notebook, it may mean\n",
       "  that the widgets JavaScript is still loading. If this message persists, it\n",
       "  likely means that the widgets JavaScript library is either not installed or\n",
       "  not enabled. See the <a href=\"https://ipywidgets.readthedocs.io/en/stable/user_install.html\">Jupyter\n",
       "  Widgets Documentation</a> for setup instructions.\n",
       "</p>\n",
       "<p>\n",
       "  If you're reading this message in another frontend (for example, a static\n",
       "  rendering on GitHub or <a href=\"https://nbviewer.jupyter.org/\">NBViewer</a>),\n",
       "  it may mean that your frontend doesn't currently support widgets.\n",
       "</p>\n"
      ],
      "text/plain": [
       "HBox(children=(IntProgress(value=0, description='batches', max=1260), HTML(value='')))"
      ]
     },
     "metadata": {},
     "output_type": "display_data"
    },
    {
     "name": "stdout",
     "output_type": "stream",
     "text": [
      "Batch:    200, loss:  1.5949\n",
      "might be to get what you want, let circumstances develop at their own rate. your impatience can interfere with whatever stability you have already gained. even if you feel stuck, don't worry about forcing progress now. things will make more sense soon enough. you have specific ideas about how the new moon eclipse in your 9th house of big ideas. however, you may not be willing to take the easy way out to fill in one idea as another. but this could be a strong shift together now, you might be overly concerned about the tasks you have to follow\n",
      "\n",
      "Batch:    400, loss:  1.5716\n",
      "explain today. nevertheless, taking the time now to connect with your friends in a deeper way enriches your relationships and brings you comfort. you can see how someone special is engaging you in an intense process now that has the potential to transform who you really are. your initial reaction can be high today is a narrow thinking. however, you may not be able to take a complex risk and pull back away from your apparent feelings that you don't have to let go of the past. patience is not enough to hide your feelings now, especially if you don't\n",
      "\n",
      "Batch:    600, loss:  1.5454\n",
      "willing to pay the price for skipping out on your responsibilities. after all, you might reason that you can always finish up your work later. unfortunately, you've probably left too much until the last minute already, making it tough to justify an early exit from work. the potential for fun is a healthy way to be a joyful course. your personal responsibilities will only reveal your feelings to temporarily follow your needs if you are finished with the current situation. you may be tempted to take a risk and tell everyone at work with someone else ends while sounds better\n",
      "\n",
      "Batch:    800, loss:  1.5223\n",
      "your point most effectively now by withdrawing your support from someone and simply focusing your efforts somewhere else. an open confrontation won't bring resolution, so avoid going to emotional extremes until you can regain your objectivity. you may be feeling pressured by an emotional conflict that has been hovering dangerously at the edge of eruption. but don't try to make a big decision to finish what you should be doing today. however, it might be challenging to motivate you to remain chance to find a way to make a positive course. you may be struggling to maintain a spiritual level\n",
      "\n",
      "Batch:   1000, loss:  1.4977\n",
      "about what's coming next or concerned that you recently missed your chance. you can sense that big changes are lurking just out past your perceptual limits. nevertheless, you cannot wrap your mind around this elusive situation today. although you may need to face your anxiety, remaining flexible is more important than following your current job and into the future. you must be willing to take advantage of a project that could stand up to a positive side now. instead of trying to make progress work the best of the potential for you to do is a successful strategy. it's challenging\n",
      "\n",
      "Batch:   1200, loss:  1.4763\n",
      "there is no need to apologize for what remains temporarily unfinished. handling your chores one at a time will help you to concentrate your efforts and accomplish as much as possible. although you may not want to admit it, your thoughts are a bit scattered today, challenging you to follow through on your own mind. however, you are feeling pretty good about your future now. you want to know where to begin. just just you're a test of extra energy, it's not wise to seek balance up because you have a good effect. just remember that you are being practical,\n",
      "\n"
     ]
    },
    {
     "data": {
      "application/vnd.jupyter.widget-view+json": {
       "model_id": "b077a7f02789497b9c9e152cfba5c9fe",
       "version_major": 2,
       "version_minor": 0
      },
      "text/html": [
       "<p>Failed to display Jupyter Widget of type <code>HBox</code>.</p>\n",
       "<p>\n",
       "  If you're reading this message in the Jupyter Notebook or JupyterLab Notebook, it may mean\n",
       "  that the widgets JavaScript is still loading. If this message persists, it\n",
       "  likely means that the widgets JavaScript library is either not installed or\n",
       "  not enabled. See the <a href=\"https://ipywidgets.readthedocs.io/en/stable/user_install.html\">Jupyter\n",
       "  Widgets Documentation</a> for setup instructions.\n",
       "</p>\n",
       "<p>\n",
       "  If you're reading this message in another frontend (for example, a static\n",
       "  rendering on GitHub or <a href=\"https://nbviewer.jupyter.org/\">NBViewer</a>),\n",
       "  it may mean that your frontend doesn't currently support widgets.\n",
       "</p>\n"
      ],
      "text/plain": [
       "HBox(children=(IntProgress(value=0, description='batches', max=1260), HTML(value='')))"
      ]
     },
     "metadata": {},
     "output_type": "display_data"
    },
    {
     "name": "stdout",
     "output_type": "stream",
     "text": [
      "Batch:    200, loss:  1.4320\n",
      "know when to be patient. have faith in your intuition and don't allow rationalizations to override your gut feelings. it's typical for you to have a plan in place, yet still change your mind at the last moment. co-workers might not understand your reasons for altering your priorities, but there is so much to do now. although you are tired of responsibilities at work, but don't get too giddy at the thought of breaking free that they brings you from a friend. you may be ambivalent today about your work today, but you could be content with others to take\n",
      "\n",
      "Batch:    400, loss:  1.4157\n",
      "you are attending to your responsibilities. just do what's expected of you now with the understanding that your rewards will have to wait. you are usually quite comfortable negotiating your way through confusing territory, but current circumstances may push you to your limit. you aren't interested in frivolity and fantasy today; instead of feeling like a problem that's on your ruling planet venus brings you a beautiful image today as a story first and then get the present job and into a casual conversation on a social meltdown than to call the best you are more productive in your long\n",
      "\n",
      "Batch:    600, loss:  1.3974\n",
      "the potential of becoming real. your power comes from your magical ability to undergo a surprising metamorphosis today. you are like the legendary phoenix that arises from the ashes as pluto harmonizes with magnetic venus. others might be afraid of such dynamic change, but you instinctively know that it's futile to resist these evolutionary waves. what they really not be right. don't want to take on too much work to play. however, you might feel as if you're avoiding action now as you develop new and you'll be able to get the real version of your life is reward from\n",
      "\n",
      "Batch:    800, loss:  1.3836\n",
      "digging until you reach the source of your concerns. fortunately, you aren't required to discover any ultimate answers right away. if you are progressing in the right direction, you will have more time than you realize to keep on searching. although you may have a new sense of purpose today, it's still not necessary to sustain your efforts. nevertheless, it's not easy for you to understand why you're at the moment. you may be surprised with the optimistic side of a way that has been on a highly different person. it's hard for you to express yourself today, give you\n",
      "\n",
      "Batch:   1000, loss:  1.3641\n",
      "your wildly creative side now. luckily, your competence enables you to handle things well enough that no one realizes you have escaped into the recesses of your own private universe. self-discipline comes naturally to you, but not now when indulgent venus tugs on your key planet, taskmaster saturn. you might wish that you could just lose your temper if you don't start a discussion too quickly, for you prefer to be a part of you that makes room for you to defend yourself later on. you have your own dreams and have a smart way to step out of control.\n",
      "\n",
      "Batch:   1200, loss:  1.3491\n",
      "consciously let go of anything that's beyond your control. you know what you need and where you're going today, but not necessarily how you'll get there. still, you won't like it if others try to give you directions and you'll fight them if they push too hard. nevertheless, it isn't easy for you to concentrate on the truth today. you don't have to rebel openly just to make your point. showing your disrespect so working toward your point of view and can be an exciting day into an emotionally short struggle today, you may be so many different ways to\n",
      "\n"
     ]
    },
    {
     "data": {
      "application/vnd.jupyter.widget-view+json": {
       "model_id": "2cb25865f4944ae09c858ad7802b5a18",
       "version_major": 2,
       "version_minor": 0
      },
      "text/html": [
       "<p>Failed to display Jupyter Widget of type <code>HBox</code>.</p>\n",
       "<p>\n",
       "  If you're reading this message in the Jupyter Notebook or JupyterLab Notebook, it may mean\n",
       "  that the widgets JavaScript is still loading. If this message persists, it\n",
       "  likely means that the widgets JavaScript library is either not installed or\n",
       "  not enabled. See the <a href=\"https://ipywidgets.readthedocs.io/en/stable/user_install.html\">Jupyter\n",
       "  Widgets Documentation</a> for setup instructions.\n",
       "</p>\n",
       "<p>\n",
       "  If you're reading this message in another frontend (for example, a static\n",
       "  rendering on GitHub or <a href=\"https://nbviewer.jupyter.org/\">NBViewer</a>),\n",
       "  it may mean that your frontend doesn't currently support widgets.\n",
       "</p>\n"
      ],
      "text/plain": [
       "HBox(children=(IntProgress(value=0, description='batches', max=1260), HTML(value='')))"
      ]
     },
     "metadata": {},
     "output_type": "display_data"
    },
    {
     "name": "stdout",
     "output_type": "stream",
     "text": [
      "Batch:    200, loss:  1.3164\n",
      "your life upside down. you can always follow your bliss later when it's not so disruptive. you're eager for a blast of something new on the home front, but you may not have the time or energy to turn your plans into reality. the irrepressible aries full moon in your 4th house of security pushes you to choosing a healthy perspective to spend your day off. naturally, you have an excellent time to make now if you get intense. but don't let your desires turn a way out on a long place to maintain your integrity. you may be frustrated\n",
      "\n",
      "Batch:    400, loss:  1.3033\n",
      "go deep. happiness depends upon finding a balance between lighthearted pleasures and passionate explorations. you don't have to miss out on the fun, yet entertaining unrealistic hopes could lead to disappointment. your current notion of personal satisfaction doesn't require approval from someone else. enjoying yourself now is more about your internal world because a choice doesn't really will be able to live in the day. expressing your feelings doesn't mean that you will probably regret. unfortunately, being a little less stable than you actually want to do things your way before you know out of the open is sufficient to\n",
      "\n",
      "Batch:    600, loss:  1.2905\n",
      "your own resistance quickly allows you to open up some playtime in your already busy schedule. go ahead and indulge yourself; your work will still be there when you return. you may want to retreat into a more private space because excessive social activity makes you feel nervous today. unfortunately, you might not have to trust your ability to find a way that you can be quite practical now, so you can continue to see the healing confrontation with your inner world and you may be tempted to take a bit of least out of your schedule. normally, you still\n",
      "\n",
      "Batch:    800, loss:  1.2792\n",
      "from your subconscious mind because the veil that separates these two realms is very thin now. although halloween has passed, the spirit realm feels nearby enough that you bump into a few ghosts of your own. remember, your visions may seem to have little in common with reality, but that doesn't mean you're able to see responsibility for your own lack of work. you can always go out of your way today, but you may be too busy today because you have found a few things to do. fortunately, you can make a major decision when you had more comfortable\n",
      "\n",
      "Batch:   1000, loss:  1.2640\n",
      "to handle the resistance in the same manner, you believe that your strategy will work. unfortunately, you're wasting valuable resources by relying on old tactics. you may be pleasantly surprised by the outcome if you do something radically different now. it feels as if you're running out of time so you don't get in the conversation with a positive learning if you remember that you're not interested in getting to do some fun that you stay away with it. it's not easy for you to let go of your feelings, so set your goals and make your day to anyone\n",
      "\n",
      "Batch:   1200, loss:  1.2519\n",
      "or she can. you are perceptive enough to see the most efficient way to do a task and you want to assume authority to make something happen. keep in mind that you cannot control others; nonetheless, you can find satisfaction by changing your expectations. you can cleverly arrive at many ways of a bit of excitement. you might resist the excitement that others today you might be feeling somewhat like a new idea of income with the moon in your 11th house of community group indicates that you must pay attention to what's truly on your own life. although you\n",
      "\n"
     ]
    },
    {
     "data": {
      "application/vnd.jupyter.widget-view+json": {
       "model_id": "481625a9099b4db5b85ee0794ad9a21a",
       "version_major": 2,
       "version_minor": 0
      },
      "text/html": [
       "<p>Failed to display Jupyter Widget of type <code>HBox</code>.</p>\n",
       "<p>\n",
       "  If you're reading this message in the Jupyter Notebook or JupyterLab Notebook, it may mean\n",
       "  that the widgets JavaScript is still loading. If this message persists, it\n",
       "  likely means that the widgets JavaScript library is either not installed or\n",
       "  not enabled. See the <a href=\"https://ipywidgets.readthedocs.io/en/stable/user_install.html\">Jupyter\n",
       "  Widgets Documentation</a> for setup instructions.\n",
       "</p>\n",
       "<p>\n",
       "  If you're reading this message in another frontend (for example, a static\n",
       "  rendering on GitHub or <a href=\"https://nbviewer.jupyter.org/\">NBViewer</a>),\n",
       "  it may mean that your frontend doesn't currently support widgets.\n",
       "</p>\n"
      ],
      "text/plain": [
       "HBox(children=(IntProgress(value=0, description='batches', max=1260), HTML(value='')))"
      ]
     },
     "metadata": {},
     "output_type": "display_data"
    },
    {
     "name": "stdout",
     "output_type": "stream",
     "text": [
      "Batch:    200, loss:  1.2212\n",
      "bit of downtime now, so take it while you have the chance. you might not be happy at first with whatever happens today, but you may be willing to wait for satisfaction once you realize the potential pleasures that are available to you. even if you try to fight against the changes, your resistance fades when you have the status of your message. your current communication goals. unfortunately, your attempts to prove your desire for pleasure. fortunately, you have a lot of sense. in now, do what you want and say now, but you might also get away with your\n",
      "\n",
      "Batch:    400, loss:  1.2183\n",
      "wise to jump in and take care of it immediately. handling the problem right away can prevent it from developing into a more serious one. even if it's an insignificant mistake, ignoring it is like asking for a major headache later on. save the pain and frustration by being responsible for your future, even if it's not about the quantity of your own and associates, without going over as if it's growing to get your own feelings. you might try to avoid doing more pressing today, but your current negativity could stay back from you if you understand what you\n",
      "\n",
      "Batch:    600, loss:  1.2057\n",
      "anger. you'll be able to keep your dignity intact with a more moderate response. you have entered a very social phase and you would enjoy being around more like-minded people, but you aren't interested in losing your individuality in the crowd. you might even try to do something that enables you to stand first and let go and enjoying the world run its own. you may be feeling very positive today, but you might prefer to keep in the right direction, but you're not just willing to let go of your fantasies. keep your thoughts to yourself until you're lured\n",
      "\n",
      "Batch:    800, loss:  1.1948\n",
      "pragmatic today. toning down your enthusiasm just a notch improves your chances of reaching your goals. you may believe that you have a workable plan in place that will enable you to fulfill your dreams, but it might not turn out quite as sweet as you wish. your thinking is still in the world of your life and be the first step out of time. avoid getting too much. even if you are also tempting, you'll be able to get away with yourself and support your way. you are tempted to act without some of work now. don't worry about\n",
      "\n",
      "Batch:   1000, loss:  1.1850\n",
      "withdraw from others in order to maintain your integrity. you may feel stuck today, as if your creativity is temporarily blocked. your regular routine could fall apart now, making it impossible for you to concentrate on realizing your dreams. however, don't sell yourself short by thinking that you can't do anything at all. although you might understand that you don't have all together, rushing away into a new project or a smarter strategy is to remind you of how much you don't understand. you should be able to avoid being uncomfortable and end up being successful. although you may feel\n",
      "\n",
      "Batch:   1200, loss:  1.1774\n",
      "must finish your research and actually put what you've learned to practical use. once you acknowledge that you've uncovered a bottomless pit, you'll be able to stop spinning your intellectual and professional wheels. the time for thinking is over; get to work and apply your wealth of knowledge to getting ahead. you may be struggling with your financial picture today as the moon moves through your 5th house of self-expression. fortunately, you are in the mood and dig yourself into a creative project today, even if you are being focused on more important to do anything in the small drama\n",
      "\n"
     ]
    },
    {
     "data": {
      "application/vnd.jupyter.widget-view+json": {
       "model_id": "13b2e4311a9342489732b82ca7e054ec",
       "version_major": 2,
       "version_minor": 0
      },
      "text/html": [
       "<p>Failed to display Jupyter Widget of type <code>HBox</code>.</p>\n",
       "<p>\n",
       "  If you're reading this message in the Jupyter Notebook or JupyterLab Notebook, it may mean\n",
       "  that the widgets JavaScript is still loading. If this message persists, it\n",
       "  likely means that the widgets JavaScript library is either not installed or\n",
       "  not enabled. See the <a href=\"https://ipywidgets.readthedocs.io/en/stable/user_install.html\">Jupyter\n",
       "  Widgets Documentation</a> for setup instructions.\n",
       "</p>\n",
       "<p>\n",
       "  If you're reading this message in another frontend (for example, a static\n",
       "  rendering on GitHub or <a href=\"https://nbviewer.jupyter.org/\">NBViewer</a>),\n",
       "  it may mean that your frontend doesn't currently support widgets.\n",
       "</p>\n"
      ],
      "text/plain": [
       "HBox(children=(IntProgress(value=0, description='batches', max=1260), HTML(value='')))"
      ]
     },
     "metadata": {},
     "output_type": "display_data"
    },
    {
     "name": "stdout",
     "output_type": "stream",
     "text": [
      "Batch:    200, loss:  1.1525\n",
      "not complete everything you promised, but your honest explanation should be enough for others to understand. tell the truth, but don't turn it into an excuse. continue working hard and others will soon recognize the quality of your work. you're ready for the workweek because you believe that collaborating with others to see things to make the positive atmosphere is enough courage to make a sensible decision for your own impatience and you might even know that you cannot fit your plans into the situation by simply trying to maintain your down-to-earth plan with a positive place in your future,\n",
      "\n",
      "Batch:    400, loss:  1.1442\n",
      "the phone and declare temporary independence from the outside world. for someone who normally likes to be the life of the party, hiding out now can be your secret guilty pleasure. you don't know what to do as the moon joins indecisive neptune in your 3rd house of information. although you may be upset to be overly involved with your people than to take them more than necessarily necessary. you have a chance to share several of your feelings take a bit of time to money several planets in your life, bringing a plan for it won't even be apparent\n",
      "\n",
      "Batch:    600, loss:  1.1392\n",
      "loose ends untied. this may be an all-too-familiar scenario for you, but you should try to forget about recreational activities now until you wrap up some old business. it will be easier to enjoy yourself once you have done the responsible thing and demonstrated your dependability. clean up unfinished chores and can turn your whole overall perspective. the moon's visit to your 9th house of big ideas today and a break from the past won't help you receive the right words while you can't do it will help to be more enjoyable without getting off. you may have to keep\n",
      "\n",
      "Batch:    800, loss:  1.1297\n",
      "off track. managing your time wisely today allows you to be extra productive and your determination gives you the ability to stay on schedule. it takes a lot to pull you off task now, so you should be able to finish whatever projects you start. but don't be overly concerned about the situation in a relationship, yet it's smarter to take time to think about your upcoming responsibilities, unfortunately, you may be discouraged by others in a new situation into an exciting day with an end of the day. unfortunately, your current dreams of the future will settle down to\n",
      "\n",
      "Batch:   1000, loss:  1.1236\n",
      "seriously today and expect everyone else to acknowledge your authority. unfortunately, no matter how much you want to help others, they still must decide for themselves. offer whatever advice you can and then give them sufficient space and time to choose according to their own criteria. patience comes to you today when you also want to make a commitment to talk about your feelings. unfortunately, you may not be able to concentrate on the most important effort to make someone happen. be careful that you might have to set aside your grandiose who helps you see positive thoughts to go.\n",
      "\n",
      "Batch:   1200, loss:  1.1145\n",
      "of your life. the time is now; make up your mind and follow your heart. it's challenging to find a healthy balance in your relationships now, for you may simultaneously be told yes and no every time you ask a simple question. you are willing to go over the edge in the same story. you may be feeling a bit confused because it feels like you're not gaining strength to your own emotions. fortunately, your current thoughts aren't made or that you are excited or you could inadvertently create a gulf between you try to retreat or the moon in\n",
      "\n"
     ]
    },
    {
     "data": {
      "application/vnd.jupyter.widget-view+json": {
       "model_id": "cdd537067900490986feba3615d2f9b0",
       "version_major": 2,
       "version_minor": 0
      },
      "text/html": [
       "<p>Failed to display Jupyter Widget of type <code>HBox</code>.</p>\n",
       "<p>\n",
       "  If you're reading this message in the Jupyter Notebook or JupyterLab Notebook, it may mean\n",
       "  that the widgets JavaScript is still loading. If this message persists, it\n",
       "  likely means that the widgets JavaScript library is either not installed or\n",
       "  not enabled. See the <a href=\"https://ipywidgets.readthedocs.io/en/stable/user_install.html\">Jupyter\n",
       "  Widgets Documentation</a> for setup instructions.\n",
       "</p>\n",
       "<p>\n",
       "  If you're reading this message in another frontend (for example, a static\n",
       "  rendering on GitHub or <a href=\"https://nbviewer.jupyter.org/\">NBViewer</a>),\n",
       "  it may mean that your frontend doesn't currently support widgets.\n",
       "</p>\n"
      ],
      "text/plain": [
       "HBox(children=(IntProgress(value=0, description='batches', max=1260), HTML(value='')))"
      ]
     },
     "metadata": {},
     "output_type": "display_data"
    },
    {
     "name": "stdout",
     "output_type": "stream",
     "text": [
      "Batch:    200, loss:  1.0961\n",
      "a distant shore begins with making a plan, acquiring resources and preparing for your trip. you're not ready to leave yet, so use your time wisely while you have it available. there's no need to make a fuss about your current activities today, even if you're trying to get others to notice. your friends may fall their noisy dilemma because you're not interested in the truth. you are able to see a new plan in immediate environment, but it could be even more aware of your own strategy. you are eager to make a decision to someplace even more about\n",
      "\n",
      "Batch:    400, loss:  1.0874\n",
      "your mind is racing and you're tempted to agree to nearly anything just to quiet your worry. unfortunately, this kind of logic won't really solve the problem. instead of taking the easy way out and then being unable to fulfill your promises, say what you're truly feeling. the real answers now is to stay in the finish line and part in the recognition that you cannot figure out where you can or the outcome you seek. the good reason to let your goals as you start a clear under pressure to you. you may be pleasantly surprised by what you\n",
      "\n",
      "Batch:    600, loss:  1.0856\n",
      "aggressive to others. you might even think that you are being extremely logical today, only to have someone tell you that your ideas are impossible to follow. instead of explaining every little detail, speak softer and say less. you really don't have to use that many words to get your feelings out into the spotlight might be a total and success as long as you make your bases in the present moment. even if you're trying to keep up with your changing escape. you can take the best approach to this time. you may try to float into a day\n",
      "\n",
      "Batch:    800, loss:  1.0778\n",
      "balance between your single-minded ambition and your adventurous spirit. sometimes being a hardworking capricorn really does pays off. if you have been responsible all along, now you get to play. however, others may be jealous, especially if they still have unfinished chores that are infringing on their ability to have fun. still, you can be careful because you don't want to answer your other people's needs to finish whatever you start. you may be feeling so temper today that you didn't need to take on more than you can stir up a more complicated issue. consciously flowing with the possibilities\n",
      "\n",
      "Batch:   1000, loss:  1.0699\n",
      "or a political cause might sound like a good idea now, since you could be looking for a new hobby. but you're not going to be happy unless your distraction also has a positive social impact. although you almost always enjoy mingling with others, choose something where you can see things from others today. but don't get to be a bit of love and going to run into a long way. you may not have the best time to make a balancing your feelings. you may feel as if you're being bounced around by your life today, but your current\n",
      "\n",
      "Batch:   1200, loss:  1.0661\n",
      "it seems as if everything is going your way today, but there is more happening than is apparent. others see you as competent and your actions as straightforward, but you may be more uncertain than they realize. it's okay that you have a lot going on within the realms of your imagination now. your dreams become a real problem. but you can change your attitude and your actions will be more complicated than you thought. you are confident about your future, but you're able to integrate it in others in your perspective. still, you might not have a lot of\n",
      "\n"
     ]
    },
    {
     "data": {
      "application/vnd.jupyter.widget-view+json": {
       "model_id": "15399cb6e5f84a0f9f0615dbb348916d",
       "version_major": 2,
       "version_minor": 0
      },
      "text/html": [
       "<p>Failed to display Jupyter Widget of type <code>HBox</code>.</p>\n",
       "<p>\n",
       "  If you're reading this message in the Jupyter Notebook or JupyterLab Notebook, it may mean\n",
       "  that the widgets JavaScript is still loading. If this message persists, it\n",
       "  likely means that the widgets JavaScript library is either not installed or\n",
       "  not enabled. See the <a href=\"https://ipywidgets.readthedocs.io/en/stable/user_install.html\">Jupyter\n",
       "  Widgets Documentation</a> for setup instructions.\n",
       "</p>\n",
       "<p>\n",
       "  If you're reading this message in another frontend (for example, a static\n",
       "  rendering on GitHub or <a href=\"https://nbviewer.jupyter.org/\">NBViewer</a>),\n",
       "  it may mean that your frontend doesn't currently support widgets.\n",
       "</p>\n"
      ],
      "text/plain": [
       "HBox(children=(IntProgress(value=0, description='batches', max=1260), HTML(value='')))"
      ]
     },
     "metadata": {},
     "output_type": "display_data"
    },
    {
     "name": "stdout",
     "output_type": "stream",
     "text": [
      "Batch:    200, loss:  1.0466\n",
      "consider what you want to replace it. concentrating on your current needs now can have a positive impact on your future. your thoughts may be running in many directions today, but communicator mercury's shift into your 12th house of secrets hides your inner process from others. you are self-contained now and your loved ones as a friend of good. you might be pleasantly surprised with how you feel like you have a sensible plan, even if you are trying to take on too much attention on your current needs to keep your next clever and just take it for anyone\n",
      "\n",
      "Batch:    400, loss:  1.0432\n",
      "especially if you are concerned with fulfilling your own needs. ultimately, you'll do better if you follow your dreams, even if they conflict with the wishes of others. proceed slowly and deliberately; acting overly assertive will only add to your problems. you're motivated to put your dreams into words today, even if you reveal a very few days of the current situation. you may feel as if you're being pulled off by denying your feelings today, and it can be a major problem. however, you may be ready to maintain a cool perspective. don't judge yourself for the horizon could\n",
      "\n",
      "Batch:    600, loss:  1.0379\n",
      "optimistic sagittarius. but venus' warmth is somewhat cooled by austere saturn, making it tougher to connect with others in a lighthearted manner. you can still come through for those you love as long as you concentrate on being real, rather than on being liked. your key planet mercury is preparing to your success. you need to limit your position, even if you have a common sense and it's not easy to make a significant decision today because your confidence is in your deep point. you're motivated to go of your regular routine can be so outrageous that you forget what\n",
      "\n",
      "Batch:    800, loss:  1.0345\n",
      "activity. you might be so rigid today with the moon in your sign, that you miss out on opportunities that are all around you. however, you may not even realize that your determination can make you stubborn over the wrong issues now. naturally, you have the power to maintain your position, even if you have enough courage to break out of a boring status quo. you like the idea of how you want to just go anywhere when there's a world at stake for yourself and others. however, you may be very self-critical if you are seen as emotions seems\n",
      "\n",
      "Batch:   1000, loss:  1.0274\n",
      "taste. respecting everyone else's boundaries is always a smart idea. others around you seem to be enjoying the day, yet you are challenged with a familiar dilemma. you are being asked to choose between holding on to the status quo and making changes that will cut you loose from your past. you may be so bored with your own home today, yet these issues can be put in the way of your success. you are so enthused about what's going on for a lesson that will be able to come on your best allies. at this may be a bit\n",
      "\n",
      "Batch:   1200, loss:  1.0219\n",
      "be able to return to the fun and games on another day once your work is done. you need to share your needs with those in your immediate environment today as the moon enters your 3rd house of communication. but be careful, because you are tempted to become overly attached to the people involved that you don't have all the way you want to get your own in a more practical manner. you are facing an emotional breakthrough that is coming from the start of your authority. don't wait for a better time to start your best friend now, you\n",
      "\n"
     ]
    },
    {
     "data": {
      "application/vnd.jupyter.widget-view+json": {
       "model_id": "1cfb494d420249b8a788ccbce7976e5c",
       "version_major": 2,
       "version_minor": 0
      },
      "text/html": [
       "<p>Failed to display Jupyter Widget of type <code>HBox</code>.</p>\n",
       "<p>\n",
       "  If you're reading this message in the Jupyter Notebook or JupyterLab Notebook, it may mean\n",
       "  that the widgets JavaScript is still loading. If this message persists, it\n",
       "  likely means that the widgets JavaScript library is either not installed or\n",
       "  not enabled. See the <a href=\"https://ipywidgets.readthedocs.io/en/stable/user_install.html\">Jupyter\n",
       "  Widgets Documentation</a> for setup instructions.\n",
       "</p>\n",
       "<p>\n",
       "  If you're reading this message in another frontend (for example, a static\n",
       "  rendering on GitHub or <a href=\"https://nbviewer.jupyter.org/\">NBViewer</a>),\n",
       "  it may mean that your frontend doesn't currently support widgets.\n",
       "</p>\n"
      ],
      "text/plain": [
       "HBox(children=(IntProgress(value=0, description='batches', max=1260), HTML(value='')))"
      ]
     },
     "metadata": {},
     "output_type": "display_data"
    },
    {
     "name": "stdout",
     "output_type": "stream",
     "text": [
      "Batch:    200, loss:  1.0044\n",
      "you also worry that the opportunity for improvement could fade if you don't speak up right now. nevertheless, it's smarter to smile and save your words for another day when others will be more receptive to your feedback. you don't want to stir up any trouble today, especially if your shenanigans could lessen your opportunities for pleasure. being practical and give you a story that's better than you can. it may take a rather delicate situation, you're still in an issue that's must go too far as you try to regain your own point by trying to make a wrong\n",
      "\n",
      "Batch:    400, loss:  1.0032\n",
      "trying to remain neutral. unfortunately, your words can have more consequences than you expect and might even make things worse. before you open your mouth, consider whether your disclosure will actually improve the situation. it may be wiser to remain silent for a while longer. obsessing about something you should be happening beneath the limits and these thinking is a bit of common sense than you realize. be a few less intense people than actually feel. although you're able to concentrate your efforts on the same old way that you can be so enticing you might feel good about your\n",
      "\n",
      "Batch:    600, loss:  1.0012\n",
      "your 12th house of secrets. even a difficult experience can quickly morph into a positive one if you exude confidence, rather than doubt. you can change the game now by preemptively exploring the hidden realms of your subconscious. happiness comes from the clues you find buried deep in the shadows. you want to be free of the responsibilities that have been holding you back recently. your ruling planet mercury is enough, but you might not get what you want, but it might not be the own conclusions. nevertheless, you may be quite clever, don't fall prey to someone else's harsh\n",
      "\n",
      "Batch:    800, loss:  0.9963\n",
      "yourself no matter how the day plays out. you may come close to losing your temper today if something at home doesn't conform to your heart's desire. it's not that an unexpected exchange will catch you off guard; it's just that you could be compulsive about how you want your day to unfold. your emotions linger for choices are upset today. your positive attitude is less significant than telling you what to do. it's difficult to reveal your job today, but you may not realize that any longer. being honest in your 5th house of romance and wishes could shock\n",
      "\n",
      "Batch:   1000, loss:  0.9936\n",
      "willingness to partake in a meaningful dialogue may be just what's needed to take a relationship to a new level of intimacy. an overly emotional interaction with a friend or partner today reveals that he or she has more going on now than you previously thought. you can tell that you're serious until you're currently good about your current lack of productivity and get to the best of others now; you don't feel the one of the ordinary and not make a better off to reach a point of view and the moon in your 7th house of others. however,\n",
      "\n",
      "Batch:   1200, loss:  0.9862\n",
      "solutions. however, this strategy won't work now. nevertheless, you can still delve into a relationship dilemma without making matters worse as long as you don't make any long-lasting decisions today. you may be overwhelmed by the mixed signals you are receiving today. one moment, all systems are go. but, then, just a few minutes later, everything is on hold. although you could act impulsively and give yourself time to listen to the support you receive could have more intimacy in your mind. you may question your own abilities with the optimistic sagittarius moon in your social 11th house of community.\n",
      "\n"
     ]
    },
    {
     "data": {
      "application/vnd.jupyter.widget-view+json": {
       "model_id": "08b6397a3a984762bdd1caf93e34bea3",
       "version_major": 2,
       "version_minor": 0
      },
      "text/html": [
       "<p>Failed to display Jupyter Widget of type <code>HBox</code>.</p>\n",
       "<p>\n",
       "  If you're reading this message in the Jupyter Notebook or JupyterLab Notebook, it may mean\n",
       "  that the widgets JavaScript is still loading. If this message persists, it\n",
       "  likely means that the widgets JavaScript library is either not installed or\n",
       "  not enabled. See the <a href=\"https://ipywidgets.readthedocs.io/en/stable/user_install.html\">Jupyter\n",
       "  Widgets Documentation</a> for setup instructions.\n",
       "</p>\n",
       "<p>\n",
       "  If you're reading this message in another frontend (for example, a static\n",
       "  rendering on GitHub or <a href=\"https://nbviewer.jupyter.org/\">NBViewer</a>),\n",
       "  it may mean that your frontend doesn't currently support widgets.\n",
       "</p>\n"
      ],
      "text/plain": [
       "HBox(children=(IntProgress(value=0, description='batches', max=1260), HTML(value='')))"
      ]
     },
     "metadata": {},
     "output_type": "display_data"
    },
    {
     "name": "stdout",
     "output_type": "stream",
     "text": [
      "Batch:    200, loss:  0.9725\n",
      "to be comfortable. but there's no reason to grow combative, even if someone is pushing your buttons. take everything in stride, even if your plans encounter resistance from someone who thinks they know what's best for you. you may be somewhat ambivalent today about the potential of a particular romance. although you could be tempted to avoid a rational thinking today, but it can be time to actually thought of anything that you might have taken under a lot of responsibility today if you push beyond the negativity and be bringing your words to be more effective than you expect.\n",
      "\n",
      "Batch:    400, loss:  0.9693\n",
      "truth out of shape. everything may seem overly important now, as if this present moment is more significant than all others. it's healthier to take the current truth with a grain of salt, for your perspective will return to normal in the days ahead. your world may seem a bit surreal now because you're able to see further into your future as the capricorn new moon stirs your 11th house of hopes and dreams. you may try to schedule the flow into your life now makes you feel the shifting after your actions are aligned with the moon in your\n",
      "\n",
      "Batch:    600, loss:  0.9663\n",
      "of searching for something to complain about now, indulge your fantasies while you still can. you might not fully understand everything that's going on at home or within your family now, and you may not be all that eager to figure it out. sometimes it's smarter to just leave things by talking about what's happening now. you are driven to keep your guard when you want to do something about showing your own needs to lead to the wrong someone at once. but you can make things through your current activities because it's not that your day is after the\n",
      "\n",
      "Batch:    800, loss:  0.9637\n",
      "have to lose track of where you're standing now and where you want to go. ironically, staying connected with the bigger picture will ultimately make navigation in the present moment easier to handle. you are being lured into a dreamy world of illusions today, but the strength of your convictions is strong enough to create a flow that has an old invitation of a relationship. although you aren't eager to go off today, even if you have to be more flexible in your thinking. things that your job may not arrive in the long run, but you're still aware of\n",
      "\n",
      "Batch:   1000, loss:  0.9606\n",
      "critical analysis out of the question. contrary to what you might think, you don't have to struggle. let your intuition guide you now, even if you don't have all the facts yet to back it up. what you say today isn't as important as what you think. it's the thoughts you keep to yourself that determine the course of control is about your heart. you will be happier if you aren't necessarily as you think about everything you love. you may be feeling quite working in a long walk if you don't realize but you can sound good enough to\n",
      "\n",
      "Batch:   1200, loss:  0.9558\n",
      "needs and others will be more likely to listen. it's not fun being bossed around by someone who isn't as efficient or smart as you are, and today you're not willing to do all the work while someone else gets the credit. fortunately, there is no need to do anything drastic to draw attention to yourself. your social process could get in the way of having as the data begins to return in order to turn your life back on the ground you need to concentrate the other positive side, but you may grow into a very productive attitude kick\n",
      "\n"
     ]
    },
    {
     "data": {
      "application/vnd.jupyter.widget-view+json": {
       "model_id": "d365d06f21ee44f2ac607e643c2927cf",
       "version_major": 2,
       "version_minor": 0
      },
      "text/html": [
       "<p>Failed to display Jupyter Widget of type <code>HBox</code>.</p>\n",
       "<p>\n",
       "  If you're reading this message in the Jupyter Notebook or JupyterLab Notebook, it may mean\n",
       "  that the widgets JavaScript is still loading. If this message persists, it\n",
       "  likely means that the widgets JavaScript library is either not installed or\n",
       "  not enabled. See the <a href=\"https://ipywidgets.readthedocs.io/en/stable/user_install.html\">Jupyter\n",
       "  Widgets Documentation</a> for setup instructions.\n",
       "</p>\n",
       "<p>\n",
       "  If you're reading this message in another frontend (for example, a static\n",
       "  rendering on GitHub or <a href=\"https://nbviewer.jupyter.org/\">NBViewer</a>),\n",
       "  it may mean that your frontend doesn't currently support widgets.\n",
       "</p>\n"
      ],
      "text/plain": [
       "HBox(children=(IntProgress(value=0, description='batches', max=1260), HTML(value='')))"
      ]
     },
     "metadata": {},
     "output_type": "display_data"
    },
    {
     "name": "stdout",
     "output_type": "stream",
     "text": [
      "Batch:    200, loss:  0.9412\n",
      "but reining in control by paying attention to details won't work either, for someone else may be the source of trouble. practice detachment and let your plans unravel if they must. don't worry; you'll be able to put the pieces back together in a way that will work better than you expect. it's not that you can see multiple impact on your friends and get your adrenaline to it. you are tempted to manage a new approach right for you now, but your actions are not as important to let the conversation process your own feelings, even if they are\n",
      "\n",
      "Batch:    400, loss:  0.9404\n",
      "today, but you will probably try to keep your emotions in check. you would be wise to redirect your pent-up energy into your work. or, you could step up your exercise program to help you release your stress. although it's crucial to acknowledge your feelings, it's up to you to decide how to express them. you might feel as if your head a conflict with a difficult person could make many exciting activities, but you might not want to present your plans even if you don't have a solid plan by what you need to do before sharing your thoughts\n",
      "\n",
      "Batch:    600, loss:  0.9382\n",
      "invest your resources wisely. don't worry about what others think of your actions now that the sun-mars conjunction is firing up your 1st house of personality. but instead of ignoring your friends completely, explain your motives to them. sharing your strategies for the big changes ahead -- even if they aren't as practical as others might be at a current problem right away. your friends and start up to school to help you put a face more days of your creative helps you reach your goals. you may be feeling a bit embarrassed about your personal promises who might upset\n",
      "\n",
      "Batch:    800, loss:  0.9376\n",
      "hijacking your day. it's no fun to lose your temper, so get your concerns out into the open instead of naively assuming that things will improve on their own. communicating with others seems so easy today that you may think that you're missing something. unfortunately, you are probably glossing over a good practical one of the potential instead of dealing with your fears. ultimately, the responsibilities may cause you to escape your own ideas, even if you need to face a reality check. however, this isn't time to be the shoulder to your immediate actions today. you are tempted to\n",
      "\n",
      "Batch:   1000, loss:  0.9329\n",
      "can trust. your confusion level rises today, especially if you believed that you were progressing, only to find that you have run into an obstacle. thankfully, this isn't necessarily a long-lasting concern. the solution to your current delay may be as easy as making a renewed commitment to your goals. but if you are careful with your words, but you might not be ready to see who taking the day to be your similarities. fortunately, your good intentions may be running high. you may be better off strong that you feel like it is. thankfully, you are able to transmute\n",
      "\n",
      "Batch:   1200, loss:  0.9282\n",
      "will unfold. nevertheless, the earthy taurus moon helps to filter out some of the unreliable information now, so it's still safe to trust your senses in the immediate moment without trying to figure out what may happen next. the moon's visit to your bucolic sign normally helps you find the solace you seek. don't worry about the practicality of your own private and because the moon's return to your sign can bring you more information than you in the future. the moon's visit to your 8th house of deep sharing, let go of your desire to take on a life\n",
      "\n"
     ]
    },
    {
     "data": {
      "application/vnd.jupyter.widget-view+json": {
       "model_id": "32ee5639b35e45d0841733d6684696c2",
       "version_major": 2,
       "version_minor": 0
      },
      "text/html": [
       "<p>Failed to display Jupyter Widget of type <code>HBox</code>.</p>\n",
       "<p>\n",
       "  If you're reading this message in the Jupyter Notebook or JupyterLab Notebook, it may mean\n",
       "  that the widgets JavaScript is still loading. If this message persists, it\n",
       "  likely means that the widgets JavaScript library is either not installed or\n",
       "  not enabled. See the <a href=\"https://ipywidgets.readthedocs.io/en/stable/user_install.html\">Jupyter\n",
       "  Widgets Documentation</a> for setup instructions.\n",
       "</p>\n",
       "<p>\n",
       "  If you're reading this message in another frontend (for example, a static\n",
       "  rendering on GitHub or <a href=\"https://nbviewer.jupyter.org/\">NBViewer</a>),\n",
       "  it may mean that your frontend doesn't currently support widgets.\n",
       "</p>\n"
      ],
      "text/plain": [
       "HBox(children=(IntProgress(value=0, description='batches', max=1260), HTML(value='')))"
      ]
     },
     "metadata": {},
     "output_type": "display_data"
    },
    {
     "name": "stdout",
     "output_type": "stream",
     "text": [
      "Batch:    200, loss:  0.9143\n",
      "for your contribution to a project, don't try so hard to make yourself look good. if you take your little song and dance too far, you might inadvertently overstep your bounds. you are better off by just working hard and then letting the chips fall where they may. you are extra creative than you can possibly deliver. your most problems seem to be out of fun, for your brilliance to close friends and family can be quite intense now than they are willing to take a risk and share your vulnerability with your chances of more personal situation with the\n",
      "\n",
      "Batch:    400, loss:  0.9153\n",
      "that the moon is in your nurturing sign. but you might feel as if everything is moving along too quickly for your taste, prompting you to find ways to slow down. remember, time is on your side; be patient and pay attention to what's happening in the present moment rather than trying to manipulate events in order to get what you want. you might feel like the eye today because you are being emotionally on your job and you may not be considering all the facts to finish in order to demonstrate your productivity. if you are being able to\n",
      "\n",
      "Batch:    600, loss:  0.9135\n",
      "don't fall your way today, you're able to set aside your expectations and enjoy yourself anyhow. if boredom turns to dissatisfaction, come back to the present moment where you can change your attitude and upgrade the entire day. you might break out in spontaneous fits of laughter today. your key planet venus receives a boost from confidence from boastful jupiter, making it tough to be too serious. you aren't necessarily interested in hiding your glee now, but you don't necessarily want to flaunt it, either. keep in your impossible for your day is more important than any possible to do\n",
      "\n",
      "Batch:    800, loss:  0.9107\n",
      "even if your feelings are radical. don't hold back; this is a chance for you to be uniquely you. an exciting breakthrough at work is possible today and it could ultimately affect your finances in a positive way. you have an excess of innovative ideas now that you can bring positive results on what's happening. although you can be a good idea and you probably will be able to work on the home front of the truth. you might want to join your emotions in a back and you don't need to look at you now, but it's smarter to\n",
      "\n",
      "Batch:   1000, loss:  0.9071\n",
      "appear. however, there is a direct relationship between your self-esteem and your earning potential, so find time to uncover any emotional blocks that are still in the way of your prosperity. your current self-confidence may not last forever, but you still can use it today to put critical events into the day if you don't establish limits on your home and family. your key planet venus is visiting your 10th house of public relationships and suddenly stubbornly holding a conservative one. you assume that you don't have to make a decision now, but don't expect anyone into the one you\n",
      "\n",
      "Batch:   1200, loss:  0.9059\n",
      "magic of the day take you wherever it does. many of your friends and associates are looking to you for guidance during these intense times, even if you aren't interested in accepting a leadership role today. it's not that you are incapable of being a good manager; it's just that you would be more concerned than doing the true someone that you could miss your chance for yourself by letting some friends take a way to let it today. there's nothing wrong with taking your favor by authority, rather than waving a flag while you're still unsure about what you're\n",
      "\n"
     ]
    },
    {
     "data": {
      "application/vnd.jupyter.widget-view+json": {
       "model_id": "17e0a7474add4760a05aa7391a83009a",
       "version_major": 2,
       "version_minor": 0
      },
      "text/html": [
       "<p>Failed to display Jupyter Widget of type <code>HBox</code>.</p>\n",
       "<p>\n",
       "  If you're reading this message in the Jupyter Notebook or JupyterLab Notebook, it may mean\n",
       "  that the widgets JavaScript is still loading. If this message persists, it\n",
       "  likely means that the widgets JavaScript library is either not installed or\n",
       "  not enabled. See the <a href=\"https://ipywidgets.readthedocs.io/en/stable/user_install.html\">Jupyter\n",
       "  Widgets Documentation</a> for setup instructions.\n",
       "</p>\n",
       "<p>\n",
       "  If you're reading this message in another frontend (for example, a static\n",
       "  rendering on GitHub or <a href=\"https://nbviewer.jupyter.org/\">NBViewer</a>),\n",
       "  it may mean that your frontend doesn't currently support widgets.\n",
       "</p>\n"
      ],
      "text/plain": [
       "HBox(children=(IntProgress(value=0, description='batches', max=1260), HTML(value='')))"
      ]
     },
     "metadata": {},
     "output_type": "display_data"
    },
    {
     "name": "stdout",
     "output_type": "stream",
     "text": [
      "Batch:    200, loss:  0.8910\n",
      "you are better off now by being a little more practical and a lot less of a trickster. you are agitated today because you don't want to be constrained by your social obligations. unfortunately, it's very hard now to focus on the tasks at hand. there may actually be too much at this dilemma while you are more sympathetic to other people's nerves when it gets even out of your work. instead of wasting time waiting for a meltdown or developing your perspective at you. however, you could be so eager to get serious information from your responsibilities, you don't\n",
      "\n",
      "Batch:    400, loss:  0.8913\n",
      "favor by helping you to be more effective, it can also add to your stress if circumstances change. your insistence on maintaining the status quo could be your downfall today. a little flexibility on your part can ease a difficult situation if you are stuck. don't miss the chance to play with so don't let all you have to do anything to the fun, you are concerned about what you cannot do what's happening, but your current optimism is your greatest strength now. don't let this can be like others seem even worse than usual. if you are willing to\n",
      "\n",
      "Batch:    600, loss:  0.8901\n",
      "even if you believe that many exciting experiences are waiting around the corner, you aren't ready for them just yet. fortunately, the energy picks up later in the day when the possibility of fun becomes a motivational factor. but don't hesitate until it's too late; plan for pleasure while there's still enough time to make it happen. you like the idea of slowing down and concentrate your energy on the possibilities before it right. you're itching to respond right to someone who is acting on your reason to take care tasks to have a waste of precious time later on.\n",
      "\n",
      "Batch:    800, loss:  0.8878\n",
      "before signing an agreement or handing over any cash. and most importantly, be clear with your intentions and precise with your words or things could get muddled quickly. you may have a lot of good ideas that all seem worth pursuing today, but you cannot possibly turn every inspirational flash into immediate action. instead of trying to make others up the future. you may feel like a lot of a awareness today that it's more difficult to let your career fall into a sweet and exciting day could stir up and there is little doubt that you can't do the\n",
      "\n",
      "Batch:   1000, loss:  0.8855\n",
      "that you perceive around you now. instead of looking for depth and intensity, keep it light and easy so you can relax and enjoy yourself. you might be extra busy today, especially if you have lots of loose ends to tie up prior to going out and having fun. it may be an excellent strategy to shift your current mood. you may feel anxious today to avoid getting caught up in what you have to say. you are often ready to slow down today because you are afraid of being rejected. if you go ahead and take a risk, at\n",
      "\n",
      "Batch:   1200, loss:  0.8836\n",
      "could also realize that your old values are out of sync with what you want to do now. there's no hurry, so step slowly into your future. if you move at your own pace, you can regain fiscal integrity sooner than you think. getting along nicely with others is more difficult than usual today. you don't have to establish trouble later in the day. the new moon in your 8th house of shared sign is a reminder that your feelings are more important than just observing everyone's questions about getting past the change in your fantasies. you could be in\n",
      "\n"
     ]
    },
    {
     "data": {
      "application/vnd.jupyter.widget-view+json": {
       "model_id": "fadbb93d84034a35b7a193d38a113882",
       "version_major": 2,
       "version_minor": 0
      },
      "text/html": [
       "<p>Failed to display Jupyter Widget of type <code>HBox</code>.</p>\n",
       "<p>\n",
       "  If you're reading this message in the Jupyter Notebook or JupyterLab Notebook, it may mean\n",
       "  that the widgets JavaScript is still loading. If this message persists, it\n",
       "  likely means that the widgets JavaScript library is either not installed or\n",
       "  not enabled. See the <a href=\"https://ipywidgets.readthedocs.io/en/stable/user_install.html\">Jupyter\n",
       "  Widgets Documentation</a> for setup instructions.\n",
       "</p>\n",
       "<p>\n",
       "  If you're reading this message in another frontend (for example, a static\n",
       "  rendering on GitHub or <a href=\"https://nbviewer.jupyter.org/\">NBViewer</a>),\n",
       "  it may mean that your frontend doesn't currently support widgets.\n",
       "</p>\n"
      ],
      "text/plain": [
       "HBox(children=(IntProgress(value=0, description='batches', max=1260), HTML(value='')))"
      ]
     },
     "metadata": {},
     "output_type": "display_data"
    },
    {
     "name": "stdout",
     "output_type": "stream",
     "text": [
      "Batch:    200, loss:  0.8703\n",
      "of fact and fiction. this complex tapestry entangles your imagination if you overanalyze the situation. be careful, for your false sense of accuracy can trick you into making a decision based on an incorrect assumption. instead of forcing the issue, just appreciate the moment. it should be easier to sort yourself out in a few days. your natural no-nonsense approach to your desire to help helps you to express yourself in the process. you can feel clever enough to maintain your leadership role today. you may be more successful today if you let someone hearing the hook too easily, so\n",
      "\n",
      "Batch:    400, loss:  0.8721\n",
      "a group. you may believe that someone is exerting unnecessary control over you now and you aren't happy about it. rather than quietly avoiding a direct confrontation, you're eager to face it head-on. unfortunately, if you believe that you are right, the dynamics can take a turn for the worse. however, you could be quite a lot of time now, which doesn't mean you have an immediate plan to get what you want. unfortunately, you can have it aside a recent emotional position that you would normally skip. it's not easy for you to explain your dreams to have something\n",
      "\n",
      "Batch:    600, loss:  0.8711\n",
      "don't appreciate how you process information. you need time to integrate recent experiences, so give yourself permission to enjoy yourself instead of running around in circles. you may be quite insistent these days because you are driven by mercury, venus and mars all visiting your 12th house of destiny. you are often the one of the spotlight now that you don't know which way to turn. it's easier to take a bit of time to turn it into a little fun. you may be feeling the pressure of a relationship or relationship today, which could lead to a deeper relationship\n",
      "\n",
      "Batch:    800, loss:  0.8684\n",
      "be wise to consider how to address their concerns before you completely shut them out. this could be a significant opportunity for you to improve your game, rather than complaining about others who don't appreciate what you do. you might actually be able to finish your work because you are not as likely to share your ideas with a trusted friend can have a wonderful opportunity now. it's crucial to are thinking about what you want today and could experience your own emotional issues. although you might feel as if you're at a fork in the road, but a heavy\n",
      "\n",
      "Batch:   1000, loss:  0.8655\n",
      "to prevent yourself from getting too emotional. thankfully, your imagination isn't restrained today by the facts alone; you're able to envision a more positive scenario, allowing you to paint an optimistic picture instead of just passively responding to someone's current problems. be courageous and inspire others with your passionate dreams today. however, it's hard to know what's on your mind at being flexible. you are more concerned about hiding your feelings with someone you trust. you may be feeling more aware of others doing as a lack of support and take all the time in the world, but it's not\n",
      "\n",
      "Batch:   1200, loss:  0.8651\n",
      "the energy mellows later this evening. you may be quite eager to get going today, but it's not yet time to jump the gun. don't rush anything; you will intuitively know the exact moment when you should make your move. keep in mind that your mental preparation is a key ingredient in creating success for your current enterprise. you are being tested to determine if you can be more serious than you actually are now. you are doing a bit of emotional detachment and then be willing to face an unconventional desires in your life. you are ready to tell\n",
      "\n"
     ]
    },
    {
     "data": {
      "application/vnd.jupyter.widget-view+json": {
       "model_id": "e53a693d438d4e1b9994eeb6e975f381",
       "version_major": 2,
       "version_minor": 0
      },
      "text/html": [
       "<p>Failed to display Jupyter Widget of type <code>HBox</code>.</p>\n",
       "<p>\n",
       "  If you're reading this message in the Jupyter Notebook or JupyterLab Notebook, it may mean\n",
       "  that the widgets JavaScript is still loading. If this message persists, it\n",
       "  likely means that the widgets JavaScript library is either not installed or\n",
       "  not enabled. See the <a href=\"https://ipywidgets.readthedocs.io/en/stable/user_install.html\">Jupyter\n",
       "  Widgets Documentation</a> for setup instructions.\n",
       "</p>\n",
       "<p>\n",
       "  If you're reading this message in another frontend (for example, a static\n",
       "  rendering on GitHub or <a href=\"https://nbviewer.jupyter.org/\">NBViewer</a>),\n",
       "  it may mean that your frontend doesn't currently support widgets.\n",
       "</p>\n"
      ],
      "text/plain": [
       "HBox(children=(IntProgress(value=0, description='batches', max=1260), HTML(value='')))"
      ]
     },
     "metadata": {},
     "output_type": "display_data"
    },
    {
     "name": "stdout",
     "output_type": "stream",
     "text": [
      "Batch:    200, loss:  0.8544\n",
      "make perfect sense to you. don't waste energy justifying your logic; just admit what you want and move on. you have a much better shot at satisfaction if you don't try to convince others that your way is the only way. your ruling planet venus joins dark pluto today to stir up a hornet's nest of expression or defending discretionary activities. you may get to be a playful emotional breakthrough at home today to lift your feelings and then let them have the best way to make satisfaction any less ideas, so you don't have much of it for your\n",
      "\n",
      "Batch:    400, loss:  0.8531\n",
      "your thinking to the immediate impact. there's nothing to be gained by attempting to solve all the problems of the world; just make small improvements to your own life and let the ramifications of your actions ripple outward naturally. although you're eager to have a day off, your mind is probably still on your work, especially if the adrenaline person is truly happening. nevertheless, your words may be running around by the end of the day. even if you are normally happy from the situation, it's hard to please everyone exactly what it is. even if you want to have\n",
      "\n",
      "Batch:    600, loss:  0.8517\n",
      "in awkward detail. give your inner poet a chance to speak with diaphanous descriptions as you clear the air of any lingering tension. you may wish you could escape from the hectic pace of the day. luckily, there's magic in the air, enabling you to cast a spell that suspends belief just long enough for you to fulfill your previous commitments. although you may be tempted to listen to your intuition now, you're able to get your work done as the moon joins your key planet venus is in directionless pisces now, even if others are so sensitive that you\n",
      "\n",
      "Batch:    800, loss:  0.8509\n",
      "in that direction, no matter what anyone else says. this is a day of paradoxes as you attempt to focus on what's most important. unfortunately, there is so much happening now that you might be pulled off course. you are tempted to take on more than you can do in the amount of time to accomplish more than you can deliver. it's better to set your goals and take the course of least resistance on it. you wish you could be very productive if you continue to play. you want to be left alone so you can grow to say\n",
      "\n",
      "Batch:   1000, loss:  0.8491\n",
      "gratification. you still need to mitigate any tension that is created in the pursuit of your idyllic visions. don't be discouraged if it takes longer than you wish to reach your dreams. you are moving into a phase when your fantasies can lead you down new avenues of exploration. beautiful venus is now in your 12th house of imagination, activating dreams that can break you out of your old habitual desires. remember, you don't have to materialize your fantasies if you are sure of your current situation. be courageous and hold your emotions in a new and different way of\n",
      "\n",
      "Batch:   1200, loss:  0.8475\n",
      "catch yourself in the process before it's too late. your ruling planet mercury runs into an anxious alignment with exaggerating jupiter, provoking you to stretch the truth. you might even believe that you're clever enough to get away with bending the facts. but you'll still have to deal with the hectic pace now. fortunately, you can always choose to keep up with you in order to get a job done. you may be busy if you run around to a whole lot once you get out the way of a project that could be rewarded for a new adventure, but\n",
      "\n"
     ]
    },
    {
     "data": {
      "application/vnd.jupyter.widget-view+json": {
       "model_id": "db63512c9b314a12b51bddedc1e4c838",
       "version_major": 2,
       "version_minor": 0
      },
      "text/html": [
       "<p>Failed to display Jupyter Widget of type <code>HBox</code>.</p>\n",
       "<p>\n",
       "  If you're reading this message in the Jupyter Notebook or JupyterLab Notebook, it may mean\n",
       "  that the widgets JavaScript is still loading. If this message persists, it\n",
       "  likely means that the widgets JavaScript library is either not installed or\n",
       "  not enabled. See the <a href=\"https://ipywidgets.readthedocs.io/en/stable/user_install.html\">Jupyter\n",
       "  Widgets Documentation</a> for setup instructions.\n",
       "</p>\n",
       "<p>\n",
       "  If you're reading this message in another frontend (for example, a static\n",
       "  rendering on GitHub or <a href=\"https://nbviewer.jupyter.org/\">NBViewer</a>),\n",
       "  it may mean that your frontend doesn't currently support widgets.\n",
       "</p>\n"
      ],
      "text/plain": [
       "HBox(children=(IntProgress(value=0, description='batches', max=1260), HTML(value='')))"
      ]
     },
     "metadata": {},
     "output_type": "display_data"
    },
    {
     "name": "stdout",
     "output_type": "stream",
     "text": [
      "Batch:    200, loss:  0.8370\n",
      "someone may be working behind the scenes to force you to switch your current direction. however, you are inclined to push back if you feel coerced. your stubbornness could get in the way of learning what you need to know, especially if you try to shut others up before they are feeling. you might be far off the wrong these days to get the right way to give you a different plan, even if your head circumstances will serve you as you think. the moon's presence in your 12th house of secrets suggests that the wisest strategy is to be\n",
      "\n",
      "Batch:    400, loss:  0.8362\n",
      "but it's still wise to move slowly. impulsive disclosures tend to be shallow and may not lead to true satisfaction. you might be obsessing about a friend or partner today, whether or not the relationship has a viable future. you may even withdraw from others now because retreating from non-essential interactions can be a healthy part of this transit. you may think that you're being real information out on the way, but someone might not be a bit. fortunately, you can keep your needs if you are quite convincing without worrying about being too hard to untangle your complex agenda.\n",
      "\n",
      "Batch:    600, loss:  0.8363\n",
      "is that venus, the planet of love, is now visiting your sign until may 15, improving your chances to receive more pleasure and wealth. however, you must be careful about overindulging or overspending when you seek sensual and material gratification. you still need to mitigate any tension that is created in your pursuit of social activities can lead to a while much to have a new impact of what you have to do now. on the pressure of your actions is a bit of emotional needs will lead to a relationship now, even if you don't have a final set\n",
      "\n",
      "Batch:    800, loss:  0.8342\n",
      "where you stand, you won't be able to get on with the important business of reorganizing your life. use this time to create or improve a practical plan and then get down to the work of making your dreams come true. you may not be used to taking everything so seriously, but fortunately, you are a fast learner. but you may try to be more casual as you fully because the moon's visit to your 3rd house of communication may be more than you to take a quick and to consider what can make your most of the positive quo,\n",
      "\n",
      "Batch:   1000, loss:  0.8333\n",
      "unexpected torrents of emotional content. although this conversation may be constructive, it's easy to slip into disagreement over your divergent needs. extra attention, combined with awareness, helps you understand that you can have strong opposing perspectives while still supporting each other's dreams. this mutual appreciation can reveal a treasure that will deepen your relationship. even if you seem to know that any attempts is different from everyone else or yet you cannot find it over if you are making trouble today as you try to handle the circumstances by being as productive as processing the facts and discuss your feelings\n",
      "\n",
      "Batch:   1200, loss:  0.8329\n",
      "think. you may take a second stab at reaching your destination and could gain better traction later in the day. but don't turn back; inching forward slowly is still much better than turning around and giving up too soon. you may need to field an unexpected curve ball today that impacts your financial condition. although you might believe that you were following the course of your day to make your tasks as efficiently today. however, you may be so insistent now that your feelings are at work, but you don't have sufficient to accept your friends to show up with\n",
      "\n"
     ]
    },
    {
     "data": {
      "application/vnd.jupyter.widget-view+json": {
       "model_id": "b67549f4daf341e6b1c4f5e7824db368",
       "version_major": 2,
       "version_minor": 0
      },
      "text/html": [
       "<p>Failed to display Jupyter Widget of type <code>HBox</code>.</p>\n",
       "<p>\n",
       "  If you're reading this message in the Jupyter Notebook or JupyterLab Notebook, it may mean\n",
       "  that the widgets JavaScript is still loading. If this message persists, it\n",
       "  likely means that the widgets JavaScript library is either not installed or\n",
       "  not enabled. See the <a href=\"https://ipywidgets.readthedocs.io/en/stable/user_install.html\">Jupyter\n",
       "  Widgets Documentation</a> for setup instructions.\n",
       "</p>\n",
       "<p>\n",
       "  If you're reading this message in another frontend (for example, a static\n",
       "  rendering on GitHub or <a href=\"https://nbviewer.jupyter.org/\">NBViewer</a>),\n",
       "  it may mean that your frontend doesn't currently support widgets.\n",
       "</p>\n"
      ],
      "text/plain": [
       "HBox(children=(IntProgress(value=0, description='batches', max=1260), HTML(value='')))"
      ]
     },
     "metadata": {},
     "output_type": "display_data"
    },
    {
     "name": "stdout",
     "output_type": "stream",
     "text": [
      "Batch:    200, loss:  0.8198\n",
      "memories can cloud your mind, making it harder to hear the positive feedback you receive. try not to let old emotional tapes get in the way of any praise that comes your way now. your key planet jupiter harmonizes with imaginative neptune today, activating your vision of an ideal future. you might be temporarily set your energy for a sudden turn of the roller coaster. nevertheless, practicing secrets can backfire now because you are so much that you can give up a time path about what you are doing that you're in over the next. you don't set up your\n",
      "\n",
      "Batch:    400, loss:  0.8209\n",
      "carving out a bit of time to focus on your home and family is a smart way to get in tune with mercury's move into your 4th house of roots. don't worry about what others say; your inner security counts more than anything else now. although things appear to be moving forward at first, your true feelings today as the moon shifts into your 9th house of big ideas draws you from the ground and claim that you don't normally mind to jump in and help you reach your destination today, even if it's challenging to settle down if you\n",
      "\n",
      "Batch:    600, loss:  0.8208\n",
      "you make up your mind today, but you don't want to decide because you're able to see both sides of the issue. it's not that you don't care about the outcome; it's just that you can imagine a multitude of possibilities from whatever position you choose. it may require a few days before you try to ease the rules line while today's full moon in your 12th house of secrets, reminding you to take a chance, but you must concentrate on the horizon of you won't be able to help someone you so you can see the good intentions and\n",
      "\n",
      "Batch:    800, loss:  0.8208\n",
      "own. you are often able to safely get away with talking about nearly anything that pops into your mind. now, however, even the simplest comment can turn into a major disagreement. almost everything you say today seems to be misunderstood or blown out of proportion. avoid the temptation to prove everyone wrong; you could be the difficult circumstances and you now, for much to do what you can do. you see yourself to stand between you and your sudden uncharacteristic emotions and shake up your way without any unnecessary pressure. your key planet mercury has a direct set of time.\n",
      "\n",
      "Batch:   1000, loss:  0.8196\n",
      "the power to do it. you must stay focused on the present moment instead of holding on to an old dream that gets in the way of your current happiness. if someone questions your life strategy today, avoid falling into the trap of feeling the need to defend your goals. however, if you have all the answers at work with your inner realms is a strong power in the picture. however, you are probably more productive now as you try to balance your current responsibilities with anyone else by yourself, but you must be very logical today, but you may\n",
      "\n",
      "Batch:   1200, loss:  0.8181\n",
      "viable strategy since it will be apparent that you're holding something back. ultimately, it isn't what you choose to share that's problematic now; it's how you deliver the message that counts. you're attracted to something or someone who pushes against your boundaries today, but you're hesitant to act on your feelings. thankfully, your worry about what others may be enough to minimize any emotionally resistance and facing your emotional reaction could help you to set the flow pace in the process. you may be confused by what you're doing today, even if you don't like good to avoid what is\n",
      "\n"
     ]
    },
    {
     "data": {
      "application/vnd.jupyter.widget-view+json": {
       "model_id": "9da39869a265463f94e4798573ceacee",
       "version_major": 2,
       "version_minor": 0
      },
      "text/html": [
       "<p>Failed to display Jupyter Widget of type <code>HBox</code>.</p>\n",
       "<p>\n",
       "  If you're reading this message in the Jupyter Notebook or JupyterLab Notebook, it may mean\n",
       "  that the widgets JavaScript is still loading. If this message persists, it\n",
       "  likely means that the widgets JavaScript library is either not installed or\n",
       "  not enabled. See the <a href=\"https://ipywidgets.readthedocs.io/en/stable/user_install.html\">Jupyter\n",
       "  Widgets Documentation</a> for setup instructions.\n",
       "</p>\n",
       "<p>\n",
       "  If you're reading this message in another frontend (for example, a static\n",
       "  rendering on GitHub or <a href=\"https://nbviewer.jupyter.org/\">NBViewer</a>),\n",
       "  it may mean that your frontend doesn't currently support widgets.\n",
       "</p>\n"
      ],
      "text/plain": [
       "HBox(children=(IntProgress(value=0, description='batches', max=1260), HTML(value='')))"
      ]
     },
     "metadata": {},
     "output_type": "display_data"
    },
    {
     "name": "stdout",
     "output_type": "stream",
     "text": [
      "Batch:    200, loss:  0.8076\n",
      "than it solves. you are usually quick to share what you're thinking, but your impulsive tendencies may have you backtracking later on. ironically, you're probably correct in your analysis of the current situation; it's just that everything is in flux today and you may jump to a conclusion prematurely. fortunately, you want to go out of your way to tell you to be more important to express yourself. your natural pace of your current world will only increase your income now as long as you also aware of your strong energy, which can be a magical moment if you aren't\n",
      "\n",
      "Batch:    400, loss:  0.8086\n",
      "ideas because they are eager to be on the winning team. however, it's not a good idea to abuse your power. if your actions come from selfish desires, you won't be able to keep your following. fortunately, you can go far if you are conscious enough to work toward the common good. you have a lot of exciting ideas now with you can feel as if you are taking one step now, but although you are motivated to be very positive and then just go looking for something that no one will come out of your way to be more\n",
      "\n",
      "Batch:    600, loss:  0.8078\n",
      "your desires left unsatisfied unless you maintain a clear and logical approach in your interactions with others. keep your money in your pocket today because your extravagant taste can land you in financial trouble if you see something that you think you must have. with opulent jupiter opposing stylish venus may have to trouble today because they don't need to make great decisions now. fortunately, you should keep your life in the day and may be more scattered than it really is. just do as you are now, the moon feels right now. in your intense process could stir things\n",
      "\n",
      "Batch:    800, loss:  0.8086\n",
      "the one who must remind everyone else to be responsible now. you may try to avoid being the authority figure because you want to have fun. you're tempted to act defiantly, but it's best to keep your irritation to yourself today and take care of business. don't be discouraged; you'll have time to enjoy yourself. fortunately, you can be done when you once you realize it. you might not be aware that you're still not responsible all that really manage today and you're not ready to ask for what you already need. don't be too judgmental how eager to understand\n",
      "\n",
      "Batch:   1000, loss:  0.8046\n",
      "you do well when you are in control and operating only on blind faith for a short while, but a situation can become uncomfortable if you have to pretend that everything is okay. instead of covering up your uncertainty with foolish behavior, try being honest and letting everyone know exactly where you stand. fortunately, you are able to lighten others if you expect you to take a new idea of what you must do now, but this doesn't mean that you'll actually get them done. even well just be more critical than you think. you might be lost in having\n",
      "\n",
      "Batch:   1200, loss:  0.8057\n",
      "for nothing; today you'll need to put in the labor before reaping the rewards. you are determined to express yourself today, but others may not be able to see past your fierce approach to life. emotional pressures have been building beneath the surface and now might be pushed to an eruption point. even if your extreme reactions feel out of control, you can moderate your outward response by concentrating on your long-term goals rather than trying to prove yourself in a conflict. although your fears may be a bit scattered because most of your emotions. personal emotions are quite volatile\n",
      "\n"
     ]
    },
    {
     "data": {
      "application/vnd.jupyter.widget-view+json": {
       "model_id": "386f435d5df0443096b58170698c3f2f",
       "version_major": 2,
       "version_minor": 0
      },
      "text/html": [
       "<p>Failed to display Jupyter Widget of type <code>HBox</code>.</p>\n",
       "<p>\n",
       "  If you're reading this message in the Jupyter Notebook or JupyterLab Notebook, it may mean\n",
       "  that the widgets JavaScript is still loading. If this message persists, it\n",
       "  likely means that the widgets JavaScript library is either not installed or\n",
       "  not enabled. See the <a href=\"https://ipywidgets.readthedocs.io/en/stable/user_install.html\">Jupyter\n",
       "  Widgets Documentation</a> for setup instructions.\n",
       "</p>\n",
       "<p>\n",
       "  If you're reading this message in another frontend (for example, a static\n",
       "  rendering on GitHub or <a href=\"https://nbviewer.jupyter.org/\">NBViewer</a>),\n",
       "  it may mean that your frontend doesn't currently support widgets.\n",
       "</p>\n"
      ],
      "text/plain": [
       "HBox(children=(IntProgress(value=0, description='batches', max=1260), HTML(value='')))"
      ]
     },
     "metadata": {},
     "output_type": "display_data"
    },
    {
     "name": "stdout",
     "output_type": "stream",
     "text": [
      "Batch:    200, loss:  0.7941\n",
      "you find your way when you feel overwhelmed. you may feel somewhat unstable today as your self-esteem climbs one moment and then dips the next. it's hard to find solid ground on which to plant your feet, even if you want to build a strong sense of security now. no doubt, this is a time of great transition. don't try to play it safe enough to respond to your decision. the moon's return to your sign can put you out of your current direction once you make a pile of trouble. your relentless drive could turn out to play activities\n",
      "\n",
      "Batch:    400, loss:  0.7967\n",
      "you usually do, and your current excitement about belonging to an extended family or a social network can have you sharing your feelings before you have a chance to consider the consequences. it's time to come out of your shell, but don't overwhelm everyone in the process. you cannot hold yourself back once you realize that you have a crucial time to consider what happens as you get to the core of the past. you might be disappointed by your schedule today. it isn't that you must take a proactive role in achieving as the emotional warmth of being a\n",
      "\n",
      "Batch:    600, loss:  0.7953\n",
      "else because you can be certain that you know what's happening, only to discover that you missed an important piece of information. your imagination is still a significant source of inspiration; just remember to do a reality check before jumping to any conclusions. this can be a difficult day if you are willing to stir up and let it. practicing the art of compromise can be quite intense and you could lose your actions if you appear too rigid in the message of your inner relationships are currently more of your future. although you may be highly creative today for\n",
      "\n",
      "Batch:    800, loss:  0.7964\n",
      "person you have to please is yourself. the moon's stressful square with motor-mouthed mercury reminds you to forget about your worries and see how far you can take one great idea, instead. but it's not a day of impractical fantasies, so don't bother trying to escape from the practical side of life. instead of scattering your energy planning in the process. you can set others for your own emotional conflict today, but your personal desires may not be as altruistic as you wish, but you have been a quick resolution in a money or two. you have a good destination,\n",
      "\n",
      "Batch:   1000, loss:  0.7924\n",
      "possible, just say no. being brutally honest is kinder than disappointing others later on. you might think that remaining quiet is a sensible strategy today, but you won't likely avoid conflict by relying on defensive maneuvers. it's tempting to believe that you'll keep your feelings to yourself, but unexpressed emotions have a way of hijacking your day. it's no fun doing something that enables you to see what's real and then stick to your regular routine and get you to rest. the truth is that you are in such your professional work today because you have to return to your\n",
      "\n",
      "Batch:   1200, loss:  0.7909\n",
      "too fast unless you're sure that you really want to go there. you can fall in love with a weird idea or an unusual person today, even if you find yourself somewhere you've never been before. you don't get to recycle your same old fantasies now; familiar territory just won't hold on to your point of view, but it's just that you would be wise to keep up with all the last one of you. although you could be comfortable with others who will be of you for any reason. although you may be comfortable if you keep your feelings\n",
      "\n"
     ]
    },
    {
     "data": {
      "application/vnd.jupyter.widget-view+json": {
       "model_id": "e0c87c2e79f14264945388769a89945f",
       "version_major": 2,
       "version_minor": 0
      },
      "text/html": [
       "<p>Failed to display Jupyter Widget of type <code>HBox</code>.</p>\n",
       "<p>\n",
       "  If you're reading this message in the Jupyter Notebook or JupyterLab Notebook, it may mean\n",
       "  that the widgets JavaScript is still loading. If this message persists, it\n",
       "  likely means that the widgets JavaScript library is either not installed or\n",
       "  not enabled. See the <a href=\"https://ipywidgets.readthedocs.io/en/stable/user_install.html\">Jupyter\n",
       "  Widgets Documentation</a> for setup instructions.\n",
       "</p>\n",
       "<p>\n",
       "  If you're reading this message in another frontend (for example, a static\n",
       "  rendering on GitHub or <a href=\"https://nbviewer.jupyter.org/\">NBViewer</a>),\n",
       "  it may mean that your frontend doesn't currently support widgets.\n",
       "</p>\n"
      ],
      "text/plain": [
       "HBox(children=(IntProgress(value=0, description='batches', max=1260), HTML(value='')))"
      ]
     },
     "metadata": {},
     "output_type": "display_data"
    },
    {
     "name": "stdout",
     "output_type": "stream",
     "text": [
      "Batch:    200, loss:  0.7837\n",
      "the situation. ironically, ignoring your intuition isn't a better strategy because a logical approach won't prove any better. rather than trying to be an authority now, admit you don't have the answers. just practice being a good listener; your compassion will help more than you think. don't try to understand the complexities of a relationship today because mischievous mercury's retrograde turn in your sign today. however, venus enters flexible aquarius visit to your 10th house of public life is temporarily threatened. but it may be very easy for anyone else in your life now because you don't want to be\n",
      "\n",
      "Batch:    400, loss:  0.7845\n",
      "making critical decisions for you or telling you what to do. graciously accept the constructive feedback, and then follow your heart. you cannot hide your feelings easily today because the moon in your fishy sign brings your moods up to the surface and right out in the open. a close friend might not actually be emotionally detached as the serious capricorn moon visits your 7th house of relationships, provoking you to take a few deep breaths to express yourself. although you may not be able to avoid your obligations at the same manner, you are probably up a day or\n",
      "\n",
      "Batch:    600, loss:  0.7825\n",
      "social network, especially if you are reconnecting with old friends. it might be overwhelming at first, but it should grow easier to handle all the new information you now receive. it's a serious mistake to assume you must understand everything right away. there's no hurry; instead, be open to the changing flow without being able to take the confidence out on your own. your current dilemma pits your need to face the truth now that should not be happy with the outcome. you know what you want if you let your friends or co-workers to start something new in your\n",
      "\n",
      "Batch:    800, loss:  0.7823\n",
      "you'll gain a clearer perspective on your future over the days ahead. others usually want to play with you because they know that you are always up for an adventure. although you are looking forward to having a good time, you may find it difficult now to kick back and relax because high-frequency static is crackling across your senses may be on a smart strategy, but don't take a bit of extra effort on your part. remember, a little extra effort on a job well and now that the moon is in your 6th house of work, so you don't\n",
      "\n",
      "Batch:   1000, loss:  0.7822\n",
      "the journey, and not arriving at the destination. it's all too easy for you to slip back into an old, familiar relationship pattern as the moon enters your 7th house of companions. although the moon connects you to the past, there's no guarantee that a tried and true method will work today because active mars is aspecting unruly uranus. instead the direction of your current matter. your fantasies of a minor pleasure. although you want to avoid an unpleasant discussion as a very different strategy. your current willingness to be open-minded and non-judgmental. even if you don't feel the emotional\n",
      "\n",
      "Batch:   1200, loss:  0.7829\n",
      "sure of how much you need to divulge today because you don't want to scare off your best allies. although your story could be compelling, it may be too intense for some of your colleagues to handle. don't just make a one-size-fits-all announcement; instead interact with each person on a one-to-one basis. it's more difficult grows to your mind if it feels right about your heart making the best way to handle the current situation, so take it time to control your ability to wait for circumstances to force the same way. you have all that facts about your success.\n",
      "\n"
     ]
    },
    {
     "data": {
      "application/vnd.jupyter.widget-view+json": {
       "model_id": "9d427af4b636419a9db4fcfddc69b625",
       "version_major": 2,
       "version_minor": 0
      },
      "text/html": [
       "<p>Failed to display Jupyter Widget of type <code>HBox</code>.</p>\n",
       "<p>\n",
       "  If you're reading this message in the Jupyter Notebook or JupyterLab Notebook, it may mean\n",
       "  that the widgets JavaScript is still loading. If this message persists, it\n",
       "  likely means that the widgets JavaScript library is either not installed or\n",
       "  not enabled. See the <a href=\"https://ipywidgets.readthedocs.io/en/stable/user_install.html\">Jupyter\n",
       "  Widgets Documentation</a> for setup instructions.\n",
       "</p>\n",
       "<p>\n",
       "  If you're reading this message in another frontend (for example, a static\n",
       "  rendering on GitHub or <a href=\"https://nbviewer.jupyter.org/\">NBViewer</a>),\n",
       "  it may mean that your frontend doesn't currently support widgets.\n",
       "</p>\n"
      ],
      "text/plain": [
       "HBox(children=(IntProgress(value=0, description='batches', max=1260), HTML(value='')))"
      ]
     },
     "metadata": {},
     "output_type": "display_data"
    },
    {
     "name": "stdout",
     "output_type": "stream",
     "text": [
      "Batch:    200, loss:  0.7708\n",
      "as you wait a couple of days before starting something new. you normally don't like feeling disoriented, and today's ethereal mercury-neptune trine could prompt you to waste too much time trying to re-establish your footing. unfortunately, stability is elusive now, but the uncertainty could be beneficial if you allow yourself to question your assumptions about your career goals. there's no need to make any life-changing decision yet; answers will appear as early in your day, but you are also required if you have something emotionally outrageous today because you feel as if you have the chance. you might not be\n",
      "\n",
      "Batch:    400, loss:  0.7757\n",
      "impress others with a good show today. but shortcuts won't be rewarded; it's more important to start at the beginning and do each step in the proper order. it's futile to worry about deadlines because everything takes more time than you think anyway. you could suffer a setback if something unexpected acts of kindness can ultimately be more in ways than you might have to make a list of what to be with today, but you may be as well as possible hiding your feelings with someone you might hold you back to the real support that's just missing a\n",
      "\n",
      "Batch:    600, loss:  0.7733\n",
      "yourself on track and within your budget. research your options, take good notes, and don't be afraid to do something you have never done before. your friends and associates can be a source of good times today, but participating in social activities might end up costing you more than expected. it's not that you're stingy; it's just than you would prefer to know something it will be available to the current situation. nevertheless, it may be wise to be final about what you want to do today. unfortunately, your friends and family may be complicated once you start making the\n",
      "\n",
      "Batch:    800, loss:  0.7715\n",
      "conservative capricorn. you know that you should stick to the script now, but it's not so easy to turn off your thinking. current opportunities appear real enough that you are tempted to explore them even if it's not the best use of your time. there's nothing wrong with broadening your horizons, but don't fall in for more than you can deliver. unfortunately, you may have a hard time settling down today, even if you don't see the wisdom of the situation is more of the day, but don't wait until you have all talk to place your focus on your\n",
      "\n",
      "Batch:   1000, loss:  0.7719\n",
      "you to set your sights too high today. thankfully, your approach is methodical and you can prioritize all the chores that you want to finish. but you may have to let some of your pet projects fall to the wayside. being selective and eliminating non-essential chores should help you feel less anxious, especially if you preemptively handle the most time it will be to follow. but you don't have to decide which dreams about anyone else's feelings has long-lasting consequences, yet your mind is another one encourages you to simply feel today that you must take direct action today. you\n",
      "\n",
      "Batch:   1200, loss:  0.7706\n",
      "as the moon meets up with unpredictable uranus. you have a choice to make that can affect your whole day. either let the pressure get the best of you by fearfully worrying about something you can't control or consciously turn your frown into a grin, knowing that change is on the way whether you want it most. you could lose a little while at work won't lead you what you don't know if nothing reaches fruition; you current thoughts will do a while to slip through your mind. the moon's difficult square to your key planet mars stimulates your imagination\n",
      "\n"
     ]
    },
    {
     "data": {
      "application/vnd.jupyter.widget-view+json": {
       "model_id": "98a5f0b1d7f64355b30f87deb54e783c",
       "version_major": 2,
       "version_minor": 0
      },
      "text/html": [
       "<p>Failed to display Jupyter Widget of type <code>HBox</code>.</p>\n",
       "<p>\n",
       "  If you're reading this message in the Jupyter Notebook or JupyterLab Notebook, it may mean\n",
       "  that the widgets JavaScript is still loading. If this message persists, it\n",
       "  likely means that the widgets JavaScript library is either not installed or\n",
       "  not enabled. See the <a href=\"https://ipywidgets.readthedocs.io/en/stable/user_install.html\">Jupyter\n",
       "  Widgets Documentation</a> for setup instructions.\n",
       "</p>\n",
       "<p>\n",
       "  If you're reading this message in another frontend (for example, a static\n",
       "  rendering on GitHub or <a href=\"https://nbviewer.jupyter.org/\">NBViewer</a>),\n",
       "  it may mean that your frontend doesn't currently support widgets.\n",
       "</p>\n"
      ],
      "text/plain": [
       "HBox(children=(IntProgress(value=0, description='batches', max=1260), HTML(value='')))"
      ]
     },
     "metadata": {},
     "output_type": "display_data"
    },
    {
     "name": "stdout",
     "output_type": "stream",
     "text": [
      "Batch:    200, loss:  0.7614\n",
      "how to act. you're tempted to be less assertive if you can avoid direct confrontation, but someone might come to the rescue by supporting your efforts. life is easier when you know that you've got a friend. although you have a clear sense of what needs to be done at work, the certainty is time to get into the way of your own subconscious to discover what you must do today that you can go back to the way toward the future. you may be feeling a bit uneasy today because you really don't have to be as overwhelmed as\n",
      "\n",
      "Batch:    400, loss:  0.7626\n",
      "longing for a bit of excitement. you might not be worried by what others think of your choices because you believe that nothing can get in your way now. unfortunately, you may inadvertently overstep someone's limits. displaying a little humility now can help you achieve personal satisfaction. your ruling planet venus may bring sweetness into your life today in the process. you must be able to work for a few more days to your regular routine as you try to set your dreams. don't overanalyze what's happening; your primary job now is to stay your mind to a healthy domestic\n",
      "\n",
      "Batch:    600, loss:  0.7644\n",
      "you're doing. you may think that you have all the ingredients to whip up the perfect plan for your pet project today. you feel positive because you believe that your vision is clear and you know how to reach your destination. but your confidence may be covering up a sneaking suspicion that you're missing an important piece of information that could change the current situation. thankfully, you're able to join in the fun and are not as if you're distracted as long as you see the difference between the present moment and activates your fears might also be in the\n",
      "\n",
      "Batch:    800, loss:  0.7623\n",
      "don't have to pick one path over the other; just remain flexible and respond to what happens without trying to run the show. you bounce from one thought to the next today, making it difficult to complete anything that you start. every idea that pops into awareness warrants your serious attention until the next one pulls you in a different direction. you might not be able to stay focused on your work. now, even if you're upset to the next one. you may just be ready to take a risk and say exactly what you want today can be fun.\n",
      "\n",
      "Batch:   1000, loss:  0.7631\n",
      "may not be as easy as you wish. fortunately, you feel confident and strong enough to manage the pressures of change without letting anyone know that you are struggling. revealing your vulnerability by admitting that you can't do everything by yourself can actually create opportunities to have positive discussions and muster up the heartwarming support you will but remember to take a risk and do what's working in your more status and making it difficult to say what's on your mind with judgmental old jupiter and they may be so quickly if you take your time to get everything in\n",
      "\n",
      "Batch:   1200, loss:  0.7613\n",
      "are important to your work. the moon's shift into stable taurus indicates that you must pay attention to the practical side of life. you may not want to stop what you're doing just to engage in essential activities such as drinking and eating, but running off to participate in a wildly impractical adventure can be dangerous now. don't wait until you're taking out of the details that might reveal something you are already in your happiness. you need to put your best foot in the ground, even while going on a bit of a positive attitude, but you also might\n",
      "\n"
     ]
    },
    {
     "data": {
      "application/vnd.jupyter.widget-view+json": {
       "model_id": "07f17ff61a85497eab839f05fbbb8181",
       "version_major": 2,
       "version_minor": 0
      },
      "text/html": [
       "<p>Failed to display Jupyter Widget of type <code>HBox</code>.</p>\n",
       "<p>\n",
       "  If you're reading this message in the Jupyter Notebook or JupyterLab Notebook, it may mean\n",
       "  that the widgets JavaScript is still loading. If this message persists, it\n",
       "  likely means that the widgets JavaScript library is either not installed or\n",
       "  not enabled. See the <a href=\"https://ipywidgets.readthedocs.io/en/stable/user_install.html\">Jupyter\n",
       "  Widgets Documentation</a> for setup instructions.\n",
       "</p>\n",
       "<p>\n",
       "  If you're reading this message in another frontend (for example, a static\n",
       "  rendering on GitHub or <a href=\"https://nbviewer.jupyter.org/\">NBViewer</a>),\n",
       "  it may mean that your frontend doesn't currently support widgets.\n",
       "</p>\n"
      ],
      "text/plain": [
       "HBox(children=(IntProgress(value=0, description='batches', max=1260), HTML(value='')))"
      ]
     },
     "metadata": {},
     "output_type": "display_data"
    },
    {
     "name": "stdout",
     "output_type": "stream",
     "text": [
      "Batch:    200, loss:  0.7523\n",
      "you're willing to have a heartfelt discussion with a close friend or loved one, but you prefer to keep the conversation as light as possible. although sinking into your feelings reveals your discomfort with emotional vulnerability, it also brings a deeper sense of intimacy. a disagreement over who's in charge can have a more practical approach to your current perspective. the moon's current visit to your 10th house of career and head your key to your 4th house of possibilities is being your way to make the most of the complete point of view with the moon in your 2nd\n",
      "\n",
      "Batch:    400, loss:  0.7538\n",
      "into smaller manageable tasks in order to be efficient. just make sure that you don't bite off more than you can chew or you'll be tired at the end of the day with little to show for your hard work. blowing up balloons can be fun if you know when to stop; otherwise they pop, leaving you with nothing. likewise, when red-hot mars fires up buoyant saturn in your 11th house of future is more important than material because you might even try to pretend that your irrational feelings. however, your words can be flexible enough to overcome the needs\n",
      "\n",
      "Batch:    600, loss:  0.7539\n",
      "cold. even if you are clever enough to pull off your presentation, it's too critical of a moment to deliver your ideas extemporaneously. for maximum results, do all your homework and then carefully review your work before sharing it with others. those closest to you now may not realize how sensitive you are because you are able to cover up your problem. the change of your current ambitions may not be what you need to have perspective. your desire to look ahead out. you are completely focused on your current goals now, and you might just want to get what\n",
      "\n",
      "Batch:    800, loss:  0.7530\n",
      "normally, you don't like feeling insecure, but you may enjoy the adrenaline rush now, especially if you're riding a wave of self-confidence. blind optimism will surely land you in trouble, so make sure that you balance your hopes and dreams with the common sense and advice that others bring to you. you may not be so overwhelmed by yourself that you don't see yourself more clearly. your dreams could be trying to escape for a while. all the facts is over the other. there's a lot of hard work. you may be at work to the same level of commitment\n",
      "\n",
      "Batch:   1000, loss:  0.7517\n",
      "and energy; save your nickels and dimes, instead. it's not easy to contain your dreams as today's full moon eclipse occurs in your exuberant sign. but rather than going off on your own, you're likely to tag along with a friend or partner when the moon opposes chatty mercury in your 7th house of companions. unfortunately, you can't rely on the most exciting issues could be a little differently. instead, look at the moment of an interesting high, but you may be under the action to be looking forward to the next level. don't waste time on your job. the\n",
      "\n",
      "Batch:   1200, loss:  0.7520\n",
      "they're not likely frightening enough for you to totally avoid them today. thankfully, your desires are strong now, luring you to the edge of excitement, even if you still need to work out more details before you can achieve satisfaction. don't let old fears stand in the way of an exciting possibility that can have you to make a new method because you are very sensitive to other people's needs to the surface. you are ready to share your feelings today, but you may not be eager to express your feelings if you are being pushed too logical today, as\n",
      "\n"
     ]
    },
    {
     "data": {
      "application/vnd.jupyter.widget-view+json": {
       "model_id": "63b0898b85064c2991be0a528d7e6fba",
       "version_major": 2,
       "version_minor": 0
      },
      "text/html": [
       "<p>Failed to display Jupyter Widget of type <code>HBox</code>.</p>\n",
       "<p>\n",
       "  If you're reading this message in the Jupyter Notebook or JupyterLab Notebook, it may mean\n",
       "  that the widgets JavaScript is still loading. If this message persists, it\n",
       "  likely means that the widgets JavaScript library is either not installed or\n",
       "  not enabled. See the <a href=\"https://ipywidgets.readthedocs.io/en/stable/user_install.html\">Jupyter\n",
       "  Widgets Documentation</a> for setup instructions.\n",
       "</p>\n",
       "<p>\n",
       "  If you're reading this message in another frontend (for example, a static\n",
       "  rendering on GitHub or <a href=\"https://nbviewer.jupyter.org/\">NBViewer</a>),\n",
       "  it may mean that your frontend doesn't currently support widgets.\n",
       "</p>\n"
      ],
      "text/plain": [
       "HBox(children=(IntProgress(value=0, description='batches', max=1260), HTML(value='')))"
      ]
     },
     "metadata": {},
     "output_type": "display_data"
    },
    {
     "name": "stdout",
     "output_type": "stream",
     "text": [
      "Batch:    200, loss:  0.7434\n",
      "beliefs. you need to tread extra carefully now, for you could inadvertently provoke a conflict by resorting to aggressive behavior. try channeling your passion into physical activities instead. you might be a bit uncertain as today's solar eclipse evokes a sense of discomfort by pushing you to explore feelings that you would rather forget. don't belittle a friend's melodrama by judging it as unimportant different so you don't have to get involved. you care a day or two to simply can answer to your own sense of being overly rigid in your family today. although you are not very comfortable\n",
      "\n",
      "Batch:    400, loss:  0.7455\n",
      "need some time alone and will reconnect with them once you are ready to return to the game. someone close to you may seem a bit too aggressive as the moon visits brash aries and your 7th house of others today. thankfully, a lunar opposition to stern saturn in your diplomatic sign enables you to clearly set the limits you need to feel comfortable. however, you could overreact and inadvertently push someone by your impatience or you might not be able to explain your chores without anyone else if you don't keep up your momentum. your strategy will be more\n",
      "\n",
      "Batch:    600, loss:  0.7446\n",
      "then quit stressing out. if something has to fall behind, let it go without resistance. you can do more harm than good if you hurry up and rush your work. you may need to make time for a serious relationship discussion with a close friend or partner. however, you might find yourself exploring a current relationship because you're not in the path of an old pattern. start tentatively, but stay focused on yourself into your role and make your choice now, but don't let it slip off along a bit more than just to the exact place of your work.\n",
      "\n",
      "Batch:    800, loss:  0.7450\n",
      "twice and give your answer once, after your common sense returns. you could set up a friend for disappointment today if you don't establish limits on how much you're willing to help. your mind is racing and you're tempted to agree to nearly anything just to quiet your worry. unfortunately, this kind of logic won't really solve the problem. instead of taking the easy way out of the present moment and into making a rational approach and into your planning and focus on the unrealized potential, so make changes today may be the smartest strategy to avoid looking for the\n",
      "\n",
      "Batch:   1000, loss:  0.7446\n",
      "run if you take some time to enjoy yourself today. the moon's return to your sign brings wide mood swings, and you aren't sure whether to feel happy or sad because each new opportunity also presents a serious obstacle. fortunately, you should be able to work within the limits of your own compassion to share your concerns. others. you want to do things the best in order to increase your chances of grabbing an amazing opportunity since the new information can be the smartest move, you can always redirect your attention today, and you aren't making any simple routine today,\n",
      "\n",
      "Batch:   1200, loss:  0.7438\n",
      "important to have enough confidence to successfully begin a new project. but too much focus on yourself isn't the healthiest thing right now. disperse some of the imbalance by shifting your attention to your friends and associates. ultimately, it's more efficient and fun to work as equals, even if you are technically running the show. someone may try to convince you that you're doing the right thing, but you're not so sure about it. part of the predicament is that your friends may be more inclined to keep your thoughts on more work. don't waste your energy trying to fill\n",
      "\n"
     ]
    },
    {
     "data": {
      "application/vnd.jupyter.widget-view+json": {
       "model_id": "b7d5ad5c43424612a01e98534159c29c",
       "version_major": 2,
       "version_minor": 0
      },
      "text/html": [
       "<p>Failed to display Jupyter Widget of type <code>HBox</code>.</p>\n",
       "<p>\n",
       "  If you're reading this message in the Jupyter Notebook or JupyterLab Notebook, it may mean\n",
       "  that the widgets JavaScript is still loading. If this message persists, it\n",
       "  likely means that the widgets JavaScript library is either not installed or\n",
       "  not enabled. See the <a href=\"https://ipywidgets.readthedocs.io/en/stable/user_install.html\">Jupyter\n",
       "  Widgets Documentation</a> for setup instructions.\n",
       "</p>\n",
       "<p>\n",
       "  If you're reading this message in another frontend (for example, a static\n",
       "  rendering on GitHub or <a href=\"https://nbviewer.jupyter.org/\">NBViewer</a>),\n",
       "  it may mean that your frontend doesn't currently support widgets.\n",
       "</p>\n"
      ],
      "text/plain": [
       "HBox(children=(IntProgress(value=0, description='batches', max=1260), HTML(value='')))"
      ]
     },
     "metadata": {},
     "output_type": "display_data"
    },
    {
     "name": "stdout",
     "output_type": "stream",
     "text": [
      "Batch:    200, loss:  0.7359\n",
      "be overwhelmed by the mixed signals you are receiving today. one moment, all systems are go. but, then, just a few minutes later, everything is on hold. although you could act impulsively and try to fix what's wrong, this reaction probably would be a mistake. instead, think about which changes before you start off to the next level of intimacy. but you're not a stranger to the true moment of your own sense of self-confidence is enough to make the best of a new course of intimacy. it's helpful that you are unable to avoid the potential in such as\n",
      "\n",
      "Batch:    400, loss:  0.7356\n",
      "you have been working late into the night, take stock of what you have already accomplished and let others know what you have left to do. don't waste energy on self-judgment; just get some rest today and tomorrow you will feel refreshed and ready for anything. if you have been waiting for this weekend. it may be a good idea for everyone diligently toward making a bit of peace and quiet so you can ease your attention to take your position and make a list of what you are doing now. even if you're afraid of being the serious issues\n",
      "\n",
      "Batch:    600, loss:  0.7373\n",
      "you go out of your way to empathize with others. if you keep in mind that there are multiple paths to any destination, you won't get so frustrated when you realize you've taken a detour. you may be tired of doing the same thing in the exact same way. you want to try a different approach, but you need to make it clear come around now, especially if you don't want everyone to fix them. thankfully, your heart will have a different job now than you would prefer to be serious about your obligations. you don't want things up now,\n",
      "\n",
      "Batch:    800, loss:  0.7371\n",
      "speak from your heart and deal with the consequences as you go along. it may be difficult to make your point today because you might be so serious that you scare someone away before you explain what's on your mind. once you realize what's happening, you're tempted to overcompensate and become so accommodating that you back to turn a position to do what you want. you must be ready for so efficient level throughout the day. although your impulsive reactions are helps you get ahead and support your daily routine before you try again. your true feelings. your need to\n",
      "\n",
      "Batch:   1000, loss:  0.7349\n",
      "happening; you're just making a conscious choice about where to focus your attention. keep in mind that the reaction of your friends is less important now than what you experience on your own. it's challenging to stay on task today, especially if your work demands exacting concentration. your ruling planet mercury enjoys sorting out a social of your desire to be a useful way to get what you want. you might not have the heart in your business now, but an active dreams can be necessary to hide your feelings when you want to learn something important and you may\n",
      "\n",
      "Batch:   1200, loss:  0.7373\n",
      "don't have to decide today; just allow your thoughts to take you on a fascinating ride without being bound to any single outcome. the moon's current visit to your 10th house of career encourages you to make big plans to fulfill your professional ambitions. although you may feel as if you are done just to satisfy your need for fun. you may feel like a kite that begins to take progress. but no need for stability can transform the tension out of a complex issue that won't be as if you have been left high and dry today. professional is\n",
      "\n"
     ]
    },
    {
     "data": {
      "application/vnd.jupyter.widget-view+json": {
       "model_id": "2f3721011ff84672bd3a85398a061466",
       "version_major": 2,
       "version_minor": 0
      },
      "text/html": [
       "<p>Failed to display Jupyter Widget of type <code>HBox</code>.</p>\n",
       "<p>\n",
       "  If you're reading this message in the Jupyter Notebook or JupyterLab Notebook, it may mean\n",
       "  that the widgets JavaScript is still loading. If this message persists, it\n",
       "  likely means that the widgets JavaScript library is either not installed or\n",
       "  not enabled. See the <a href=\"https://ipywidgets.readthedocs.io/en/stable/user_install.html\">Jupyter\n",
       "  Widgets Documentation</a> for setup instructions.\n",
       "</p>\n",
       "<p>\n",
       "  If you're reading this message in another frontend (for example, a static\n",
       "  rendering on GitHub or <a href=\"https://nbviewer.jupyter.org/\">NBViewer</a>),\n",
       "  it may mean that your frontend doesn't currently support widgets.\n",
       "</p>\n"
      ],
      "text/plain": [
       "HBox(children=(IntProgress(value=0, description='batches', max=1260), HTML(value='')))"
      ]
     },
     "metadata": {},
     "output_type": "display_data"
    },
    {
     "name": "stdout",
     "output_type": "stream",
     "text": [
      "Batch:    200, loss:  0.7278\n",
      "can't steer you right. instead of making circumstances worse, do what you should when you get lost. stop! don't go anywhere until you have regained your bearings. ask for directions, if necessary. then, continue on your way. you don't want to move very fast now and prefer that you finish one task through all of change. your need to money is probably more fulfilling. you have a lot to learn today and be prepared to work hard and do your job should begin to settle down later in the week. you're eager to describe your emotions with your friends, yet\n",
      "\n",
      "Batch:    400, loss:  0.7280\n",
      "you are confident that you can pull everything back together. actually, you might even enjoy all the action today. surprisingly, you could get what you want if you maintain a healthy perspective so you don't act too impulsively. slow down and turn on your charm; your witty ways may score you the extra points of time than you think. remember what you are thinking, but you may not see the complexities of future at a high and then waste time questioning your point of view without feeling really playing in your mind. you may be emerging your anxiety today that\n",
      "\n",
      "Batch:    600, loss:  0.7280\n",
      "exactly what the doctor ordered. you could be surprised by the power of your reactions today because you thought you were okay with the way everything was progressing. if you are involved in a family matter or a group decision, it may be impossible to keep your emotions hidden from everyone else. don't try to withhold your feelings, even if it means that you could release your old experience the day and games today encourages you to take advantage of the opportunities of unspoken interactions with your friends and others. but you may be uncomfortable if you are open to\n",
      "\n",
      "Batch:    800, loss:  0.7289\n",
      "change your words, but it really doesn't have to alter your truth. this is a magical day if you remember that you can create a positive atmosphere wherever you go by virtue of your attitude. your spiritual orientation is capable of turning the most boring chore into a sacred act of gratitude. but what others perceive now isn't what's important. honor the richness of your past. don't be too far so fast that you are quite willing to let the pressure you make you feel a bit of time to be at home or at the next few days. you\n",
      "\n",
      "Batch:   1000, loss:  0.7292\n",
      "usual. however, take the time you need to feel safe enough before coming out of your shell. if you are naturally extroverted, the sun's entry into your 11th house of friends marks an even busier social month ahead. you are now less interested in working hard to get ahead than taking it easy with your buddies and workmates. instead of jumping through hoops to be noticed, relax and lose yourself in the group. there's no need to stir up any more trouble than is necessary. this is quite a stressful day as random thoughts appear like a more stressful phase\n",
      "\n",
      "Batch:   1200, loss:  0.7277\n",
      "move forward. nevertheless, sweet venus' return to your sign enables you to get what you want in a relationship. instead of trying to make progress on an old issue, concentrate on ways to transform your current stress into positive action. improving the quality of your life in the here-and-now is more important than reaching a new destination. you might need to spend much time at the world because you are being emotionally assertive today that you can open up all by yourself in the present moment. your pragmatic outlook is real today and you're tempted to take a risk to\n",
      "\n"
     ]
    },
    {
     "data": {
      "application/vnd.jupyter.widget-view+json": {
       "model_id": "073aee41f92745b19b6312713a3c5920",
       "version_major": 2,
       "version_minor": 0
      },
      "text/html": [
       "<p>Failed to display Jupyter Widget of type <code>HBox</code>.</p>\n",
       "<p>\n",
       "  If you're reading this message in the Jupyter Notebook or JupyterLab Notebook, it may mean\n",
       "  that the widgets JavaScript is still loading. If this message persists, it\n",
       "  likely means that the widgets JavaScript library is either not installed or\n",
       "  not enabled. See the <a href=\"https://ipywidgets.readthedocs.io/en/stable/user_install.html\">Jupyter\n",
       "  Widgets Documentation</a> for setup instructions.\n",
       "</p>\n",
       "<p>\n",
       "  If you're reading this message in another frontend (for example, a static\n",
       "  rendering on GitHub or <a href=\"https://nbviewer.jupyter.org/\">NBViewer</a>),\n",
       "  it may mean that your frontend doesn't currently support widgets.\n",
       "</p>\n"
      ],
      "text/plain": [
       "HBox(children=(IntProgress(value=0, description='batches', max=1260), HTML(value='')))"
      ]
     },
     "metadata": {},
     "output_type": "display_data"
    },
    {
     "name": "stdout",
     "output_type": "stream",
     "text": [
      "Batch:    200, loss:  0.7199\n",
      "regain firm footing. even if you don't immediately see positive results from today's efforts, rest assured that your persistence will eventually have the effect you desire. you're tempted to act in an overly demanding manner today because you may believe that you deserve more than you have. unfortunately, the squeaky wheel doesn't always get the grease and you could receive a greater payoff by just being patient, instead. value-conscious venus in your 10th house of status forms a supportive sextile with calculating saturn, giving you and how you have fun for a while for the details of the situation into\n",
      "\n",
      "Batch:    400, loss:  0.7201\n",
      "heart. your ruling planet venus, now visiting your 10th house of career, provokes feelings of loneliness as she squares judgmental saturn. emotional stress that has been pressurizing for a while could suddenly explode and turn your professional life upside down. instead of worrying about the unknown, embrace the upcoming shift. even if you face a temporary setback, the lessons you learn today can help your cause. let others realize the truth, but you are easily work to your own personal issues so you can today. don't rush your own analysis will get exactly what you should share your feelings when\n",
      "\n",
      "Batch:    600, loss:  0.7216\n",
      "as long as you keep your heart open and act with kindness. you can count on your friends to come through for you today as the moon visits your 11th house of social networking. your desires are pretty basic, and thankfully you should be able to get what you want. ironically, others may not be very demonstrative now, but you still might be able to charm your way is a bit erratic and you may not be as casual as you scare others away. instead of procrastinating, settle in letting others know that you are the harsh judge if you\n",
      "\n",
      "Batch:    800, loss:  0.7224\n",
      "can still make progress if you keep bringing your focus back to the work at hand. your dreams are overflowing into daylight hours as tomorrow's full moon lunar eclipse grows nearer, making it challenging to separate your facts from fantasy. thankfully, you draw great inspiration from your imagination, so don't try to suppress any flights of fancy. unfettered thoughts can help to create an emotional reaction. you want others to seek the courage if you get caught up in a couple of different directions. it's not easy to give up your work for the sake of your current relationship and\n",
      "\n",
      "Batch:   1000, loss:  0.7214\n",
      "judgments can entangle you in an uncomfortable situation today. you should be able to regain your equilibrium by remembering to balance your subjectivity with cool logic, but your interactions may still be a bit unfulfilling now. thankfully, you'll probably feel more in your own element by tomorrow. you might feel that you get things done today; if you are uncertain about what you want. the moon's current visit to your 2nd house of self-worth squares complex clarity may be your way of what's happening now. you don't want to get caught up in a whirlwind of intense emotional issue. but\n",
      "\n",
      "Batch:   1200, loss:  0.7219\n",
      "sure that everyone involved is willing to compromise before you give up more than you should. you are torn between digging deeply into your feelings today and overpowering them with direct action. in fact, the illusion is that both approaches seem to exclude the other. the solution is not straightforward because a sensible strategy must incorporate you less separate from the world seems to be in your process now, you need to be creative and then saying the truth is that you'll have to work the better than any other day, you could easily bring you the happiness you seek.\n",
      "\n",
      "\n"
     ]
    }
   ],
   "source": [
    "for epoch in tnrange(epochs, desc = 'epochs'):\n",
    "    loss_pbar    = 0 \n",
    "    running_loss = 0\n",
    "    generator    = batch_generator(data, batch_size, n_words, word_to_id)\n",
    "\n",
    "    with tqdm_notebook(\n",
    "        enumerate(generator), \n",
    "        desc = 'batches', \n",
    "        total = batch_per_epoch, \n",
    "        unit = 'batch '\n",
    "    ) as pbar:\n",
    "\n",
    "        for i, (X, y) in pbar:\n",
    "            X = Variable(X)\n",
    "            y = Variable(y)\n",
    "            X = X.cuda() if cuda else X\n",
    "            y = y.cuda() if cuda else y\n",
    "            optimizer.zero_grad()\n",
    "            y_pred = tcn(X)\n",
    "            reshaped_y      = y.view(-1)\n",
    "            reshaped_y_pred = y_pred.view(-1, n_words) \n",
    "            loss   = criterion(reshaped_y_pred, reshaped_y)\n",
    "            loss.backward()\n",
    "            optimizer.step()\n",
    "\n",
    "            loss_value    = loss.cpu().data[0]\n",
    "            running_loss += loss_value\n",
    "            loss_pbar    += loss_value\n",
    "\n",
    "            if i % loss_update_rate == loss_update_rate - 1:\n",
    "                pbar.set_postfix(loss = loss_pbar / loss_update_rate)\n",
    "                loss_pbar = 0\n",
    "\n",
    "            if i % print_every == print_every - 1:\n",
    "                test_result = test_model(tcn, test_seq_size, window_size, n_words, \n",
    "                                         id_to_word, word_to_id, data)\n",
    "                tqdm.write(f'Batch: {i + 1 : 6}, '\n",
    "                           f'loss: {running_loss / print_every : .4f}\\n'\n",
    "                           f'{test_result}\\n')\n",
    "                running_loss = 0"
   ]
  },
  {
   "cell_type": "code",
   "execution_count": 19,
   "metadata": {},
   "outputs": [],
   "source": [
    "# genererate_long_sequence(\n",
    "#     tcn, \n",
    "#     5000, \n",
    "#     n_words, \n",
    "#     id_to_word, \n",
    "#     word_to_id, \n",
    "#     'your day will be bad but you should stay optimistic because'\n",
    "# )"
   ]
  }
 ],
 "metadata": {
  "kernelspec": {
   "display_name": "Python 3",
   "language": "python",
   "name": "python3"
  },
  "language_info": {
   "codemirror_mode": {
    "name": "ipython",
    "version": 3
   },
   "file_extension": ".py",
   "mimetype": "text/x-python",
   "name": "python",
   "nbconvert_exporter": "python",
   "pygments_lexer": "ipython3",
   "version": "3.6.4"
  }
 },
 "nbformat": 4,
 "nbformat_minor": 2
}
