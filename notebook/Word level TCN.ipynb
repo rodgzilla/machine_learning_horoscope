{
 "cells": [
  {
   "cell_type": "markdown",
   "metadata": {},
   "source": [
    "# Horoscope generation using Temporal Convolution Networks\n",
    "\n",
    "The goal of this notebook is to implement a generator of horoscope based on neural networks. \n",
    "\n",
    "More specifically, the architecture used is a Temporal Convolution Network based on the research paper [\"An Empirical Evaluation of Generic Convolutional and Recurrent Networks for Sequence Modeling\"](https://arxiv.org/abs/1803.01271). This architecture is fully convolutional and can therefore take arbitrary length sequence as inputs. The main idea of the authors of this paper is to increase the perceptive field of each successive layer using [dilated convolution](https://github.com/vdumoulin/conv_arithmetic). \n",
    "\n",
    "The bulk of the code of the TCN has been taken from [the implementation](https://github.com/locuslab/TCN) linked in the article.\n",
    "\n",
    "The data used here are all the horoscopes published [beliefnet.com](beliefnet.com) for the year 2011. \n",
    "\n",
    "The network takes a sequence of `window_size` words as input and outputs a sequence of `window_size` words. The target that we use for training is a slice of the horoscope corresponding to the input slid on step to the right, effectively asking the network what should the next word be. "
   ]
  },
  {
   "cell_type": "markdown",
   "metadata": {},
   "source": [
    "## Imports"
   ]
  },
  {
   "cell_type": "code",
   "execution_count": 1,
   "metadata": {},
   "outputs": [],
   "source": [
    "import random\n",
    "import math\n",
    "import itertools\n",
    "\n",
    "import numpy as np\n",
    "import pandas as pd\n",
    "\n",
    "from tqdm import tnrange, tqdm_notebook\n",
    "from tqdm import tqdm\n",
    "\n",
    "import torch\n",
    "import torch.nn            as nn\n",
    "import torch.nn.functional as F\n",
    "import torch.optim         as optim\n",
    "from torch.nn.utils import weight_norm\n",
    "from torch.autograd import Variable"
   ]
  },
  {
   "cell_type": "markdown",
   "metadata": {},
   "source": [
    "## Training parameters"
   ]
  },
  {
   "cell_type": "code",
   "execution_count": 2,
   "metadata": {},
   "outputs": [],
   "source": [
    "cuda           = True\n",
    "file_path      = '../data/horoscope_2011.csv'\n",
    "window_size    = 150\n",
    "batch_size     = 128\n",
    "print_every    = 500\n",
    "test_seq_size  = 100\n",
    "epochs         = 60\n",
    "use_pretrained = False"
   ]
  },
  {
   "cell_type": "markdown",
   "metadata": {},
   "source": [
    "## Data loading code"
   ]
  },
  {
   "cell_type": "code",
   "execution_count": 3,
   "metadata": {},
   "outputs": [],
   "source": [
    "def load_data(path, window_size):\n",
    "    df          = pd.read_csv(path)\n",
    "    split_texts = [t.lower().split() for t in df.TEXT] \n",
    "    text        = list(itertools.chain.from_iterable(split_texts))\n",
    "    words       = set(text)\n",
    "    n_words     = len(words)\n",
    "    idx_to_word = dict(enumerate(words))\n",
    "    word_to_idx = {word : idx for idx, word in idx_to_word.items()}\n",
    "    data        = [(text[i : i + window_size], text[i + 1 : i + window_size + 1])\n",
    "                    for i in range(len(text) - window_size - 1)]\n",
    "\n",
    "    return n_words, idx_to_word, word_to_idx, data"
   ]
  },
  {
   "cell_type": "code",
   "execution_count": 4,
   "metadata": {},
   "outputs": [],
   "source": [
    "def encode_seq(seq, word_to_id):\n",
    "    return [word_to_id[w] for w in seq]"
   ]
  },
  {
   "cell_type": "code",
   "execution_count": 5,
   "metadata": {},
   "outputs": [],
   "source": [
    "def data_to_tensor(data, word_to_id, n_char):\n",
    "    input_tensor = torch.LongTensor([encode_seq(input_seq, word_to_id)\n",
    "                                      for input_seq, _ in data])\n",
    "    target_tensor = torch.LongTensor([encode_seq(target_seq, word_to_id)\n",
    "                                       for _, target_seq in data])\n",
    "    \n",
    "    return input_tensor, target_tensor"
   ]
  },
  {
   "cell_type": "code",
   "execution_count": 6,
   "metadata": {},
   "outputs": [],
   "source": [
    "def batch_generator(data, batch_size, n_char, word_to_id, shuffle = True):\n",
    "    if shuffle:\n",
    "        data = random.sample(data, len(data))\n",
    "    \n",
    "    return (data_to_tensor(data[i : i + batch_size], word_to_id, n_char) \n",
    "                 for i in range(0, len(data), batch_size))"
   ]
  },
  {
   "cell_type": "markdown",
   "metadata": {},
   "source": [
    "## Model visualization code\n",
    "\n",
    "The model evaluation consists in asking it to generate a long sequence of character. We randomly select an input as a base for our generation and create a new sequence character by character using the model."
   ]
  },
  {
   "cell_type": "code",
   "execution_count": 7,
   "metadata": {},
   "outputs": [],
   "source": [
    "def test_model(tcn, final_sequence_size, window_size, n_words, \n",
    "               id_to_word, word_to_id, data):\n",
    "    seq = list(random.choice(data)[0])\n",
    "    while len(seq) < final_sequence_size:\n",
    "        # As the sequence is able to take variable length inputs, it could be \n",
    "        # interesting to not limit ourselves on inputs of window_size.\n",
    "        encoded_input = encode_seq(seq[-window_size:], word_to_id)\n",
    "        input_tensor  = torch.LongTensor([encoded_input])\n",
    "        X             = Variable(input_tensor)\n",
    "        X             = X.cuda() if cuda else X \n",
    "        y_pred        = tcn(X)\n",
    "        # It is important to take the maximum on the dim -2 as each channel of \n",
    "        # the output will correspond to the score associated to a character.\n",
    "        word_pred_id  = y_pred.cpu().max(dim = 2)[1][:,-1].data[0]\n",
    "        word_pred     = id_to_word[word_pred_id]\n",
    "        seq.append(word_pred)\n",
    "    \n",
    "    return ' '.join(seq)"
   ]
  },
  {
   "cell_type": "markdown",
   "metadata": {},
   "source": [
    "The following function generates an horoscope starting from a `base` supplied by the caller. "
   ]
  },
  {
   "cell_type": "code",
   "execution_count": 8,
   "metadata": {},
   "outputs": [],
   "source": [
    "def genererate_long_sequence(tcn, final_sequence_size, n_wordsr, id_to_word, word_to_id, base):\n",
    "    seq = base.split()\n",
    "\n",
    "    while len(seq) < final_sequence_size:\n",
    "        # In this case we do not limit the size of the input to window_size.\n",
    "        encoded_input = encode_seq(seq, word_to_id)\n",
    "        input_tensor  = torch.LongTensor([encoded_input])\n",
    "        X             = Variable(input_tensor)\n",
    "        X             = X.cuda() if cuda else X \n",
    "        y_pred        = tcn(X)\n",
    "        # It is important to take the maximum on the dim -2 as each channel of \n",
    "        # the output will correspond to the score associated to a character.\n",
    "        word_pred_id  = y_pred.cpu().max(dim = 2)[1][:,-1].data[0]\n",
    "        word_pred     = id_to_word[word_pred_id]\n",
    "        seq.append(word_pred)\n",
    "        \n",
    "    return ' '.join(seq)"
   ]
  },
  {
   "cell_type": "markdown",
   "metadata": {},
   "source": [
    "## Model definition"
   ]
  },
  {
   "cell_type": "markdown",
   "metadata": {},
   "source": [
    "The `TransposeLayer` is just a simple transposition that reformats the output of the embedding layer into the correct format for the convolution layers."
   ]
  },
  {
   "cell_type": "code",
   "execution_count": 9,
   "metadata": {},
   "outputs": [],
   "source": [
    "class TransposeLayer(nn.Module):\n",
    "    def forward(self, x):\n",
    "        return x.transpose(-2, -1)"
   ]
  },
  {
   "cell_type": "markdown",
   "metadata": {},
   "source": [
    "The `Chomp1d` module is used to remove the extra values at the end of the sequence by the padding of a convolution. As the TCN architecture uses dilated convolution, the padding have to be increased in order to be able to generate a long enough output. We have to remove the extra values so that the last value of our output is the result of a dilated convolution whose rightmost value was the last value of the input sequence. "
   ]
  },
  {
   "cell_type": "code",
   "execution_count": 10,
   "metadata": {},
   "outputs": [],
   "source": [
    "class Chomp1d(nn.Module):\n",
    "    def __init__(self, chomp_size):\n",
    "        super(Chomp1d, self).__init__()\n",
    "        self.chomp_size = chomp_size\n",
    "        \n",
    "    def forward(self, x):\n",
    "        # As x can be stored on the GPU, if we use it to build a new tensor,\n",
    "        # we have to ensure that our new value is stored contiguously.\n",
    "        return x[:, :, :-self.chomp_size].contiguous()"
   ]
  },
  {
   "cell_type": "markdown",
   "metadata": {},
   "source": [
    "The `TemporalBlock` module is a residual block containing two weight normalized dilated convolutions with ReLU activations and dropout2d (we drop whole channel at once). The residual connection may contain a 1x1 convolution if it is necessary to transform the input to the correct number of channels. "
   ]
  },
  {
   "cell_type": "code",
   "execution_count": 11,
   "metadata": {},
   "outputs": [],
   "source": [
    "class TemporalBlock(nn.Module):\n",
    "    def __init__(self, n_inputs, n_outputs, kernel_size, stride, dilation, padding, dropout = 0.2):\n",
    "        super(TemporalBlock, self).__init__()\n",
    "        conv_params = {\n",
    "            'kernel_size' : kernel_size,\n",
    "            'stride'      : stride,\n",
    "            'padding'     : padding,\n",
    "            'dilation'    : dilation\n",
    "        }\n",
    "        self.conv1    = weight_norm(nn.Conv1d(n_inputs, n_outputs, **conv_params))\n",
    "        self.chomp1   = Chomp1d(padding)\n",
    "        self.relu1    = nn.ReLU()\n",
    "        self.dropout1 = nn.Dropout2d(dropout)\n",
    "        self.conv2    = weight_norm(nn.Conv1d(n_outputs, n_outputs, **conv_params))\n",
    "        self.chomp2   = Chomp1d(padding)\n",
    "        self.relu2    = nn.ReLU()\n",
    "        self.dropout2 = nn.Dropout2d(dropout)\n",
    "        self.net      = nn.Sequential(\n",
    "            self.conv1, \n",
    "            self.chomp1,\n",
    "            self.relu1,\n",
    "            self.dropout1,\n",
    "            self.conv2,\n",
    "            self.chomp2,\n",
    "            self.relu2,\n",
    "            self.dropout2\n",
    "        )\n",
    "        # If the number of input channels is equal to the number of output channel then\n",
    "        # no transformation is required.\n",
    "        self.downsample = nn.Conv1d(n_inputs, n_outputs, 1) if n_inputs != n_outputs else None\n",
    "        self.relu       = nn.ReLU()\n",
    "        self.init_weights()\n",
    "        \n",
    "    def forward(self, x):\n",
    "        # Convolutional branch of the residual block\n",
    "        out = self.net(x)\n",
    "        # Residual branch of the residual block\n",
    "        res = x if self.downsample is None else self.downsample(x)\n",
    "\n",
    "        return self.relu(out + res)\n",
    "    \n",
    "    def init_weights(self):\n",
    "        self.conv1.weight.data.normal_(0, 0.01)\n",
    "        self.conv2.weight.data.normal_(0, 0.01)\n",
    "        if self.downsample is not None:\n",
    "            self.downsample.weight.data.normal_(0, 0.01)"
   ]
  },
  {
   "cell_type": "markdown",
   "metadata": {},
   "source": [
    "The Temporal Convolution Network is a sequence of Temporal Blocks whose dilation is doubled at each step. If enough blocks are uses, this definition allows the network to used information for arbitrarily far away in the past to generate its prediction. "
   ]
  },
  {
   "cell_type": "code",
   "execution_count": 12,
   "metadata": {},
   "outputs": [],
   "source": [
    "class TemporalConvNet(nn.Module):\n",
    "    def __init__(self, num_inputs, num_channels, dim_emb, kernel_size, dropout):\n",
    "        super(TemporalConvNet, self).__init__()\n",
    "        layers     = []\n",
    "        num_levels = len(num_channels)\n",
    "        \n",
    "        for i in range(num_levels):\n",
    "            # The dilation is doubled at each layer to allow an exponential growth of \n",
    "            # the receptive field size.   \n",
    "            dilation_size = 2 ** i\n",
    "            in_channels   = dim_emb if i == 0 else num_channels[i - 1]\n",
    "            out_channels  = num_channels[i]\n",
    "            layers.append(\n",
    "                TemporalBlock(\n",
    "                    in_channels,\n",
    "                    out_channels,\n",
    "                    kernel_size,\n",
    "                    stride   = 1,\n",
    "                    dilation = dilation_size,\n",
    "                    padding  = (kernel_size - 1) * dilation_size,\n",
    "                    dropout  = dropout\n",
    "                )\n",
    "            )\n",
    "        \n",
    "        self.network = nn.Sequential(*layers)\n",
    "        \n",
    "    def forward(self, x):\n",
    "        return self.network(x)"
   ]
  },
  {
   "cell_type": "code",
   "execution_count": 13,
   "metadata": {},
   "outputs": [],
   "source": [
    "class LanguageModel(nn.Module):\n",
    "    def __init__(self, n_inputs, n_outputs, num_channels, dim_emb = 50, kernel_size = 2, \n",
    "                 emb_dropout = 0.1, dropout = 0.2):\n",
    "        super(LanguageModel, self).__init__()\n",
    "        self.embedding = nn.Embedding(n_inputs, dim_emb)\n",
    "        self.tcn = TemporalConvNet(dim_emb, num_channels, dim_emb, kernel_size, dropout)\n",
    "        self.decoder = nn.Linear(num_channels[-1], n_outputs)\n",
    "        self.drop = nn.Dropout(emb_dropout)\n",
    "        self.init_weights()\n",
    "        \n",
    "    def init_weights(self):\n",
    "        self.embedding.weight.data.normal_(0, 0.01)\n",
    "        self.decoder.bias.data.fill_(0)\n",
    "        self.decoder.weight.data.normal_(0, 0.01)\n",
    "        \n",
    "    def forward(self, input):\n",
    "        emb = self.drop(self.embedding(input))\n",
    "        emb = emb.transpose(-2, -1)\n",
    "        y   = self.tcn(emb)\n",
    "        y   = y.transpose(-2, -1) \n",
    "        y   = self.decoder(y)\n",
    "        \n",
    "        return y"
   ]
  },
  {
   "cell_type": "markdown",
   "metadata": {},
   "source": [
    "## Training"
   ]
  },
  {
   "cell_type": "code",
   "execution_count": 21,
   "metadata": {},
   "outputs": [
    {
     "name": "stdout",
     "output_type": "stream",
     "text": [
      "number of words: 13105\n",
      "size of the dataset: 322284\n"
     ]
    },
    {
     "data": {
      "text/plain": [
       "LanguageModel(\n",
       "  (embedding): Embedding(13105, 50)\n",
       "  (tcn): TemporalConvNet(\n",
       "    (network): Sequential(\n",
       "      (0): TemporalBlock(\n",
       "        (conv1): Conv1d(50, 512, kernel_size=(2,), stride=(1,), padding=(1,))\n",
       "        (chomp1): Chomp1d(\n",
       "        )\n",
       "        (relu1): ReLU()\n",
       "        (dropout1): Dropout2d(p=0.2)\n",
       "        (conv2): Conv1d(512, 512, kernel_size=(2,), stride=(1,), padding=(1,))\n",
       "        (chomp2): Chomp1d(\n",
       "        )\n",
       "        (relu2): ReLU()\n",
       "        (dropout2): Dropout2d(p=0.2)\n",
       "        (net): Sequential(\n",
       "          (0): Conv1d(50, 512, kernel_size=(2,), stride=(1,), padding=(1,))\n",
       "          (1): Chomp1d(\n",
       "          )\n",
       "          (2): ReLU()\n",
       "          (3): Dropout2d(p=0.2)\n",
       "          (4): Conv1d(512, 512, kernel_size=(2,), stride=(1,), padding=(1,))\n",
       "          (5): Chomp1d(\n",
       "          )\n",
       "          (6): ReLU()\n",
       "          (7): Dropout2d(p=0.2)\n",
       "        )\n",
       "        (downsample): Conv1d(50, 512, kernel_size=(1,), stride=(1,))\n",
       "        (relu): ReLU()\n",
       "      )\n",
       "      (1): TemporalBlock(\n",
       "        (conv1): Conv1d(512, 512, kernel_size=(2,), stride=(1,), padding=(2,), dilation=(2,))\n",
       "        (chomp1): Chomp1d(\n",
       "        )\n",
       "        (relu1): ReLU()\n",
       "        (dropout1): Dropout2d(p=0.2)\n",
       "        (conv2): Conv1d(512, 512, kernel_size=(2,), stride=(1,), padding=(2,), dilation=(2,))\n",
       "        (chomp2): Chomp1d(\n",
       "        )\n",
       "        (relu2): ReLU()\n",
       "        (dropout2): Dropout2d(p=0.2)\n",
       "        (net): Sequential(\n",
       "          (0): Conv1d(512, 512, kernel_size=(2,), stride=(1,), padding=(2,), dilation=(2,))\n",
       "          (1): Chomp1d(\n",
       "          )\n",
       "          (2): ReLU()\n",
       "          (3): Dropout2d(p=0.2)\n",
       "          (4): Conv1d(512, 512, kernel_size=(2,), stride=(1,), padding=(2,), dilation=(2,))\n",
       "          (5): Chomp1d(\n",
       "          )\n",
       "          (6): ReLU()\n",
       "          (7): Dropout2d(p=0.2)\n",
       "        )\n",
       "        (relu): ReLU()\n",
       "      )\n",
       "      (2): TemporalBlock(\n",
       "        (conv1): Conv1d(512, 512, kernel_size=(2,), stride=(1,), padding=(4,), dilation=(4,))\n",
       "        (chomp1): Chomp1d(\n",
       "        )\n",
       "        (relu1): ReLU()\n",
       "        (dropout1): Dropout2d(p=0.2)\n",
       "        (conv2): Conv1d(512, 512, kernel_size=(2,), stride=(1,), padding=(4,), dilation=(4,))\n",
       "        (chomp2): Chomp1d(\n",
       "        )\n",
       "        (relu2): ReLU()\n",
       "        (dropout2): Dropout2d(p=0.2)\n",
       "        (net): Sequential(\n",
       "          (0): Conv1d(512, 512, kernel_size=(2,), stride=(1,), padding=(4,), dilation=(4,))\n",
       "          (1): Chomp1d(\n",
       "          )\n",
       "          (2): ReLU()\n",
       "          (3): Dropout2d(p=0.2)\n",
       "          (4): Conv1d(512, 512, kernel_size=(2,), stride=(1,), padding=(4,), dilation=(4,))\n",
       "          (5): Chomp1d(\n",
       "          )\n",
       "          (6): ReLU()\n",
       "          (7): Dropout2d(p=0.2)\n",
       "        )\n",
       "        (relu): ReLU()\n",
       "      )\n",
       "      (3): TemporalBlock(\n",
       "        (conv1): Conv1d(512, 512, kernel_size=(2,), stride=(1,), padding=(8,), dilation=(8,))\n",
       "        (chomp1): Chomp1d(\n",
       "        )\n",
       "        (relu1): ReLU()\n",
       "        (dropout1): Dropout2d(p=0.2)\n",
       "        (conv2): Conv1d(512, 512, kernel_size=(2,), stride=(1,), padding=(8,), dilation=(8,))\n",
       "        (chomp2): Chomp1d(\n",
       "        )\n",
       "        (relu2): ReLU()\n",
       "        (dropout2): Dropout2d(p=0.2)\n",
       "        (net): Sequential(\n",
       "          (0): Conv1d(512, 512, kernel_size=(2,), stride=(1,), padding=(8,), dilation=(8,))\n",
       "          (1): Chomp1d(\n",
       "          )\n",
       "          (2): ReLU()\n",
       "          (3): Dropout2d(p=0.2)\n",
       "          (4): Conv1d(512, 512, kernel_size=(2,), stride=(1,), padding=(8,), dilation=(8,))\n",
       "          (5): Chomp1d(\n",
       "          )\n",
       "          (6): ReLU()\n",
       "          (7): Dropout2d(p=0.2)\n",
       "        )\n",
       "        (relu): ReLU()\n",
       "      )\n",
       "      (4): TemporalBlock(\n",
       "        (conv1): Conv1d(512, 512, kernel_size=(2,), stride=(1,), padding=(16,), dilation=(16,))\n",
       "        (chomp1): Chomp1d(\n",
       "        )\n",
       "        (relu1): ReLU()\n",
       "        (dropout1): Dropout2d(p=0.2)\n",
       "        (conv2): Conv1d(512, 512, kernel_size=(2,), stride=(1,), padding=(16,), dilation=(16,))\n",
       "        (chomp2): Chomp1d(\n",
       "        )\n",
       "        (relu2): ReLU()\n",
       "        (dropout2): Dropout2d(p=0.2)\n",
       "        (net): Sequential(\n",
       "          (0): Conv1d(512, 512, kernel_size=(2,), stride=(1,), padding=(16,), dilation=(16,))\n",
       "          (1): Chomp1d(\n",
       "          )\n",
       "          (2): ReLU()\n",
       "          (3): Dropout2d(p=0.2)\n",
       "          (4): Conv1d(512, 512, kernel_size=(2,), stride=(1,), padding=(16,), dilation=(16,))\n",
       "          (5): Chomp1d(\n",
       "          )\n",
       "          (6): ReLU()\n",
       "          (7): Dropout2d(p=0.2)\n",
       "        )\n",
       "        (relu): ReLU()\n",
       "      )\n",
       "      (5): TemporalBlock(\n",
       "        (conv1): Conv1d(512, 512, kernel_size=(2,), stride=(1,), padding=(32,), dilation=(32,))\n",
       "        (chomp1): Chomp1d(\n",
       "        )\n",
       "        (relu1): ReLU()\n",
       "        (dropout1): Dropout2d(p=0.2)\n",
       "        (conv2): Conv1d(512, 512, kernel_size=(2,), stride=(1,), padding=(32,), dilation=(32,))\n",
       "        (chomp2): Chomp1d(\n",
       "        )\n",
       "        (relu2): ReLU()\n",
       "        (dropout2): Dropout2d(p=0.2)\n",
       "        (net): Sequential(\n",
       "          (0): Conv1d(512, 512, kernel_size=(2,), stride=(1,), padding=(32,), dilation=(32,))\n",
       "          (1): Chomp1d(\n",
       "          )\n",
       "          (2): ReLU()\n",
       "          (3): Dropout2d(p=0.2)\n",
       "          (4): Conv1d(512, 512, kernel_size=(2,), stride=(1,), padding=(32,), dilation=(32,))\n",
       "          (5): Chomp1d(\n",
       "          )\n",
       "          (6): ReLU()\n",
       "          (7): Dropout2d(p=0.2)\n",
       "        )\n",
       "        (relu): ReLU()\n",
       "      )\n",
       "      (6): TemporalBlock(\n",
       "        (conv1): Conv1d(512, 512, kernel_size=(2,), stride=(1,), padding=(64,), dilation=(64,))\n",
       "        (chomp1): Chomp1d(\n",
       "        )\n",
       "        (relu1): ReLU()\n",
       "        (dropout1): Dropout2d(p=0.2)\n",
       "        (conv2): Conv1d(512, 512, kernel_size=(2,), stride=(1,), padding=(64,), dilation=(64,))\n",
       "        (chomp2): Chomp1d(\n",
       "        )\n",
       "        (relu2): ReLU()\n",
       "        (dropout2): Dropout2d(p=0.2)\n",
       "        (net): Sequential(\n",
       "          (0): Conv1d(512, 512, kernel_size=(2,), stride=(1,), padding=(64,), dilation=(64,))\n",
       "          (1): Chomp1d(\n",
       "          )\n",
       "          (2): ReLU()\n",
       "          (3): Dropout2d(p=0.2)\n",
       "          (4): Conv1d(512, 512, kernel_size=(2,), stride=(1,), padding=(64,), dilation=(64,))\n",
       "          (5): Chomp1d(\n",
       "          )\n",
       "          (6): ReLU()\n",
       "          (7): Dropout2d(p=0.2)\n",
       "        )\n",
       "        (relu): ReLU()\n",
       "      )\n",
       "      (7): TemporalBlock(\n",
       "        (conv1): Conv1d(512, 512, kernel_size=(2,), stride=(1,), padding=(128,), dilation=(128,))\n",
       "        (chomp1): Chomp1d(\n",
       "        )\n",
       "        (relu1): ReLU()\n",
       "        (dropout1): Dropout2d(p=0.2)\n",
       "        (conv2): Conv1d(512, 512, kernel_size=(2,), stride=(1,), padding=(128,), dilation=(128,))\n",
       "        (chomp2): Chomp1d(\n",
       "        )\n",
       "        (relu2): ReLU()\n",
       "        (dropout2): Dropout2d(p=0.2)\n",
       "        (net): Sequential(\n",
       "          (0): Conv1d(512, 512, kernel_size=(2,), stride=(1,), padding=(128,), dilation=(128,))\n",
       "          (1): Chomp1d(\n",
       "          )\n",
       "          (2): ReLU()\n",
       "          (3): Dropout2d(p=0.2)\n",
       "          (4): Conv1d(512, 512, kernel_size=(2,), stride=(1,), padding=(128,), dilation=(128,))\n",
       "          (5): Chomp1d(\n",
       "          )\n",
       "          (6): ReLU()\n",
       "          (7): Dropout2d(p=0.2)\n",
       "        )\n",
       "        (relu): ReLU()\n",
       "      )\n",
       "    )\n",
       "  )\n",
       "  (decoder): Linear(in_features=512, out_features=13105, bias=True)\n",
       "  (drop): Dropout(p=0.1)\n",
       ")"
      ]
     },
     "execution_count": 21,
     "metadata": {},
     "output_type": "execute_result"
    }
   ],
   "source": [
    "n_words, id_to_word, word_to_id, data = load_data(file_path, window_size)\n",
    "print(f'number of words: {n_words}')\n",
    "print(f'size of the dataset: {len(data)}')\n",
    "num_channels                          = [512] * 8\n",
    "tcn                                   = LanguageModel(n_words, n_words, num_channels) \n",
    "tcn                                   = tcn.cuda() if cuda else tcn\n",
    "# We view the problem as a classification task in which the network tries\n",
    "# to predict what class the following character should be.   \n",
    "criterion                             = nn.CrossEntropyLoss()\n",
    "# We use an Adam optimizer with the default learning rate of 1e-3.\n",
    "optimizer                             = optim.Adam(tcn.parameters())\n",
    "tcn"
   ]
  },
  {
   "cell_type": "code",
   "execution_count": 15,
   "metadata": {},
   "outputs": [],
   "source": [
    "if use_pretrained:\n",
    "    tcn.load_state_dict(torch.load('../models/tcn_horoscope.h5'))"
   ]
  },
  {
   "cell_type": "code",
   "execution_count": 16,
   "metadata": {},
   "outputs": [
    {
     "data": {
      "text/plain": [
       "15336131"
      ]
     },
     "execution_count": 16,
     "metadata": {},
     "output_type": "execute_result"
    }
   ],
   "source": [
    "params = filter(lambda p: p.requires_grad, tcn.parameters())\n",
    "sum([np.prod(p.size()) for p in params])"
   ]
  },
  {
   "cell_type": "code",
   "execution_count": 17,
   "metadata": {},
   "outputs": [],
   "source": [
    "batch_per_epoch  = math.ceil(len(data) / batch_size)\n",
    "loss_update_rate = 3"
   ]
  },
  {
   "cell_type": "code",
   "execution_count": 18,
   "metadata": {},
   "outputs": [
    {
     "data": {
      "application/vnd.jupyter.widget-view+json": {
       "model_id": "3b720b6d1e694573a3a1e46eaf69a308",
       "version_major": 2,
       "version_minor": 0
      },
      "text/html": [
       "<p>Failed to display Jupyter Widget of type <code>HBox</code>.</p>\n",
       "<p>\n",
       "  If you're reading this message in the Jupyter Notebook or JupyterLab Notebook, it may mean\n",
       "  that the widgets JavaScript is still loading. If this message persists, it\n",
       "  likely means that the widgets JavaScript library is either not installed or\n",
       "  not enabled. See the <a href=\"https://ipywidgets.readthedocs.io/en/stable/user_install.html\">Jupyter\n",
       "  Widgets Documentation</a> for setup instructions.\n",
       "</p>\n",
       "<p>\n",
       "  If you're reading this message in another frontend (for example, a static\n",
       "  rendering on GitHub or <a href=\"https://nbviewer.jupyter.org/\">NBViewer</a>),\n",
       "  it may mean that your frontend doesn't currently support widgets.\n",
       "</p>\n"
      ],
      "text/plain": [
       "HBox(children=(IntProgress(value=0, description='epochs', max=60), HTML(value='')))"
      ]
     },
     "metadata": {},
     "output_type": "display_data"
    },
    {
     "data": {
      "application/vnd.jupyter.widget-view+json": {
       "model_id": "1262ffc5cb24462584fe9cd5867e2434",
       "version_major": 2,
       "version_minor": 0
      },
      "text/html": [
       "<p>Failed to display Jupyter Widget of type <code>HBox</code>.</p>\n",
       "<p>\n",
       "  If you're reading this message in the Jupyter Notebook or JupyterLab Notebook, it may mean\n",
       "  that the widgets JavaScript is still loading. If this message persists, it\n",
       "  likely means that the widgets JavaScript library is either not installed or\n",
       "  not enabled. See the <a href=\"https://ipywidgets.readthedocs.io/en/stable/user_install.html\">Jupyter\n",
       "  Widgets Documentation</a> for setup instructions.\n",
       "</p>\n",
       "<p>\n",
       "  If you're reading this message in another frontend (for example, a static\n",
       "  rendering on GitHub or <a href=\"https://nbviewer.jupyter.org/\">NBViewer</a>),\n",
       "  it may mean that your frontend doesn't currently support widgets.\n",
       "</p>\n"
      ],
      "text/plain": [
       "HBox(children=(IntProgress(value=0, description='batches', max=2518), HTML(value='')))"
      ]
     },
     "metadata": {},
     "output_type": "display_data"
    },
    {
     "name": "stdout",
     "output_type": "stream",
     "text": [
      "Batch:    500, loss:  5.6191\n",
      "once again see the horizon. there doesn't seem to be a lot that could get in your way now, but too much bravado might create its own set of problems. it's easy to miss a critical piece of data or respond too quickly to an event. nevertheless, a positive outcome is likely today, so don't waste a lot of time worrying about what might go wrong. you may fall so in love with your own dreams today that you wish you could manifest them in the real world. but don't just leave your thoughts to wander around in your mind. instead of wondering where an idea will take you, be proactive and consciously guide your imagination where you want it to go. once you create a mental picture that makes you happy, consider how to make your fantasies come true. you are eager to fulfill a recent promise now and\n",
      "\n",
      "Batch:   1000, loss:  3.6880\n",
      "however, caution is also advised if you decide to reveal your current frustration because you may make matters worse if you blame a friend or associate for your dilemma. minimize your anxiety and relieve the tension by sharing your inner process without judging anyone else. your impatience could create tension if you demand too much from someone today. you might even try to control things by exercising more authority. unfortunately, this ineffective management style could create problems. it is wiser to be honest and express your vulnerability by letting others know about your areas of concern. however, it's not useful to expect them to fix your problems, but a healthy exchange of ideas can reveal something important you didn't know. your methodical approach to work may not be as effective as you wish today, and this could annoy you so much that you grow angry. it takes a lot to\n",
      "\n",
      "Batch:   1500, loss:  2.8309\n",
      "time to complete your agenda. unfortunately, you could make too many plans and promise too much all at once. pace yourself so you can sustain your output until the energy settles. your fantasies may be more active than anyone realizes, but that's because you're able to balance them with actual productivity. keeping your dreams to yourself helps you convince others that your feet are firmly planted on the ground when, in fact, you might be soaring in your imagination. nevertheless, a sudden change in circumstances could reveal your secret life. there's no reason to hide the truth since the outcome is likely to be a positive one. you can find your work groove today and should end up feeling great about your accomplishments. thankfully, whatever you do now has a positive impact on your future. however, everything isn't as light and breezy as it seems. serious issues must be addressed\n",
      "\n",
      "Batch:   2000, loss:  2.4009\n",
      "your intense curiosity; an indirect approach may be the perfect catalyst to trigger a necessary conversation. your desire for an intellectual discussion may be thwarted today as other people's feelings keep cycling back into the conversation. you might try to steer the topics away from nonfactual biases. but your attempts to modify the natural flow of the group process could anger someone, eliciting the very same emotional outbreak you wish to avoid. instead, allow the dialogue to meander naturally without imposing your agenda. if you believe that a co-worker is trying to take unfair advantage of you at work, your swift response today could catch him or her off guard. sometimes you are more forgiving, but now you could overreact if you feel that you've been pushed too far. don't be afraid of a power struggle; just keep in mind that your compassion is your most effective weapon. the resistance\n",
      "\n",
      "Batch:   2500, loss:  2.1177\n",
      "your mental clarity returns. if you can be comfortable with your ambivalence, then nothing needs to be changed for now. your anticipation of the future is likely more intense now than the events that actually follow. however, no matter how you look at it, you're in for significant changes. don't panic; it may take time to put the big pieces in place. during your preparation process, it's crucial to stay in the present moment and handle each situation as it arises, rather than worrying about what you might have to do tomorrow. you are ready for a bit of fun now, even if you still have plenty of things to do. keep in mind that it isn't wise to avoid your responsibilities, for they will continue to multiply over the next few days. grab a bit of enjoyment when you can and then get back to work. it's all too\n",
      "\n"
     ]
    },
    {
     "data": {
      "application/vnd.jupyter.widget-view+json": {
       "model_id": "c4dc93b89a3844fa8e43e0329e53be9b",
       "version_major": 2,
       "version_minor": 0
      },
      "text/html": [
       "<p>Failed to display Jupyter Widget of type <code>HBox</code>.</p>\n",
       "<p>\n",
       "  If you're reading this message in the Jupyter Notebook or JupyterLab Notebook, it may mean\n",
       "  that the widgets JavaScript is still loading. If this message persists, it\n",
       "  likely means that the widgets JavaScript library is either not installed or\n",
       "  not enabled. See the <a href=\"https://ipywidgets.readthedocs.io/en/stable/user_install.html\">Jupyter\n",
       "  Widgets Documentation</a> for setup instructions.\n",
       "</p>\n",
       "<p>\n",
       "  If you're reading this message in another frontend (for example, a static\n",
       "  rendering on GitHub or <a href=\"https://nbviewer.jupyter.org/\">NBViewer</a>),\n",
       "  it may mean that your frontend doesn't currently support widgets.\n",
       "</p>\n"
      ],
      "text/plain": [
       "HBox(children=(IntProgress(value=0, description='batches', max=2518), HTML(value='')))"
      ]
     },
     "metadata": {},
     "output_type": "display_data"
    },
    {
     "name": "stdout",
     "output_type": "stream",
     "text": [
      "Batch:    500, loss:  1.8819\n",
      "unprepared for the strength of your feelings today as the full moon activates your sensitive sign. emotions tug at every thought from their subterranean vantage points, making it difficult to maintain objectivity. don't ignore your personal needs; the wisest thing you can do now is to practice balancing the demands of others with your own desires. you want to continue with your regular routines, including eating whatever makes the most sense to you. but unconscious desires can lure you away from your healthier resolutions. don't judge yourself so harshly if you slip off track today. meanwhile, keep working toward your goals and you'll notice progress soon enough. today's nurturing cancer full moon brings helpful emotional support from your friends and family. unfortunately, you are not being offered a free lunch by everyone, since someone may be resisting the very same changes you are trying to make. although problems can originate\n",
      "\n",
      "Batch:   1000, loss:  1.6995\n",
      "especially meaningful to you. however, pick your battles carefully because it's not healthy to waste energy over an unimportant ego skirmish where no one will come out ahead. others will be more likely to listen if you seek more subtle ways of expressing yourself, rather than pursuing open conflict. there are no quick fixes to an ongoing financial problem, although carefully considered action now can have a positive impact on your circumstances. fortunately, your current money dilemma has a solution if you are willing to get serious and apply your undivided attention to the situation. luckily, you can benefit from a smart plan and a strong commitment, so take your time, set priorities and act with fierce intention. there can be a big difference between your sense of yourself and how someone else perceives you today. you may believe that you are simply responding to a situation normally, but your\n",
      "\n",
      "Batch:   1500, loss:  1.5383\n",
      "you want. travel plans may need to be altered due to unforeseeable complications. or, maybe, you discover something entirely new that can alter the way you perceive yourself in the world. no matter how this transit plays out, remember that your direction in life is shifting. give yourself permission to explore the new paths that are opening in front of you. you may receive an important message from the universe today that ultimately takes you on an amazing adventure. you might feel as if a lightning bolt shatters your perceptions about a friend or business partner. you have held on to a belief that worked well for you in the past, but is no longer doing you justice now in the present. don't be afraid to let go of an outmoded idea that can get in the way of your present happiness. a powerful person who is close to you\n",
      "\n",
      "Batch:   2000, loss:  1.4020\n",
      "conscious intervention can pull you back to reality before you falter. you have been anticipating a change in your overall life path and now the time has come to make it happen. this might seem like a minor adjustment, yet it can turn out to be an important one. but don't make choices based on your whim of the moment; consider your options carefully and then go with the one that will carry you the farthest. friends and co-workers may be very annoying today, especially if they appear unrealistically determined to have their way. you can't understand how anyone can be so blind while standing face to face with contradictory facts. don't try to show others the errors of their ways now; everyone needs to learn their lessons on their own. meanwhile, you have your own stuff to worry about. it's easy to connect with your friends in a social\n",
      "\n",
      "Batch:   2500, loss:  1.2836\n",
      "time for you to reach your destination. thankfully, your unrelenting determination may be just what you need to get you there. you are all about getting ahead at work today and can make a lot of progress if you put your mind to it. fortunately, this is a great time to organize your life, and it's wise to start by reprioritizing your goals. even if you already know where you want to go, stopping to redefine your objectives is the most useful thing you can do right now. once you make a decision about your new direction, sit with it for a few days before doing anything about it to make sure that your optimism doesn't get the best of you. you are feeling good enough today that you are tempted to take on too much, but five planets in practical earth signs make it more likely that you'll be\n",
      "\n"
     ]
    },
    {
     "data": {
      "application/vnd.jupyter.widget-view+json": {
       "model_id": "b241e76fa2064920b9663fa4972b4abe",
       "version_major": 2,
       "version_minor": 0
      },
      "text/html": [
       "<p>Failed to display Jupyter Widget of type <code>HBox</code>.</p>\n",
       "<p>\n",
       "  If you're reading this message in the Jupyter Notebook or JupyterLab Notebook, it may mean\n",
       "  that the widgets JavaScript is still loading. If this message persists, it\n",
       "  likely means that the widgets JavaScript library is either not installed or\n",
       "  not enabled. See the <a href=\"https://ipywidgets.readthedocs.io/en/stable/user_install.html\">Jupyter\n",
       "  Widgets Documentation</a> for setup instructions.\n",
       "</p>\n",
       "<p>\n",
       "  If you're reading this message in another frontend (for example, a static\n",
       "  rendering on GitHub or <a href=\"https://nbviewer.jupyter.org/\">NBViewer</a>),\n",
       "  it may mean that your frontend doesn't currently support widgets.\n",
       "</p>\n"
      ],
      "text/plain": [
       "HBox(children=(IntProgress(value=0, description='batches', max=2518), HTML(value='')))"
      ]
     },
     "metadata": {},
     "output_type": "display_data"
    },
    {
     "name": "stdout",
     "output_type": "stream",
     "text": [
      "Batch:    500, loss:  1.1735\n",
      "to your goals now is a smart strategy that should ultimately pay off, but you'll need to show some flexibility along the way. you want to get ahead at work, but might not have the patience now that is required to succeed. you may feel frustrated because your job would be much easier without all the needless distractions from your personal life. unfortunately, your friends and family aren't as supportive as you wish. don't be afraid to set clear boundaries or withdraw from others in order to maintain your integrity. you may feel stuck today, as if your creativity is temporarily blocked. your regular routine could fall apart now, making it impossible for you to concentrate on realizing your dreams. however, don't sell yourself short by thinking that you can't do the miraculous. you are more capable than you realize, but you must have faith and patience for positive results\n",
      "\n",
      "Batch:   1000, loss:  1.0937\n",
      "look to you for guidance now because they think you know what's going on. although it's helpful to share your perspective, don't forget that there are many different ways to reach the same destination. current circumstances pull you one way today while your fantasies lure you in a totally different direction. on other days your confusion could be problematic, but now it may be the key to balancing your commitments with your dreams. don't try to limit your thinking with logic because your imagination can offer workable answers that are not restrained by the constraints of the real world. hanging out with your friends has been an antidote recently to an uncomfortable relationship situation. unfortunately, you may feel more vulnerable now and your fear of being hurt motivates you to withdraw into the safety of your own private world. thankfully, social settings can provide the opportunity for low-key casual interactions\n",
      "\n",
      "Batch:   1500, loss:  1.0232\n",
      "need time to contemplate until you know how you truly feel. don't allow others to talk you into disclosing anything before you're ready. you may be too eager to adjust your schedule if something comes up that seems important. however, canceling an existing appointment at the last minute could create problems, rather than solve them. it's not wise to act impulsively if your decision involves others. before you decide on a new course of action, consider the impact your behavior will have on everyone else. if it still seems urgent, go ahead with the necessary changes. you may be unclear about your current financial picture, which could lead you to make a bad decision today. you might have made a mistake while calculating an account balance or, perhaps, underestimated the cost of a large purchase. confront the issue promptly by getting all your facts straight first. it doesn't matter if\n",
      "\n",
      "Batch:   2000, loss:  0.9632\n",
      "waste of time and energy; save your nickels and dimes, instead. it's not easy to contain your dreams as today's full moon eclipse occurs in your exuberant sign. but rather than going off on your own, you're likely to tag along with a friend or partner when the moon opposes chatty mercury in your 7th house of companions. unfortunately, you can't rely on others for advice now because they will probably encourage your scheme, even if it's not very practical. wait until the moon enters realistic capricorn tomorrow before embarking on your next big adventure. you typically handle your responsibilities early in the day so you can relax later on. but you might feel so overwhelmed by the sheer number of items on your agenda now that you don't know where to begin. don't despair; instead of starting on your list right away, take time to review your priorities. once\n",
      "\n",
      "Batch:   2500, loss:  0.9104\n",
      "possible and let others know what they can expect from you at this time. it may be an uphill battle to control your dreams today because they are overflowing out of your sleep and right into your waking life. obviously, this can be quite confusing if you attempt to rationalize your feelings when your emotions are being fed by unconscious urges. if you're unsure about what to do, step back a bit until your path becomes clear. a temporary retreat is a better strategy than making believe that you can tell what's real. you don't really need to be acknowledged by others today as long as you feel that your life is moving along in the right direction. the moon's current visit to your 11th house of long-term goals takes your mind off your immediate responsibilities and focuses your thinking on a larger perspective. don't hide your dreams, even if\n",
      "\n"
     ]
    },
    {
     "data": {
      "application/vnd.jupyter.widget-view+json": {
       "model_id": "1589db07f54540a2b0ab5b48070defa3",
       "version_major": 2,
       "version_minor": 0
      },
      "text/html": [
       "<p>Failed to display Jupyter Widget of type <code>HBox</code>.</p>\n",
       "<p>\n",
       "  If you're reading this message in the Jupyter Notebook or JupyterLab Notebook, it may mean\n",
       "  that the widgets JavaScript is still loading. If this message persists, it\n",
       "  likely means that the widgets JavaScript library is either not installed or\n",
       "  not enabled. See the <a href=\"https://ipywidgets.readthedocs.io/en/stable/user_install.html\">Jupyter\n",
       "  Widgets Documentation</a> for setup instructions.\n",
       "</p>\n",
       "<p>\n",
       "  If you're reading this message in another frontend (for example, a static\n",
       "  rendering on GitHub or <a href=\"https://nbviewer.jupyter.org/\">NBViewer</a>),\n",
       "  it may mean that your frontend doesn't currently support widgets.\n",
       "</p>\n"
      ],
      "text/plain": [
       "HBox(children=(IntProgress(value=0, description='batches', max=2518), HTML(value='')))"
      ]
     },
     "metadata": {},
     "output_type": "display_data"
    },
    {
     "name": "stdout",
     "output_type": "stream",
     "text": [
      "Batch:    500, loss:  0.8592\n",
      "your mind. everything looks good until you wake up and have to deal with things the way they are in reality rather than how they are in your fantasies. you may be in for a frustrating day if you think that you need to maintain control in a relationship. but your illusions will likely dissipate quickly, like clouds after a storm, once you have your first confrontation with a friend or partner who doesn't buy into your way of seeing things. letting someone else lead for a while lessens the pressure and allows you to enjoy yourself without having to know every detail. your ruling planet venus brings you a beautiful image today, but it's slightly out of focus as she engages in a tug-of-war with mystical neptune. it may be difficult to meet your responsibilities now because you prefer seeking the elusive perfection of beauty than dealing with mundane\n",
      "\n",
      "Batch:   1000, loss:  0.8230\n",
      "before you overreact, try changing your mind about what's happening in the present moment. if you attempt to shut others up now, they'll just get angry and probably grow even more vocal. but if you take their suggestions in stride, they will feel acknowledged and you might even learn something important in the process. you are experiencing everything with greater intensity today and this can be very draining on those around you. but don't turn off your feelings, for any form of avoidance or denial only makes the atmosphere even more intense. however, keep in mind that you don't need to express every thought or share every passion that stirs your soul. you have a lot going on in your life now, and yet you're still very enthusiastic about what's ahead. even though your current trajectory is leading you into exciting new territory, it's going to take a while for\n",
      "\n",
      "Batch:   1500, loss:  0.7898\n",
      "are inextricably intertwined, even if they seem like separate entities. today you might be more self-confident because you can ride a new sense of power from your emotions. if your self-esteem is growing, consider cashing in on it and asking for a raise. naturally, circumstances at work need to support your request, but in any case your contribution and your courage won't go unnoticed. you are still enjoying the pleasurable benefits of three planets visiting your 5th house of spontaneity. your involvement in a significant creative project or a new romance may be growing, and you're tempted to go overboard as you try to give the performance of your life. this can be quite a memorable day as long as you don't struggle to accomplish too much. it's refreshing to feel so creative now and you're excited knowing that your weekend could improve even more. but your easygoing attitude today\n",
      "\n",
      "Batch:   2000, loss:  0.7606\n",
      "open-minded sagittarius new moon eclipse illuminates your 4th house of roots today. you may feel a strong yearning to sink into your past and attempt to recover a memory that has particular relevance now. but your thoughts might be so vague that you end up feeling frustrated rather than comforted. focusing your intentions on the possibilities of the future is ultimately more constructive than nostalgically dreaming about the past. meandering philosophical conversations with close friends or siblings takes your mind off more serious problems today with an inspiring sagittarius solar eclipse stimulating your 3rd house of communication. however, these spirited conversations won't necessarily lead to anything productive. however, verbal banter with a trusted friend can enrich your life now, giving you the impetus to establish goals and try to achieve them. just remember, you will still have to put in the hard work to reach your destination. you may question\n",
      "\n",
      "Batch:   2500, loss:  0.7343\n",
      "may be a challenge to avoid feeling like a victim now, but giving too much of yourself too quickly can turn compassion into resentment. you can be more of a help to those you love in the long run if you remember to maintain healthy boundaries. the good news is that you won't have to give up if you face a setback today. however, you will be better off if you pause long enough to listen to the message you're receiving. the current resistance is probably occurring for a reason, even if you choose to avoid it. thankfully, an obstacle could become more manageable once you understand why it appeared. it's less crucial now to achieve your goal than to integrate the lessons you learn. you may feel complacent with your life, making it difficult to motivate yourself even if you have a lot to do today. thankfully, it's easier\n",
      "\n"
     ]
    },
    {
     "data": {
      "application/vnd.jupyter.widget-view+json": {
       "model_id": "04ea77ef29c34a8eb769c26b2dc0429e",
       "version_major": 2,
       "version_minor": 0
      },
      "text/html": [
       "<p>Failed to display Jupyter Widget of type <code>HBox</code>.</p>\n",
       "<p>\n",
       "  If you're reading this message in the Jupyter Notebook or JupyterLab Notebook, it may mean\n",
       "  that the widgets JavaScript is still loading. If this message persists, it\n",
       "  likely means that the widgets JavaScript library is either not installed or\n",
       "  not enabled. See the <a href=\"https://ipywidgets.readthedocs.io/en/stable/user_install.html\">Jupyter\n",
       "  Widgets Documentation</a> for setup instructions.\n",
       "</p>\n",
       "<p>\n",
       "  If you're reading this message in another frontend (for example, a static\n",
       "  rendering on GitHub or <a href=\"https://nbviewer.jupyter.org/\">NBViewer</a>),\n",
       "  it may mean that your frontend doesn't currently support widgets.\n",
       "</p>\n"
      ],
      "text/plain": [
       "HBox(children=(IntProgress(value=0, description='batches', max=2518), HTML(value='')))"
      ]
     },
     "metadata": {},
     "output_type": "display_data"
    },
    {
     "name": "stdout",
     "output_type": "stream",
     "text": [
      "Batch:    500, loss:  0.7057\n",
      "you're feeling. you might wish that you had a plan to keep your turmoil to yourself, but your deep concerns may bubble up to the surface anyhow. nothing will be gained by pretending everything is okay, but you don't have to share more than you want. there's a magical healing process unfolding, and attempts to control it will only slow it down. you have lofty goals and can make great headway toward them if you set your mind to it. fortunately, you're confident about your ability to stay on track today and are less likely than usual to be distracted by your shifting moods. concentrate on what's in your heart and act on your feelings. remember, you don't have to prove anything to others now; all you need to do is focus on your destination. you're very excited about all the possibilities in your life now that the fiery sagittarius\n",
      "\n",
      "Batch:   1000, loss:  0.6868\n",
      "can effectively hide a very deep well of feelings today. but just going through the motions isn't very rewarding, so share some of what's on your mind with someone you trust. if you're having a hard time starting the conversation, write down your thoughts and use your notes to get the ball rolling. although you want to balance your desires with what others need, your good intentions could run into resistance today. it seems as if it would be easier to just gloss over your annoyance if you think that someone is keeping a secret. however your suspicion can turn into anger if you don't voice your concerns. ironically, you may be wrong about your hunch, but you'll feel relieved once your fears are out in the open. although you try to maintain your cool today, you know big changes are coming that could impact your closest relationships. even if\n",
      "\n",
      "Batch:   1500, loss:  0.6689\n",
      "don't respond in kind. rather than expecting everyone else to make adjustments for you, meet others halfway. you may be happily surprised at how easy it is once you give it a try. you have had plenty of stress recently and are feeling relieved now because everything is settling down. but you might not be totally convinced that the old dramas are really over. nevertheless, consider taking a mini-vacation today, even if it's only for a few quick hours, as the moon visits your 9th house of getaways. anything you can do to relax helps regenerate your energy for the new cycle that will begin next week. you may be challenged to find time to relax today because the dutiful capricorn moon keeps reminding you of what you promised to do. instead of procrastinating, settle in for a bit of hard work. you could find the extra effort more energizing\n",
      "\n",
      "Batch:   2000, loss:  0.6508\n",
      "a holiday to an exotic destination now that the sun is visiting your 9th house of travel. its easy trine to irrepressible uranus in your 5th house of play turns an unrealistic fantasy into a reachable goal. you don't need to fill in all the details yet; just declare your intentions and start making plans now. before you know it you'll be on your way. you may need to deal with a few surprises in your personal life now, but ultimately everything should turn out just fine. your need for stability on the home front runs up against your desire for more personal freedom. normally, you aren't thrilled by the idea of unexpected change; however, today you are relieved when the stuck energy is finally released. don't hold on to old fears because they will only stand in the way of your potential happiness. your key planet uranus forms a\n",
      "\n",
      "Batch:   2500, loss:  0.6362\n",
      "usual now. buying a unique gift can be a joyful experience as long as you keep the other person's needs in mind rather than getting something that you would secretly like yourself. you are often drawn to ideas of doing something adventurous with your friends, but today you might pass up a social activity so you can stay home. of course you can't do both, so choosing one or the other could become problematic if others demand that you make a choice. but micromanaging your day isn't a sensible strategy; you'll be happier now if you let someone else make the decisions. you could end up feeling a real sense of exhilaration once you let go of control. you might feel unsettled if you're playing outside of the rules now. normally, venus' shift into your sign motivates you to follow a conservative path of the heart, but her square to\n",
      "\n"
     ]
    },
    {
     "data": {
      "application/vnd.jupyter.widget-view+json": {
       "model_id": "d13a243f87744d19a3097668d8866ce6",
       "version_major": 2,
       "version_minor": 0
      },
      "text/html": [
       "<p>Failed to display Jupyter Widget of type <code>HBox</code>.</p>\n",
       "<p>\n",
       "  If you're reading this message in the Jupyter Notebook or JupyterLab Notebook, it may mean\n",
       "  that the widgets JavaScript is still loading. If this message persists, it\n",
       "  likely means that the widgets JavaScript library is either not installed or\n",
       "  not enabled. See the <a href=\"https://ipywidgets.readthedocs.io/en/stable/user_install.html\">Jupyter\n",
       "  Widgets Documentation</a> for setup instructions.\n",
       "</p>\n",
       "<p>\n",
       "  If you're reading this message in another frontend (for example, a static\n",
       "  rendering on GitHub or <a href=\"https://nbviewer.jupyter.org/\">NBViewer</a>),\n",
       "  it may mean that your frontend doesn't currently support widgets.\n",
       "</p>\n"
      ],
      "text/plain": [
       "HBox(children=(IntProgress(value=0, description='batches', max=2518), HTML(value='')))"
      ]
     },
     "metadata": {},
     "output_type": "display_data"
    },
    {
     "name": "stdout",
     "output_type": "stream",
     "text": [
      "Batch:    500, loss:  0.6172\n",
      "of power. however, you're still not interested in changing your mind now. unfortunately, your current lack of flexibility might make a difficult situation worse. on the other hand, trying to meet another person halfway could produce mutual benefits. you may be feeling an upwelling of anger today, yet it seems more intense than the situation would normally warrant. although you want to express your frustration, you don't want to deal with the emotional fallout. play it cool and sidestep confrontation for now. or ride your passion and say what's in your heart no matter what. there's no right or wrong answer; ultimately, it's your decision to make. you might not show your feelings today in an attempt to avoid a possible meltdown, as your emotions pull you into the shadows. you are more accustomed to the light, making it challenging for you to figure out what's currently happening. for now,\n",
      "\n",
      "Batch:   1000, loss:  0.6064\n",
      "commitments are placing on you. instead of stubbornly fighting the resistance you face today, just let go of your personal agenda for a while. the path ahead will open for you when you aren't pressuring everyone to follow your plan. relax and go with the flow. you don't seem to be very interested in listening to other people's criticism today. it isn't that your beliefs are based upon idealistic fantasies; it's just that you can see the flaws in a current relationship as well as anyone else. but you know that your feelings come and go, like the rising and falling of the tides, so it's pointless to struggle against strong currents. it may be wiser to wait for the tide to change before announcing your intentions. although others seem to go out of their way to be nice to you now, you can intuitively sense if they're being shallow\n",
      "\n",
      "Batch:   1500, loss:  0.5939\n",
      "being serious is not your idea of fun and games. still, you're bound to feel much better if you can tie up as many loose ends as possible. just don't take any shortcuts because questionable motives will invite the energy to unravel what you already completed. it's more important now to follow through on a project already in motion than to go off on a new venture. the moon's shift into fellow earth sign taurus this evening reflects your need to slow down and get things right the first time. you can always make plans for your next great adventure tomorrow. still, this isn't a particularly easy day, but you can be very productive if you're willing to balance your down-to-earth approach with your ambitious goals. you may be feeling extra clever now and are motivated to move quickly on your plans for the immediate future. but, too much spontaneity\n",
      "\n",
      "Batch:   2000, loss:  0.5836\n",
      "you can rise to the occasion. don't back down; you are closer to an important victory than you think. the moon's challenging square to austere saturn may put you in direct conflict with an authority figure at work. your boss might not acknowledge your needs so you'll have to overcome his or her narrow thinking. your smartest strategy is to consciously lessen your own intensity to give everyone the time and space to recover any lost equilibrium. for now, less is actually better than more when asking for what you want. suppressed anger stands between you and your happiness today, but unconsciously expressing negativity might also bring you down. however, you can begin to transmute your awkward feelings into positive actions by simply shifting your perspective. your confidence will return once you see that there are more options available. but don't fall victim to taking an unnecessary risk; cautious optimism\n",
      "\n",
      "Batch:   2500, loss:  0.5719\n",
      "current path, especially if you don't like where it's heading. in both situations your attachment or avoidance intensifies the situation and makes it more difficult to navigate through the circumstances. loosening your mental grip allows you to have more options and regain a healthier perspective. people at work probably won't mess with you today because they can tell that you're not in a playful mood. they may even be afraid that you might strike back with vengeance to make your point of view very clear. however, you aren't necessarily interested in expending energy just to explain your position to everyone. you can define the rules of the game now, so simply state your boundaries and then move on. you're like a bull on a rampage today as you gain momentum and strive to reach your goals. you may not have any superpowers, but your determination can be so strong and\n",
      "\n"
     ]
    },
    {
     "data": {
      "application/vnd.jupyter.widget-view+json": {
       "model_id": "dd1bd15758f843cb8d173170eeaf4a92",
       "version_major": 2,
       "version_minor": 0
      },
      "text/html": [
       "<p>Failed to display Jupyter Widget of type <code>HBox</code>.</p>\n",
       "<p>\n",
       "  If you're reading this message in the Jupyter Notebook or JupyterLab Notebook, it may mean\n",
       "  that the widgets JavaScript is still loading. If this message persists, it\n",
       "  likely means that the widgets JavaScript library is either not installed or\n",
       "  not enabled. See the <a href=\"https://ipywidgets.readthedocs.io/en/stable/user_install.html\">Jupyter\n",
       "  Widgets Documentation</a> for setup instructions.\n",
       "</p>\n",
       "<p>\n",
       "  If you're reading this message in another frontend (for example, a static\n",
       "  rendering on GitHub or <a href=\"https://nbviewer.jupyter.org/\">NBViewer</a>),\n",
       "  it may mean that your frontend doesn't currently support widgets.\n",
       "</p>\n"
      ],
      "text/plain": [
       "HBox(children=(IntProgress(value=0, description='batches', max=2518), HTML(value='')))"
      ]
     },
     "metadata": {},
     "output_type": "display_data"
    },
    {
     "name": "stdout",
     "output_type": "stream",
     "text": [
      "Batch:    500, loss:  0.5595\n",
      "short-lived passion for you, even if it's a lifelong commitment for others. don't resist your feelings, your current journey can teach you something important about your place in the world. you must be on guard against your tendency to respond too quickly when interacting with others today. someone might mistake your intensity for anger, or it's possible that you're really mad and don't even realize it. either way, it's healthy to take a few relaxing breaths to check in with your emotions before losing your temper and dumping unresolved feelings onto those closest to you. you may have a very vivid dream that doesn't make any sense to you, no matter how you try to interpret it. oddly enough, you could be reminded of the nonsensical images when something happens during the day to bring the entire fantasy back to consciousness. there's no need to force rational meaning onto a\n",
      "\n",
      "Batch:   1000, loss:  0.5526\n",
      "won't work, either. putting on an air of bravado won't do the trick today, so get serious and keep bringing your scattered energy back to the tasks at hand. the moon forms an uncomfortable semisquare with your key planet venus today, tying your feelings up in knots. a simple desire becomes more complex as you obsess about the power that love has over you. however, your worries may just be the result of an overactive imagination. don't waste time thinking about something that may never happen. you'll be happier if you keep your attention on the present moment. your key planet mercury is finally regaining speed as it continues to recover from its retrograde phase last month. don't be discouraged about your overall lack of progress on a creative project, for things should be turning around pretty quickly today. nevertheless, it may be difficult to make up your mind with\n",
      "\n",
      "Batch:   1500, loss:  0.5432\n",
      "case as clearly as possible and then let go of your attachment to the outcome. you may be pleasantly surprised with the results. it's time to resurrect your dreams of taking a holiday to an exotic destination now that the sun is visiting your 9th house of travel. its easy trine to irrepressible uranus in your 5th house of play turns an unrealistic fantasy into a reachable goal. you don't need to fill in all the details yet; just declare your intentions and start making plans now. before you know it you'll be on your way. you may need to deal with a few surprises in your personal life now, but ultimately everything should turn out just fine. your need for stability on the home front runs up against your desire for more personal freedom. normally, you aren't thrilled by the idea of unexpected change; however, today you are relieved\n",
      "\n",
      "Batch:   2000, loss:  0.5353\n",
      "there's much for you to learn while exploring the exquisite complexities of relationships. your interactions with others today can open a new window of opportunity. you may want to question the significance of this sudden turn of events, but logical analysis won't necessarily tell you what you need to know now. stay open to your current experience without trying to classify it. even if your first impulse is to retreat, save your final judgment until the excitement of the moment has worn off. forget about your old habits and assumptions that have been holding you back. there's no need to process the same things you've been working on for such a long time. it's time to look ahead today, set a new course and begin doing exactly what will get you to your chosen destination. but don't try to do too much all at once. for now, it's all about\n",
      "\n",
      "Batch:   2500, loss:  0.5279\n",
      "and respecting the needs of others. it doesn't matter if you're feeling a bit uncomfortable, because it's at these awkward spots that the real magic happens. you are an intense bundle of erratic thoughts today as familiar ideas combine to create ingenious plans. luckily, you can showcase your talents without too much effort. however, there is a huge difference between an adequate job and an awesome one. putting extra time into your preparation pays off now, so don't take any unnecessary shortcuts. it's scary to push forward so far that you must scramble your way back to safe ground. there's no need to throw out your sensible plans just because you momentarily forgot about them and then moved too fast. risk-taking isn't necessary now; just slow down and stay on the current path. don't let the increasing pressure trick you into reacting impulsively. sometimes you get so excited about your\n",
      "\n"
     ]
    },
    {
     "data": {
      "application/vnd.jupyter.widget-view+json": {
       "model_id": "80da0d53f2e34f4a80fa9d5bea32602b",
       "version_major": 2,
       "version_minor": 0
      },
      "text/html": [
       "<p>Failed to display Jupyter Widget of type <code>HBox</code>.</p>\n",
       "<p>\n",
       "  If you're reading this message in the Jupyter Notebook or JupyterLab Notebook, it may mean\n",
       "  that the widgets JavaScript is still loading. If this message persists, it\n",
       "  likely means that the widgets JavaScript library is either not installed or\n",
       "  not enabled. See the <a href=\"https://ipywidgets.readthedocs.io/en/stable/user_install.html\">Jupyter\n",
       "  Widgets Documentation</a> for setup instructions.\n",
       "</p>\n",
       "<p>\n",
       "  If you're reading this message in another frontend (for example, a static\n",
       "  rendering on GitHub or <a href=\"https://nbviewer.jupyter.org/\">NBViewer</a>),\n",
       "  it may mean that your frontend doesn't currently support widgets.\n",
       "</p>\n"
      ],
      "text/plain": [
       "HBox(children=(IntProgress(value=0, description='batches', max=2518), HTML(value='')))"
      ]
     },
     "metadata": {},
     "output_type": "display_data"
    },
    {
     "name": "stdout",
     "output_type": "stream",
     "text": [
      "Batch:    500, loss:  0.5174\n",
      "with forceful mars now traveling through your 2nd house of money. you may have a lot of enterprising ideas about how to increase your cash flow, but aren't sure that any of them will actually work. however, dreamy neptune's long-term presence in your sign can sap your confidence, so don't be afraid to ask for support from others. relying on good advice from a trustworthy companion helps you determine a sensible course of action. although you may feel a bit lazy now, you're still the one who quickly swings into action before considering the consequences. often you can get away with overstepping your bounds, but your words have more impact on your friends and associates than you expect today. exaggerating the facts or overselling your position won't help you convince others that your idea is a solid one. since you cannot avoid the truth for long, you might as well\n",
      "\n",
      "Batch:   1000, loss:  0.5119\n",
      "the role of a victim; no matter what, keep moving your idea forward. the moon in your 9th house of travel may be heating up your desire to go on an adventure, but your plans could crash into the reality of previous work commitments. even if you believe that you can juggle your schedule and make everything fall into place, it's becoming apparent that your path is blocked for some inexplicable reason. don't overcompensate by canceling your plans because the outlook could change quickly. wait for the energy to shift before deciding what to do next. your current optimism about the future motivates you to swing into action, yet it also distracts you from what's happening right in front of your nose. you could be eager to shift your focus away from a complicated emotional situation that would benefit from your undivided attention today. just remember that a positive attitude\n",
      "\n",
      "Batch:   1500, loss:  0.5059\n",
      "quickly. resistance is futile; don't try to control what happens today. if you fearfully attempt to go back to the way things were, you could miss out on a lot of fun. your life seems to be undergoing rapid change and you're thrilled with the notion of riding the currents wherever they take you. you have no idea where the tides are carrying you, yet you're eager to head out on this great adventure, anyway. don't assume that you're really ready to leave just because everything looks good. taking your time to put everything in order now will ensure that you'll actually reach your destination. you may need to regain control by slowing down or you could be forced to use your emergency brake to temporarily stop everything. unfortunately, these tactics won't likely bring you the stability you now seek. additionally, letting your fears influence your decisions is a big\n",
      "\n",
      "Batch:   2000, loss:  0.4998\n",
      "into a snafu. you might even consider reevaluating your long-term goals if they no longer fit into your current situation. go ahead and think about changing the direction of your life, but don't make any important decisions for several days to allow things to settle down. it may be quite exhilarating if you are given new freedom at work, yet it can also be a bit disconcerting if you didn't see any changes coming. thankfully, you're skilled at reacting quickly and should be able to make the most of the current instability. don't look back to wonder what you might have done differently. instead, look ahead to think about what you can do to improve your life right now. your self-protective shell is developing cracks and you aren't feeling as safe as you want. travel plans may need to be altered due to unforeseeable complications. or, maybe, you discover something\n",
      "\n",
      "Batch:   2500, loss:  0.4938\n",
      "good will that comes your way now, although you might not get much work accomplished. if someone special wants to nurture you, don't put up a fight. accepting love with an open heart is the right thing to do, even if it makes you feel a bit uncomfortable at first. your feelings take you on a journey today and there really isn't much to be gained by resisting the sojourn. fortunately, you won't cause any harm by just floating off into fantasyland. it's crucial for you to escape from the routine now, even if you can't really go anywhere at all. if you keep up appearances by quietly fulfilling your responsibilities, you'll be able to travel in your mind wherever you please. you may attempt to sidestep your emotions now, at least long enough to dig into a complex problem. however, you can't separate your opinions from the answers you\n",
      "\n"
     ]
    },
    {
     "data": {
      "application/vnd.jupyter.widget-view+json": {
       "model_id": "f8336828985a4044adc2dbe86563796d",
       "version_major": 2,
       "version_minor": 0
      },
      "text/html": [
       "<p>Failed to display Jupyter Widget of type <code>HBox</code>.</p>\n",
       "<p>\n",
       "  If you're reading this message in the Jupyter Notebook or JupyterLab Notebook, it may mean\n",
       "  that the widgets JavaScript is still loading. If this message persists, it\n",
       "  likely means that the widgets JavaScript library is either not installed or\n",
       "  not enabled. See the <a href=\"https://ipywidgets.readthedocs.io/en/stable/user_install.html\">Jupyter\n",
       "  Widgets Documentation</a> for setup instructions.\n",
       "</p>\n",
       "<p>\n",
       "  If you're reading this message in another frontend (for example, a static\n",
       "  rendering on GitHub or <a href=\"https://nbviewer.jupyter.org/\">NBViewer</a>),\n",
       "  it may mean that your frontend doesn't currently support widgets.\n",
       "</p>\n"
      ],
      "text/plain": [
       "HBox(children=(IntProgress(value=0, description='batches', max=2518), HTML(value='')))"
      ]
     },
     "metadata": {},
     "output_type": "display_data"
    },
    {
     "name": "stdout",
     "output_type": "stream",
     "text": [
      "Batch:    500, loss:  0.4853\n",
      "the top. although you might have made plans for today, it's difficult to get started. activities that sounded like a lot of fun may not look so good now, especially if you're feeling lazy. however, you will feel much better about everything once you finally get going. allow some time for procrastination, but don't let the whole day slip away before you finally find your rhythm. you may be eager to kick back and relax today, but responsibilities at work won't let you take it easy. actually, this could turn into a much more active day than you expected. a late-afternoon flash of inspiration can change your direction and set you on a new path. fortunately, once you begin your project, your energy begins to grow. but don't jump ahead too quickly or you'll end up making your job more complicated. establishing a sensible pace now makes your life simpler\n",
      "\n",
      "Batch:   1000, loss:  0.4820\n",
      "with your plan. thankfully, you should come to your senses before an argument reaches the point of no return. in a fight to the finish, there will be no winners, so find common ground and build a consensus from that point on. you are feeling a bit spacey now and even though you have some interesting and creative ideas, it's difficult for you to express them. normally, you're able to maintain a healthy perspective, but today you could grow obsessive by trying too hard to make your point. it's counterproductive to worry about what others think. just share what's on your mind and then let it go. a discussion could escalate into a power struggle today, even if your intention is to return to simplicity. the sun's entry into placid taurus lures you into believing the disarming illusion that relationships can always be bucolic. but conflict may return when you\n",
      "\n",
      "Batch:   1500, loss:  0.4771\n",
      "sign could make you overly talkative, especially with perceptive mercury in the spotlight. don't squander your mental resources; using words sparingly will give them extra impact. remember, rambling on endlessly about your latest idea is not the best way to accomplish your goals. do more and say less. you are clear about your current responsibilities, but you don't necessarily want to follow through on them. part of your problem now is that you might think everything should be easier than it really is. believing that you'll magically find a shortcut through the hard work could lead you to waste time looking for a quick fix. conserve your energy for doing what's actually necessary to get to the finish line. stay away from philosophical or political debates today because you could actually be arguing with yourself, and not with anyone else. at times it might even be difficult to tell which\n",
      "\n",
      "Batch:   2000, loss:  0.4723\n",
      "aren't as supportive as you wish. don't be afraid to set clear boundaries or withdraw from others in order to maintain your integrity. you may feel stuck today, as if your creativity is temporarily blocked. your regular routine could fall apart now, making it impossible for you to concentrate on realizing your dreams. however, don't sell yourself short by thinking that you can't do the miraculous. you are more capable than you realize, but you must have faith and patience for positive results to manifest. you must decide if you can keep up social appearances today and still remain true to yourself. but your current choices aren't as crucial as they seem because they are part of a long-term process that can redefine the structure of your relationships. your key planets, physical mars and passionate pluto, are intensifying your feelings as the boundary between friendship and romantic love is tested.\n",
      "\n",
      "Batch:   2500, loss:  0.4677\n",
      "sensuous venus makes it even harder to follow social etiquette. nevertheless, you know that rude actions are unacceptable. there's nothing wrong with seeking pleasure, but don't overstate your needs or overstep the limits of good behavior. you may be highly opinionated today so you need to be careful how you express yourself. it's easy to put so much intensity into your words that others mistake your passion for anger. fortunately, concentrating on the bigger picture frees you from any perceived negativity. allowing for a variety of personal preferences now connects you with a more universal vision that inspires those around you. you appear so clever today that you can amaze your friends and co-workers with your inspirational thoughts. but turning your visions into something tangible is quite challenging, especially if you're off to the next great idea the moment after you share the previous one. proving your intelligence could backfire\n",
      "\n"
     ]
    },
    {
     "data": {
      "application/vnd.jupyter.widget-view+json": {
       "model_id": "378911df206d4cd9958c3014e9504714",
       "version_major": 2,
       "version_minor": 0
      },
      "text/html": [
       "<p>Failed to display Jupyter Widget of type <code>HBox</code>.</p>\n",
       "<p>\n",
       "  If you're reading this message in the Jupyter Notebook or JupyterLab Notebook, it may mean\n",
       "  that the widgets JavaScript is still loading. If this message persists, it\n",
       "  likely means that the widgets JavaScript library is either not installed or\n",
       "  not enabled. See the <a href=\"https://ipywidgets.readthedocs.io/en/stable/user_install.html\">Jupyter\n",
       "  Widgets Documentation</a> for setup instructions.\n",
       "</p>\n",
       "<p>\n",
       "  If you're reading this message in another frontend (for example, a static\n",
       "  rendering on GitHub or <a href=\"https://nbviewer.jupyter.org/\">NBViewer</a>),\n",
       "  it may mean that your frontend doesn't currently support widgets.\n",
       "</p>\n"
      ],
      "text/plain": [
       "HBox(children=(IntProgress(value=0, description='batches', max=2518), HTML(value='')))"
      ]
     },
     "metadata": {},
     "output_type": "display_data"
    },
    {
     "name": "stdout",
     "output_type": "stream",
     "text": [
      "Batch:    500, loss:  0.4602\n",
      "about you. this is not because of a shortcoming in anyone else; it's a result of your skill in hiding your feelings today. keeping quiet for another day may be long enough to give you the time needed to untangle your complex desires. it's better to make a rational decision than one based on an impulsive reaction. the security-conscious cancer moon challenges you to balance your wanderlust with your current need for security. you may have exciting ideas about your possible adventures during the next few weeks, but you might also be feeling quite exhausted. suddenly, staying home could sound more appealing than going anywhere. instead of trying to reconcile your conflicting desires, make enough room in your schedule for both rest and play. your social and career ambitions are extremely important to you, but sometimes it's useful to set your goals aside for a while. your ruling planet saturn\n",
      "\n",
      "Batch:   1000, loss:  0.4574\n",
      "feeling stressed out by a relationship with a friend or lover, especially if you each have different ways of approaching conflict. thankfully, persistence is rewarded now, and your willingness to face a difficult issue could actually bring the two of you closer together. even if interactions seem strained today, sticking with the process can result in feelings of accomplishment. your usual weekend routine may be turned inside out today as the new moon activates your 6th house of habits. you don't like the idea of doing things differently now, so a change of pace might be upsetting at first. however, shaking up old traditions can reveal details that alter your perspective on the holiday season. don't waste too much time looking back; it's useless to judge your past harshly. instead, look ahead and change the way you respond in the present moment. today's calculating capricorn new moon occurs in your\n",
      "\n",
      "Batch:   1500, loss:  0.4543\n",
      "the gloom today, but your persistent search can uncover important realizations that change your day for the better. you are learning about maintaining your own emotional health now, yet your lesson may be an unexpected one. you haven't chosen an easy journey, but investigating beneath the surface can change your perspective and give you a whole new point of view. your emotions are a source of power now and even the most challenging obstacle in your path won't slow you down very much today. of course, you want to concentrate your efforts on whatever issues arise, but at least you'll do so with a positive and practical attitude. luckily, this isn't about being in denial; in fact, it's your critical thinking that enables you to see through the camouflage and effectively cut to the chase. as hard as you try to avoid it, you are still pulled into a complex\n",
      "\n",
      "Batch:   2000, loss:  0.4509\n",
      "new realizations with someone who will give you honest feedback. however, it's not wise to blab about your secrets to everyone, so choose your confidants carefully before you entrust them with your heart. you may feel lonely today as loving venus in your 7th house of others squares your key planet, saturn the taskmaster. you don't like it when someone comes down hard on you or makes unreasonable demands. however, logic can't help you decide how to respond now; trust your instincts, instead. if your gut tells you no, then don't do it. on the other hand, if you think you should get involved, give it one hundred percent, even if you must set aside a previous commitment. your regular routine may feel oppressive today, yet there's no simple escape route. nevertheless, it's still a smart idea to think about what you are doing and why you continue to do\n",
      "\n",
      "Batch:   2500, loss:  0.4473\n",
      "standing up to anyone if they are being obstinate. however, someone might upset you today by successfully justifying his or her opposition to your authority. it might appear that others are just being stubborn, but their resistance could be based on a strong conviction that they have better ideas. instead of arguing, be magnanimous and walk away; no one will win a fight now. it's a much smarter strategy to wait until tensions settle and everyone is more flexible in their thinking. although you're often a philosopher and a visionary, you don't seem particularly interested in abstract theories today. but your apparent disinterest in ideas can be misleading with the materialistic taurus moon's presence in your 6th house of details. your goal is to simplify everything to make any uncertainties more manageable. focus on tangible outcomes now, for your restlessness could return tomorrow when the moon is in changeable gemini.\n",
      "\n"
     ]
    },
    {
     "data": {
      "application/vnd.jupyter.widget-view+json": {
       "model_id": "49f15198366e4d93b003ae8c0cf452d6",
       "version_major": 2,
       "version_minor": 0
      },
      "text/html": [
       "<p>Failed to display Jupyter Widget of type <code>HBox</code>.</p>\n",
       "<p>\n",
       "  If you're reading this message in the Jupyter Notebook or JupyterLab Notebook, it may mean\n",
       "  that the widgets JavaScript is still loading. If this message persists, it\n",
       "  likely means that the widgets JavaScript library is either not installed or\n",
       "  not enabled. See the <a href=\"https://ipywidgets.readthedocs.io/en/stable/user_install.html\">Jupyter\n",
       "  Widgets Documentation</a> for setup instructions.\n",
       "</p>\n",
       "<p>\n",
       "  If you're reading this message in another frontend (for example, a static\n",
       "  rendering on GitHub or <a href=\"https://nbviewer.jupyter.org/\">NBViewer</a>),\n",
       "  it may mean that your frontend doesn't currently support widgets.\n",
       "</p>\n"
      ],
      "text/plain": [
       "HBox(children=(IntProgress(value=0, description='batches', max=2518), HTML(value='')))"
      ]
     },
     "metadata": {},
     "output_type": "display_data"
    },
    {
     "name": "stdout",
     "output_type": "stream",
     "text": [
      "Batch:    500, loss:  0.4399\n",
      "your eyes to new avenues of fun. fortunately, you should be able to balance your current responsibilities with the incoming waves of restlessness if you keep track of your priorities. you may be fantasizing about a great escape to somewhere exotic now that the moon is visiting your 9th house of travel. but it's hard to stay focused on planning a dream vacation, especially if it seems like an unrealistic flight of fancy. you could choose to give up and think about a homebound staycation instead. there's no need to rush; give yourself a few more days before making a final decision. you may have offered your opinion too quickly about something that's very important, and now you're unable to take back your words. a disagreement with your partner today can turn a sweet relationship into a combative one. good intentions aren't enough; you also must be very realistic or\n",
      "\n",
      "Batch:   1000, loss:  0.4380\n",
      "calendar will spread the intensity around and thereby make it easier to handle. however, this kind of strategy could backfire today. it's smarter to face uncomfortable issues head-on than trying to dance your way around them. you are in a stressful phase now and you may be feeling the pressure to choose between your home and your career. however, any lack of support you are feeling from the people in your life will slowly and surely force you to go through your own metamorphosis. try not to go overboard; letting go of old habits is required before you can begin to develop healthier new ones. others may see you as ruthless now, but you're really just running on adrenaline and you don't have the time to stop and think. but a conflict at work could tempt you to manipulate someone else if you believe it's in the best interest of\n",
      "\n",
      "Batch:   1500, loss:  0.4353\n",
      "everything you can about something new. fortunately, you're capable of absorbing the basics of a difficult discipline or technical skill quite quickly and are happy to show others how clever you are. but appearing smart isn't enough, so consider how to take your brilliant ideas and transform them into something that's actually real. you may be feeling let down or regretful today and it can be challenging to settle your thoughts. there's too much going on in your mind, making it hard to filter out the extraneous noise. don't be overly self-judgmental; it's natural to be fearful when so much is unknown about your future. the best thing you can do now is to pay attention to your heart's desire while you continue processing everything that's happening. people around you may be acting strangely today as the quirky aquarius moon visits your 7th house of others. but some of the\n",
      "\n",
      "Batch:   2000, loss:  0.4323\n",
      "progress by observing your feelings without necessarily saying anything about them at all. it isn't always easy to let the wisdom of your body react naturally, without an audience. keep your feelings to yourself until things settle down in a day or two. it may seem as if others are hiding important information from you, but you don't know what it is so there isn't any simple way to investigate without appearing to be paranoid. however, the more you ignore your current uneasiness, the louder it grows. watch out, for you could end up creating a problem that was never there. be totally upfront today; admitting that you are worried can help lessen your insecurities right away. your interest in creating a relationship with a workmate may be piqued by a surprising conversation today. this probably isn't just a passing fancy; it's more likely the seed of an important journey\n",
      "\n",
      "Batch:   2500, loss:  0.4287\n",
      "you may be concerned that someone's holding out on you today by undermining your positive efforts. unfortunately, you might not be able to find any tangible evidence to support your current worries. paradoxically, the opposite might be true; something you choose to keep to yourself can turn a relationship inside out. consider what you're afraid to reveal and then think about how to shine the light of awareness on your secret. bringing your truth out into the open may be enough to dissolve the gulf between you and others. the moon's visit to your 11th house of social networking helps lead you and your friends into the future. don't hold back; even if your dreams seem unrealistic, your unrestrained imagination helps you to visualize what's ahead. instead of allowing practical considerations to slow you down today, share your visions as they appear to you. you can always refine your plans\n",
      "\n"
     ]
    },
    {
     "data": {
      "application/vnd.jupyter.widget-view+json": {
       "model_id": "3669fde02c21413995e829e0630aaf11",
       "version_major": 2,
       "version_minor": 0
      },
      "text/html": [
       "<p>Failed to display Jupyter Widget of type <code>HBox</code>.</p>\n",
       "<p>\n",
       "  If you're reading this message in the Jupyter Notebook or JupyterLab Notebook, it may mean\n",
       "  that the widgets JavaScript is still loading. If this message persists, it\n",
       "  likely means that the widgets JavaScript library is either not installed or\n",
       "  not enabled. See the <a href=\"https://ipywidgets.readthedocs.io/en/stable/user_install.html\">Jupyter\n",
       "  Widgets Documentation</a> for setup instructions.\n",
       "</p>\n",
       "<p>\n",
       "  If you're reading this message in another frontend (for example, a static\n",
       "  rendering on GitHub or <a href=\"https://nbviewer.jupyter.org/\">NBViewer</a>),\n",
       "  it may mean that your frontend doesn't currently support widgets.\n",
       "</p>\n"
      ],
      "text/plain": [
       "HBox(children=(IntProgress(value=0, description='batches', max=2518), HTML(value='')))"
      ]
     },
     "metadata": {},
     "output_type": "display_data"
    },
    {
     "name": "stdout",
     "output_type": "stream",
     "text": [
      "Batch:    500, loss:  0.4229\n",
      "you just don't understand why your co-workers don't follow through on their promises. you would like to be more forgiving, but still someone can get on your nerves, provoking you to intervene. unfortunately, throwing a temper tantrum won't accomplish anything worthwhile. you cannot make anyone else change. instead, you would be wise to accept full responsibility for your own emotional response and then simply let it go. becoming mired in unnecessary details is very annoying, since you typically prefer holistically focusing on the bigger picture. nevertheless, you see a real necessity to find your way back to the basics today as you create a direct path through all the excitement. don't get lost in your work. although you have a lot to manage now, it's better to seek a healthy balance between your single-minded ambition and your adventurous spirit. sometimes being a hardworking capricorn really does pays off. if you\n",
      "\n",
      "Batch:   1000, loss:  0.4212\n",
      "need to do anything drastic to draw attention to yourself. if you continue to pursue your goals and follow your work ethic, others will eventually appreciate your unique contribution. you may need to work extra hard today, yet it seems as if you're not making a lot of progress. your relentless effort and unwavering hope combine to produce an unbeatable strategy now. set aside any possible discouragement, for you are probably much closer to the finish line than you suspect. and, thankfully, once you reach your destination, others will acknowledge the valuable accomplishments you have achieved along the way. physical movement is more critical than usual as your two key planets, mars and pluto, flood you with energy. unfortunately, words may not convey the intensity of your feelings, so a discussion, however heated, might leave you in a state of frustration. however, you'll be able to break up the tension\n",
      "\n",
      "Batch:   1500, loss:  0.4192\n",
      "have to follow every rule to the letter today since it feels as if you are responsible to a higher spiritual authority. be careful, for this is a tricky rationalization and you don't have cosmic permission to be destructive or reckless. you can, however, be imaginative and original. just remember that intelligence is wasted unless you're also acting with compassion. it's more important to be caring than to be clever. you have been zapped recently by uranus the awakener and it's time to finish your joyride and ease yourself back to reality. however, there's no need to worry if you don't have anything to show from your exciting little junket; your altered perspective is enough. but even if you think you know the truth now, remember that things are still in flux. although the pace of your life is slower today, stay flexible and remain open to change. it's difficult\n",
      "\n",
      "Batch:   2000, loss:  0.4162\n",
      "you would like to show a more easygoing side of yourself today, but it's challenging to let go of control when you believe that you are holding it all together. unfortunately, your priorities may be bent out of shape. consider this situation as an opportunity to develop trust. sure, you could engineer more perfection into your world now, but the cost may be higher than you realize. you would prefer it if your friends were more cooperative today, but instead they seem to be acting contrary to your wishes just to agitate you. however, they actually just want to do as they wish and be free of judgment. examine your unspoken expectations before criticizing someone else. you may be wiser now to dig into your shadow and look at your own motives before coming down hard on others. the moon in hotheaded aries suggests that you might have to lose\n",
      "\n",
      "Batch:   2500, loss:  0.4136\n",
      "into the clouds. don't be afraid to dream; just make sure you are anchored to earth at the same time. it's usually challenging to slow down enough to explore your feelings, for you often are on to the next thing before you are finished processing the past. however, your key planet mars is in directionless pisces now, so you aren't as anxious to go anywhere at all. luxuriate in the present moment; allow time to wash away any desire you might have to move on right away. you might even enjoy yourself once you get the hang of it. there are people in your life now who seem to be more passionate than you are. you might want to avoid them because they can complicate things; however they can also teach you something important about yourself if you let them. although you are tempted to build a wall of safety\n",
      "\n"
     ]
    },
    {
     "data": {
      "application/vnd.jupyter.widget-view+json": {
       "model_id": "2610038c9b5d483f9500a364a8508585",
       "version_major": 2,
       "version_minor": 0
      },
      "text/html": [
       "<p>Failed to display Jupyter Widget of type <code>HBox</code>.</p>\n",
       "<p>\n",
       "  If you're reading this message in the Jupyter Notebook or JupyterLab Notebook, it may mean\n",
       "  that the widgets JavaScript is still loading. If this message persists, it\n",
       "  likely means that the widgets JavaScript library is either not installed or\n",
       "  not enabled. See the <a href=\"https://ipywidgets.readthedocs.io/en/stable/user_install.html\">Jupyter\n",
       "  Widgets Documentation</a> for setup instructions.\n",
       "</p>\n",
       "<p>\n",
       "  If you're reading this message in another frontend (for example, a static\n",
       "  rendering on GitHub or <a href=\"https://nbviewer.jupyter.org/\">NBViewer</a>),\n",
       "  it may mean that your frontend doesn't currently support widgets.\n",
       "</p>\n"
      ],
      "text/plain": [
       "HBox(children=(IntProgress(value=0, description='batches', max=2518), HTML(value='')))"
      ]
     },
     "metadata": {},
     "output_type": "display_data"
    },
    {
     "name": "stdout",
     "output_type": "stream",
     "text": [
      "Batch:    500, loss:  0.4084\n",
      "too. you are trying to create healthy new routines for yourself with the moon now activating your 6th house of habits, but it's challenging to change established patterns. it's as if the weight of the past is leaning heavily on the present moment, restricting the potential of the future. take the focus off your personal life and concentrate on the bigger picture, instead. this simple shift of your frame of reference can lighten your spirit enough to free you from an old habit or outdated outlook. a positive mars-jupiter alignment could have everything coming up roses today. the moon's current visit to fellow fire sign aries and your 5th house of play indicates a rise in the quantity and quality of good times. you're not likely to get too lost in your thoughts, yet you can enjoy dreaming about your future now. remain open to change and don't resist if\n",
      "\n",
      "Batch:   1000, loss:  0.4078\n",
      "more like blind optimism unless you decide to also examine the darker side of your feelings. don't be afraid of a little self-doubt because it can reveal a perspective that shows the truth. sometimes you have to jump in to an experience passionately without holding back in order to feel everything. however, creating boundaries between your inner and outer worlds is vital to your personal development. taking time for a spiritual retreat can be helpful now. balancing your social responsibilities with your desire to escape will help you move through the day without stirring up resentment from those closest to you. it's challenging to make the time to respond to all your emails and phone calls today. but your inability to fit all your work into one day is not your primary problem. the real dilemma comes from your current belief that you can do anything you imagine. however, your\n",
      "\n",
      "Batch:   1500, loss:  0.4051\n",
      "this isn't the only reason to jump in and get the job done. it's true that sometimes procrastination really does serve a purpose. but you can't avoid the inevitable forever; you'll feel much better after you cross this task off your list. although you are being told to finish up your chores before doing anything else, this can still be a great day for a brief escape. instead of attempting to take time off to go sunning on a tropical island retreat, do something small like going to a concert or visiting an art exhibit. treat yourself by setting aside some personal time for a special experience, even if your break can't last all that long. even if you are eager to blast ahead and begin something new, you'll be much better off if you start slowly today. you may feel frustrated if you try to involve too many people\n",
      "\n",
      "Batch:   2000, loss:  0.4033\n",
      "acts flirtatiously toward you today, but other people's smooth talking leads to trouble if you're not careful. the moon's presence in your 7th house of relationships increases your sensitivity, so it's best to know your limits and honor them. normally, you are able to apply cool logic to an emotionally charged situation, but you would be wise now to slow down and consider the consequences of your actions instead of just following your instincts. you may be feeling very creative now, but your brain needs a little rest and relaxation. you're tired of struggling to transform your best ideas into something concrete. unfortunately, if you aim too high, you could grow frustrated and give up prematurely. however, if you are hesitant to set goals, then you might not get around to doing the extraordinary work of which you are capable. get out of your head long enough to recharge your\n",
      "\n",
      "Batch:   2500, loss:  0.4015\n",
      "to stick to your customary role of being the responsible one in your family or group of friends. you are suddenly eager to explore undiscovered facets of yourself. you are even tempted to take a quantum leap of faith and blast through a self-imposed limitation. instead of shocking others with your uncharacteristic behavior, simply start by revealing your thoughts. once you are ready, transform your brilliant ideas into positive action. you may be difficult to deal with today because you don't want to do what's expected of you. your key planet, rebellious uranus, squares the sun in your 6th house of daily routines, prompting you to break the rules. however, you might try to hide your radical behavior now because you don't want to be rejected by those you love. go ahead and take a risk; others won't judge you as harshly as you're judging yourself. coloring outside of the\n",
      "\n"
     ]
    },
    {
     "data": {
      "application/vnd.jupyter.widget-view+json": {
       "model_id": "f24c46a46a7a4b3cae68654d7b7102aa",
       "version_major": 2,
       "version_minor": 0
      },
      "text/html": [
       "<p>Failed to display Jupyter Widget of type <code>HBox</code>.</p>\n",
       "<p>\n",
       "  If you're reading this message in the Jupyter Notebook or JupyterLab Notebook, it may mean\n",
       "  that the widgets JavaScript is still loading. If this message persists, it\n",
       "  likely means that the widgets JavaScript library is either not installed or\n",
       "  not enabled. See the <a href=\"https://ipywidgets.readthedocs.io/en/stable/user_install.html\">Jupyter\n",
       "  Widgets Documentation</a> for setup instructions.\n",
       "</p>\n",
       "<p>\n",
       "  If you're reading this message in another frontend (for example, a static\n",
       "  rendering on GitHub or <a href=\"https://nbviewer.jupyter.org/\">NBViewer</a>),\n",
       "  it may mean that your frontend doesn't currently support widgets.\n",
       "</p>\n"
      ],
      "text/plain": [
       "HBox(children=(IntProgress(value=0, description='batches', max=2518), HTML(value='')))"
      ]
     },
     "metadata": {},
     "output_type": "display_data"
    },
    {
     "name": "stdout",
     "output_type": "stream",
     "text": [
      "Batch:    500, loss:  0.3964\n",
      "you may not be so transparent today as your feelings bounce back and forth between being uncontainable and expressive one moment and closed off and withdrawn the next. you might even try to get others to join in on your fun when you are on the excitable side of the equation. but as the moon leaves your sign, the sparkle on your upbeat attitude begins to fade and you are left with the hard work it will take for you to reach your current goals. staying positive invites the ongoing support of your friends. you might be feeling a bit uneasy today because you really don't like being judged. your unexpressed worries can plant seeds of suspicion or even paranoia that double back on you during the afternoon hours. however, discussing your lack of confidence can completely change the game. keep your communication simple so others know what to do\n",
      "\n",
      "Batch:   1000, loss:  0.3954\n",
      "for you. be appreciative and acknowledge each of the ideas that are presented to you now before returning to your path, knowing that it will serve your purpose best. although you are feeling pretty good today, you may believe that it's important to keep your optimism under wraps. the moon's conjunction with jolly jupiter in your 12th house of secrets means that no one will know that you're smiling on the inside. in the meantime, don't forget about your obligations. having fun isn't just an excuse to get out of work. in fact, you should be able to find a way to combine your responsibilities with a lighthearted attitude that enables you to be productive while still enjoying yourself. just be careful not to take on more than you can do. your friends can be a source of joy today as the moon joins jovial jupiter in your social 11th\n",
      "\n",
      "Batch:   1500, loss:  0.3937\n",
      "-- especially in a professional situation -- you must be careful now in how you use your power. you are receiving help from unseen dimensions and your coworkers could be overwhelmed by your intensity. for the best results, don't back down from your position, but play it just a little bit cooler today than you actually feel. some things are better left unexpressed. if you have been thinking about escaping to an exotic place or undertaking a big project, grab the opportunity to assert yourself today while fiery mars is giving you the extra assistance you need. but don't try to do it alone because you have a pile of planets now hanging out in your 11th house of friends, so relying on others to be a part of your journey makes a lot of sense. ultimately, sharing your current experiences will only make them more enjoyable. your desire for\n",
      "\n",
      "Batch:   2000, loss:  0.3920\n",
      "that you made a mistake. your daily regimen has a significant effect on your overall health, and today's stress makes you stop and consider how to make things better. it's not wise to turn your life upside down all at once. however, you can make a small improvement by doing something that builds your strength and rejuvenates you without making your day any more chaotic. even a slight upgrade to your current exercise program or a minor modification to your diet could be sufficient to increase your feelings of well-being. you could take a relationship too seriously now and try to transform a casual friendship into a full-blown romance. it seems as if it would be easier to lighten the emotional weight, but the full moon's presence in your 5th house of romance may mean that your feelings are beyond your conscious control. don't try to redirect what is in\n",
      "\n",
      "Batch:   2500, loss:  0.3899\n",
      "the moon's conjunction with expansive jupiter tempts you to take on more than you can complete, so don't say yes unless you really mean it. you are likely to receive much-needed support from family members and close friends now that the moon is in your 4th house of roots. although their generosity can make your life easier, the assistance might not be what you need -- even if others mean well. if you feel confined by someone meddling in your affairs, express your concerns as kindly as possible. count your blessings; there's no need to make your life more complicated by offending your allies. you can be swept off your feet by other people's agendas today because you think they need your help. unfortunately, you might be left feeling like your assistance wasn't very useful at all. and on top of that, your own work could remain unfinished. however, if\n",
      "\n"
     ]
    },
    {
     "data": {
      "application/vnd.jupyter.widget-view+json": {
       "model_id": "9ac8e30b8d1842f098984a368c7e32db",
       "version_major": 2,
       "version_minor": 0
      },
      "text/html": [
       "<p>Failed to display Jupyter Widget of type <code>HBox</code>.</p>\n",
       "<p>\n",
       "  If you're reading this message in the Jupyter Notebook or JupyterLab Notebook, it may mean\n",
       "  that the widgets JavaScript is still loading. If this message persists, it\n",
       "  likely means that the widgets JavaScript library is either not installed or\n",
       "  not enabled. See the <a href=\"https://ipywidgets.readthedocs.io/en/stable/user_install.html\">Jupyter\n",
       "  Widgets Documentation</a> for setup instructions.\n",
       "</p>\n",
       "<p>\n",
       "  If you're reading this message in another frontend (for example, a static\n",
       "  rendering on GitHub or <a href=\"https://nbviewer.jupyter.org/\">NBViewer</a>),\n",
       "  it may mean that your frontend doesn't currently support widgets.\n",
       "</p>\n"
      ],
      "text/plain": [
       "HBox(children=(IntProgress(value=0, description='batches', max=2518), HTML(value='')))"
      ]
     },
     "metadata": {},
     "output_type": "display_data"
    },
    {
     "name": "stdout",
     "output_type": "stream",
     "text": [
      "Batch:    500, loss:  0.3855\n",
      "try to place limits on yourself today so you can set a good example for others. but keeping everyone else in line is difficult when you're feeling antsy yourself. expansive jupiter's entry into your 5th house of play can open your eyes to new avenues of fun. fortunately, you should be able to balance your current responsibilities with the incoming waves of restlessness if you keep track of your priorities. you may be fantasizing about a great escape to somewhere exotic now that the moon is visiting your 9th house of travel. but it's hard to stay focused on planning a dream vacation, especially if it seems like an unrealistic flight of fancy. you could choose to give up and think about a homebound staycation instead. there's no need to rush; give yourself a few more days before making a final decision. you may have offered your opinion too quickly\n",
      "\n",
      "Batch:   1000, loss:  0.3842\n",
      "you come across as a responsible person who can hold your position with grace when things get tough. but you don't need to have any special answers; just being there is enough. your contribution is to be a good listener while sorting through the questions. even if you are uncertain of the best approach, your relentless loyalty can make a world of difference. you aren't listening to what others want today because you have a specific idea of your perfect day and you're already on your way. however, your partner or friends might not understand your current choices, and things can get complicated if you don't take the time to explain yourself. keep in mind that your singular focus on your goals might prevent you from seeing the obvious. there's no need to push yourself; slowing down enables you to enjoy the good things in your life right now. you\n",
      "\n",
      "Batch:   1500, loss:  0.3832\n",
      "can be swept off your feet by other people's agendas today because you think they need your help. unfortunately, you might be left feeling like your assistance wasn't very useful at all. and on top of that, your own work could remain unfinished. however, if you establish clear boundaries so you can fulfill your responsibilities early in the day, you'll feel better about jumping in to support someone else. your desire to experience pleasure today could make you lazy, especially if you think that your fantasies are out of reach. although you might be content to dream about fun activities, you also realize that your window of opportunity is closing fast. instead of accepting whatever comes your way now, decide what you want and pursue satisfaction while the odds are still in your favor. today's full moon in your sensual sign puts you in touch with your feelings, even if\n",
      "\n",
      "Batch:   2000, loss:  0.3815\n",
      "of anger today, yet it seems more intense than the situation would normally warrant. although you want to express your frustration, you don't want to deal with the emotional fallout. play it cool and sidestep confrontation for now. or ride your passion and say what's in your heart no matter what. there's no right or wrong answer; ultimately, it's your decision to make. you might not show your feelings today in an attempt to avoid a possible meltdown, as your emotions pull you into the shadows. you are more accustomed to the light, making it challenging for you to figure out what's currently happening. for now, don't worry about making your point. it's more important to concentrate on your emotions and to process them in real time, rather than wasting time explaining yourself to others. you aren't happy with the role that your friends have put you in now and\n",
      "\n",
      "Batch:   2500, loss:  0.3802\n",
      "some of your attention away from your work. you might even need extra time to take care of family responsibilities, so it's crucial to find ways to increase your efficiency on the job. completing tasks quicker enables you to gracefully balance your private and public obligations. it's difficult to stay within your limits today because indulgent jupiter convinces you that anything is possible. however, your excessive behavior won't likely be apparent to others as the introverted cancer moon visits your 3rd house of communication. although your judgment is cloudy now, you're likely to err on the side of generosity rather than stinginess. even if your day doesn't unfold as expected, maintaining a flexible attitude helps to smooth over the rough spots. your gut instincts could get in your way of having a good time today, but it isn't a healthy strategy to ignore your feelings for the sake of convenience.\n",
      "\n"
     ]
    },
    {
     "data": {
      "application/vnd.jupyter.widget-view+json": {
       "model_id": "4b238bb49ab34e949becf070589254ac",
       "version_major": 2,
       "version_minor": 0
      },
      "text/html": [
       "<p>Failed to display Jupyter Widget of type <code>HBox</code>.</p>\n",
       "<p>\n",
       "  If you're reading this message in the Jupyter Notebook or JupyterLab Notebook, it may mean\n",
       "  that the widgets JavaScript is still loading. If this message persists, it\n",
       "  likely means that the widgets JavaScript library is either not installed or\n",
       "  not enabled. See the <a href=\"https://ipywidgets.readthedocs.io/en/stable/user_install.html\">Jupyter\n",
       "  Widgets Documentation</a> for setup instructions.\n",
       "</p>\n",
       "<p>\n",
       "  If you're reading this message in another frontend (for example, a static\n",
       "  rendering on GitHub or <a href=\"https://nbviewer.jupyter.org/\">NBViewer</a>),\n",
       "  it may mean that your frontend doesn't currently support widgets.\n",
       "</p>\n"
      ],
      "text/plain": [
       "HBox(children=(IntProgress(value=0, description='batches', max=2518), HTML(value='')))"
      ]
     },
     "metadata": {},
     "output_type": "display_data"
    },
    {
     "name": "stdout",
     "output_type": "stream",
     "text": [
      "Batch:    500, loss:  0.3758\n",
      "most unlikely people. go ahead and try something new now; you'll be glad you did. you are on the verge of doing something you might regret, so take your time and consider your actions carefully before following an impulsive whim. luckily, there are many shades of gray, so you don't have to make an all-or-nothing choice. exercising a bit of caution still allows you to have your fair share of fun. you appear to be more serious than you actually are today. you are doing a pretty good job of hiding your excitement, even if you're more restless than anyone realizes. be careful; if someone close to you is ready for action, you might just cut loose and join in. as long as you are aware of your obligations, you should be able to slip away for some fun and get back before anyone notices that you're gone. you could\n",
      "\n",
      "Batch:   1000, loss:  0.3752\n",
      "give reality a chance to teach you a lesson in humility. you'll reach your ambitious goal if you focus on each step along the way. everyone is playing a part in your movie now that the dramatic leo sun is in your 7th house of others. unfortunately, you may be growing weary of someone's affected behavior. you crave sincerity and truthfulness, but could feel as if you're currently being shortchanged in your relationships. it will be a lot less stressful if you accept the fact that others are probably giving all that they can. be appreciative of what you have today, instead of wishing for more. you would like to have more free time at your disposal today, but you may have already overcommitted yourself in the chore department. running errands and helping others could prevent you from following your fantasies. but don't complain about your obligations; just doggedly finish\n",
      "\n",
      "Batch:   1500, loss:  0.3744\n",
      "just one. you want to explore a wide variety of options to determine your future but don't want to be limited by any one choice. fortunately, there's no reason for you to narrow your thinking at this time. just enjoy playing with all the possibilities and leave the big questions for another day. you are often ready to dig into the center of circumstances to discover the hidden truth. but now you might try avoiding any emotional intensity by dancing around the edges of an extremely significant issue. even if you feel isolated, there is no urgent need to solve every single mystery today. give yourself permission to flow along with the energy and see where it takes you. everyone seems to be moving too fast for your liking today. you might try to slow others down by engaging them in philosophical conversations, but your workmates are just as unfocused\n",
      "\n",
      "Batch:   2000, loss:  0.3726\n",
      "may be so adamant that others go quiet, thinking there's no room for meaningful dialogue. you can soften your words without having to compromise your convictions by remembering that someone can hold a different point of view without taking anything away from yours. your confidence has returned, prompting you to shut off anyone else's negative feedback about your big plans. if someone is dissatisfied with your stated intentions now, you may be tempted to walk away and do your own thing without any further discussion. however, it's not wise to be so quick to leave your friends behind. take a deep breath and slow down today; give others sufficient time to come around to your perspective because everyone will have more fun playing in a group. you may believe that someone is exerting unnecessary control over you now and you aren't happy about it. rather than quietly avoiding a direct\n",
      "\n",
      "Batch:   2500, loss:  0.3708\n",
      "go with the moon in your sign. but your key planet mars is engaged in a tug of war with otherworldly neptune that can pull you into a parallel universe. you could slip on a metaphysical banana peel, leaving you uncertain about what to do next. instead of driving faster to reach your destination, admit that you don't know where you're going. it makes more sense to relax than to waste your energy. there's no need to work yourself into a state of high anxiety, especially since the conclusions you draw today are likely built upon incorrect assumptions. you cannot trust your senses now because you can't help projecting your fantasies onto the events you perceive, creating a loss of objectivity. enjoy the movie your mind is directing, but treat the scenes as a work of fiction rather than a documentary. your view of reality will be clear again in\n",
      "\n"
     ]
    },
    {
     "data": {
      "application/vnd.jupyter.widget-view+json": {
       "model_id": "48990c8e2ff140e9853c0ee48be2df44",
       "version_major": 2,
       "version_minor": 0
      },
      "text/html": [
       "<p>Failed to display Jupyter Widget of type <code>HBox</code>.</p>\n",
       "<p>\n",
       "  If you're reading this message in the Jupyter Notebook or JupyterLab Notebook, it may mean\n",
       "  that the widgets JavaScript is still loading. If this message persists, it\n",
       "  likely means that the widgets JavaScript library is either not installed or\n",
       "  not enabled. See the <a href=\"https://ipywidgets.readthedocs.io/en/stable/user_install.html\">Jupyter\n",
       "  Widgets Documentation</a> for setup instructions.\n",
       "</p>\n",
       "<p>\n",
       "  If you're reading this message in another frontend (for example, a static\n",
       "  rendering on GitHub or <a href=\"https://nbviewer.jupyter.org/\">NBViewer</a>),\n",
       "  it may mean that your frontend doesn't currently support widgets.\n",
       "</p>\n"
      ],
      "text/plain": [
       "HBox(children=(IntProgress(value=0, description='batches', max=2518), HTML(value='')))"
      ]
     },
     "metadata": {},
     "output_type": "display_data"
    },
    {
     "name": "stdout",
     "output_type": "stream",
     "text": [
      "Batch:    500, loss:  0.3672\n",
      "may be a lot easier than actually narrowing it. still, you will feel much better after you postpone a few things on your current schedule and kindly explain that it's just not possible for you to do so much at this time. you may be losing momentum at work and fears begin to surface about your long-term financial security. although you're ready to shore up your cash flow, it could take longer than you realize to put everything back in order. still, you're ready to take action because you don't want money issues to become more problematic in the weeks ahead. remember, there's no need to spend what you don't have just to keep up appearances. it's more important to get back to basics so you can make it all work out. you are struggling as you consider two divergent approaches to life with the moon in your practical sign\n",
      "\n",
      "Batch:   1000, loss:  0.3665\n",
      "that catches you completely off guard. it's not that you're unaccustomed to sudden shifts in your life; it's just that you weren't expecting this one at all. thankfully, there's nothing to be gained by going back over the past to analyze what you could have done differently. just react from your heart in real time to handle the current situation the best you can. you may have to confront a difficult dilemma today, but the circumstances are more complicated than they seem. your loss of perspective adds to the complexity as you try to figure out what to do. moving away from the center of the storm helps you make more accurate observations about what's actually happening now, prior to choosing a new course of action. your interactions with others are overly complicated today, especially if no one seems to be playing according to the rules. unfortunately, you might not\n",
      "\n",
      "Batch:   1500, loss:  0.3655\n",
      "in on your plans. it's less important to attract anyone's attention than it is to continue developing your thoughts now. flying beneath the radar is a wise strategy today. remember, successful ideas take time to evolve and grow. it's difficult to concentrate today because your boredom and frustration continues to grow. you may resist doing what you promised, but it's probably not a good idea to upset others with your negativity. thankfully, you can improve your day by changing your attitude. even if you want something different now, going along with the plan should decrease the stress in the present moment, giving you time to figure out a better long-term strategy. you may be overconfident about making an important decision today, but your choices could steer you wrong if you don't take all of the facts into consideration. paying extra careful attention to what others expect can help keep you\n",
      "\n",
      "Batch:   2000, loss:  0.3643\n",
      "your rash behavior could provoke someone else's anger. either way, remember that extreme feelings stem from a deeper imbalance and you won't solve anything by just suppressing your emotions. a real solution comes from analyzing your assumptions and unraveling your logic so you can deal with the source of your motivation in a calm and reasonable manner. others may seem totally irrational today and their unexpected behavior can be very unsettling. however, the moon's entry into confrontational aries gives you permission to express your concerns, even if it precipitates an argument. but don't spend too much time questioning yourself and sorting through all your options. your most reliable strategy now is to act first and ask questions later. taking a break from your work is a healthy thing to do now, especially if you have something to show for your recent efforts. instead of focusing on your responsibilities, pay more\n",
      "\n",
      "Batch:   2500, loss:  0.3630\n",
      "may not be feeling overly optimistic today, but it's a smart strategy to fake an air of confidence anyway. you could receive recognition now for your ability to see the potential in a situation and to rally others to your cause. but don't exaggerate your ideas, or you'll lose support when it becomes obvious that you cannot fulfill all your big promises. it's more advantageous now to offer less and deliver more than anyone expects. if you have been carried away recently by your own grand ideas, your optimism could be a problem. you're able to sell blue sky and rainbows to others, even if they actually remain out of reach. unfortunately, your hard work won't be enough now to make all your dreams come true. instead of creating impossible expectations, just quietly apply yourself the best you can toward manifesting the future as you see it. you may be\n",
      "\n"
     ]
    },
    {
     "data": {
      "application/vnd.jupyter.widget-view+json": {
       "model_id": "6b61f1aa2e02441e975223bfcd13b536",
       "version_major": 2,
       "version_minor": 0
      },
      "text/html": [
       "<p>Failed to display Jupyter Widget of type <code>HBox</code>.</p>\n",
       "<p>\n",
       "  If you're reading this message in the Jupyter Notebook or JupyterLab Notebook, it may mean\n",
       "  that the widgets JavaScript is still loading. If this message persists, it\n",
       "  likely means that the widgets JavaScript library is either not installed or\n",
       "  not enabled. See the <a href=\"https://ipywidgets.readthedocs.io/en/stable/user_install.html\">Jupyter\n",
       "  Widgets Documentation</a> for setup instructions.\n",
       "</p>\n",
       "<p>\n",
       "  If you're reading this message in another frontend (for example, a static\n",
       "  rendering on GitHub or <a href=\"https://nbviewer.jupyter.org/\">NBViewer</a>),\n",
       "  it may mean that your frontend doesn't currently support widgets.\n",
       "</p>\n"
      ],
      "text/plain": [
       "HBox(children=(IntProgress(value=0, description='batches', max=2518), HTML(value='')))"
      ]
     },
     "metadata": {},
     "output_type": "display_data"
    },
    {
     "name": "stdout",
     "output_type": "stream",
     "text": [
      "Batch:    500, loss:  0.3594\n",
      "else but you today. unfortunately, if you attempt to play the lead, things could get complicated quickly. keep in mind that you can have more fun if you're willing to step out of the spotlight for a while and play a supporting role, instead. it's not easy to remain serious today, even if you have critical responsibilities to fulfill. mercury's entry into flighty gemini can scatter your thoughts as fast as you refocus them. every time you concentrate, something exciting comes along to pull you off track and down a curiously fascinating detour. stop resisting the inevitable; instead of trying to be productive, just let go and see where the intellectual currents take you. a plethora of pleasing planetary positions pulls you away from your obligations today. initially, you may set your goals high, but as the day progresses, the opportunity for play outweighs the potential rewards for hard work.\n",
      "\n",
      "Batch:   1000, loss:  0.3597\n",
      "days. rather than fretting about what you cannot do, be thankful for what you can actually accomplish if you put your mind to it. you are lost in an idyllic dream about bringing a fantasy into reality as nebulous neptune in your 7th house of partners harmonizes with cerebral mercury. however, once you open your eyes, your daily life may be overflowing with pressing responsibilities. although you're tempted to linger in your imagination, it would be unwise to avoid the current situation. bringing your attention back to reality can make a positive difference when you need it most. it's hard to let go of your preconceived notions about what your day will bring, but it's crucial to move beyond your fantasies and finish your chores. reality is elusive now because your ruling planet mercury is working under the influence of dreamy neptune. let the most important decisions slide until tomorrow.\n",
      "\n",
      "Batch:   1500, loss:  0.3577\n",
      "strong if you can remember to balance pleasure with practicality. but don't try to take any shortcuts; managing your time wisely will pay off in the long run. you may feel stuck if your emotions aren't in harmony with your experiences today, and your growing impatience provokes you to justify your impulsive actions. your highly opinionated manner and apparent self-confidence might be a way to hide your fear, but you could take things too far if you're not careful. take a deep breath and bring yourself back to your center before your unsubstantiated facts land you in a pile of trouble. your dilemma today stems from needing to find a healthy balance between overly cautious planning and acting recklessly. thankfully, your organizational skills are operating efficiently today, enabling you to handle a lot of information. nevertheless, pay attention to the practical constraints on your time and energy. you can be\n",
      "\n",
      "Batch:   2000, loss:  0.3577\n",
      "of your life. you may not want to talk about your emotions with the moon and saturn hiding out in your 12th house of secrecy. but your need to be alone doesn't include your very best friends or lover, since you long for the deep emotional connections that can break through your current isolation. remember that interpersonal walls are created by mutual consent, so open your heart to invite in those with whom you want to share your life. you only have so much free time available today, but you still want to escape for a bit, anyhow. meanwhile, your workmates and friends keep reminding you of how many tasks you still have to complete. there are only so many hours in the day, so you may not be able to take time off to play now. nevertheless, remaining focused on what's most crucial will be rewarded later on. there's\n",
      "\n",
      "Batch:   2500, loss:  0.3557\n",
      "to act extroverted, even if you would rather withdraw from social interactions. the fantasy of solitude could be quite appealing now, yet circumstances probably won't allow you to be introverted and avoid your social commitments. thankfully, you can still travel within your dreams as long as you stay present to show up in the outer world when necessary. you may feel more positive about your future today, even if you are still aware of your problems. your growing confidence is supported by co-workers and friends who are enthusiastic about your ideas. although something still isn't quite right, don't make any changes to your plans; holding your current course will pay off in the long run. you've been concentrating your efforts on what's most significant lately, but it's getting harder to pay attention. something or someone may come along now, distracting you into wasting energy before you even realize what happened.\n",
      "\n"
     ]
    },
    {
     "data": {
      "application/vnd.jupyter.widget-view+json": {
       "model_id": "f27c41c3486a4a1cb494b13174cdb47b",
       "version_major": 2,
       "version_minor": 0
      },
      "text/html": [
       "<p>Failed to display Jupyter Widget of type <code>HBox</code>.</p>\n",
       "<p>\n",
       "  If you're reading this message in the Jupyter Notebook or JupyterLab Notebook, it may mean\n",
       "  that the widgets JavaScript is still loading. If this message persists, it\n",
       "  likely means that the widgets JavaScript library is either not installed or\n",
       "  not enabled. See the <a href=\"https://ipywidgets.readthedocs.io/en/stable/user_install.html\">Jupyter\n",
       "  Widgets Documentation</a> for setup instructions.\n",
       "</p>\n",
       "<p>\n",
       "  If you're reading this message in another frontend (for example, a static\n",
       "  rendering on GitHub or <a href=\"https://nbviewer.jupyter.org/\">NBViewer</a>),\n",
       "  it may mean that your frontend doesn't currently support widgets.\n",
       "</p>\n"
      ],
      "text/plain": [
       "HBox(children=(IntProgress(value=0, description='batches', max=2518), HTML(value='')))"
      ]
     },
     "metadata": {},
     "output_type": "display_data"
    },
    {
     "name": "stdout",
     "output_type": "stream",
     "text": [
      "Batch:    500, loss:  0.3528\n",
      "get on track, nor does it improve your attitude, either. self-control is tricky business now, for unspoken emotions can have surprising consequences. your wisest strategy is to tell your co-workers about your feelings without placing blame or expectations on them. your disclosure clears the air and allows you to move on. you want to share what's in your heart today, but you might become hooked on your own words in the process. however, your ability to stay emotionally detached is a mixed blessing. it's fortunate that you are able to communicate objectively, but your actions may appear awkward. ultimately, it's better to take extra time to acknowledge your feelings than to act them out unconsciously. establishing and maintaining clear boundaries is often difficult for you fish, yet today it's even harder than usual. you can trick yourself into believing that your feelings are logical, but caution is advised. impulsive behavior\n",
      "\n",
      "Batch:   1000, loss:  0.3520\n",
      "stubbornly fighting the resistance you face today, just let go of your personal agenda for a while. the path ahead will open for you when you aren't pressuring everyone to follow your plan. relax and go with the flow. you don't seem to be very interested in listening to other people's criticism today. it isn't that your beliefs are based upon idealistic fantasies; it's just that you can see the flaws in a current relationship as well as anyone else. but you know that your feelings come and go, like the rising and falling of the tides, so it's pointless to struggle against strong currents. it may be wiser to wait for the tide to change before announcing your intentions. although others seem to go out of their way to be nice to you now, you can intuitively sense if they're being shallow and just saying positive things to get\n",
      "\n",
      "Batch:   1500, loss:  0.3511\n",
      "be able to get away with a bit of mischief today because others are likely to forgive your edgy behavior. the sun's last day in philosophical sagittarius helps your contemplative nature shine through for everyone to see. thankfully, your eagerness to risk your stability by doing things your way clearly demonstrates your intent to succeed without sacrificing your integrity. you can still act responsibly and remain true to your values now while being a nonconformist. you are riding a wave that's growing in strength, yet you need to slow down or you might squander a rare opportunity. being an inspiring leader is challenging now if you're overly eager to reach a goal, especially if you cannot restrain your enthusiasm. don't just bolt ahead of those who should be following you; instead, move at a pace that allows others to be a part of the process. it's nearly impossible to hide\n",
      "\n",
      "Batch:   2000, loss:  0.3507\n",
      "unexpressed negativity can often turn into resentment if it doesn't have an outlet. your overconfidence can create problems today, unless you scale back your ambitions a bit. unfortunately, it's hard to tell where to draw the line between reality and fantasy, making your decisions even more difficult. widening your spiritual horizons is easy now; maintaining a solid connection with the mundane world at the same time is more difficult, yet also worth the effort. your current fascination with philosophy tempts you to believe that you have discovered the meaning of life. unfortunately, others might see things differently today, believing that you are evading the important issues by using big words and talking about complex ideas that are removed from what's actually happening. although your search for truth may appear cavalier, there's no need to change anything now as long as you're respectful to the reactions of those around you. thankfully,\n",
      "\n",
      "Batch:   2500, loss:  0.3494\n",
      "even if you fall behind at work now, you can still take pride in what you do by just showing up for a friend with a willing attitude and an open heart. you are overly enthusiastic about having fun today, even if it means playing hooky from school or work. unfortunately, you could easily get caught if you just leave your responsibilities undone. however, thinking about the consequences isn't a sufficient deterrent now. nevertheless, there's no need to act foolishly. if you start early, you can finish enough work to enable you to take the rest of the day off without guilt. if you are considering a joint venture, this is an ideal time to present your ideas to your potential partners. you are pumped up by the strength of your convictions, and the fiery aries moon gives you the ability to express yourself with gusto. but even with your\n",
      "\n"
     ]
    },
    {
     "data": {
      "application/vnd.jupyter.widget-view+json": {
       "model_id": "99c7d2de74b446098f2e8068832fba77",
       "version_major": 2,
       "version_minor": 0
      },
      "text/html": [
       "<p>Failed to display Jupyter Widget of type <code>HBox</code>.</p>\n",
       "<p>\n",
       "  If you're reading this message in the Jupyter Notebook or JupyterLab Notebook, it may mean\n",
       "  that the widgets JavaScript is still loading. If this message persists, it\n",
       "  likely means that the widgets JavaScript library is either not installed or\n",
       "  not enabled. See the <a href=\"https://ipywidgets.readthedocs.io/en/stable/user_install.html\">Jupyter\n",
       "  Widgets Documentation</a> for setup instructions.\n",
       "</p>\n",
       "<p>\n",
       "  If you're reading this message in another frontend (for example, a static\n",
       "  rendering on GitHub or <a href=\"https://nbviewer.jupyter.org/\">NBViewer</a>),\n",
       "  it may mean that your frontend doesn't currently support widgets.\n",
       "</p>\n"
      ],
      "text/plain": [
       "HBox(children=(IntProgress(value=0, description='batches', max=2518), HTML(value='')))"
      ]
     },
     "metadata": {},
     "output_type": "display_data"
    },
    {
     "name": "stdout",
     "output_type": "stream",
     "text": [
      "Batch:    500, loss:  0.3459\n",
      "your 7th house of others. unfortunately, you may be growing weary of someone's affected behavior. you crave sincerity and truthfulness, but could feel as if you're currently being shortchanged in your relationships. it will be a lot less stressful if you accept the fact that others are probably giving all that they can. be appreciative of what you have today, instead of wishing for more. you would like to have more free time at your disposal today, but you may have already overcommitted yourself in the chore department. running errands and helping others could prevent you from following your fantasies. but don't complain about your obligations; just doggedly finish what you can. thankfully, if you apply yourself diligently during the day, you may have time for more pleasurable activities in the evening. you're not ready to settle down now because spontaneous mars and opportunistic jupiter have you thinking that your\n",
      "\n",
      "Batch:   1000, loss:  0.3463\n",
      "so don't bother trying to escape from the practical side of life. keep your feet firmly planted on the ground, even while allowing new ideas to inspire your dreams. you may feel optimistic today, but it's not easy to put your big ideas into action. your patience will ultimately be rewarded, freeing you to talk about your plans. once the moon enters fiery sagittarius in the afternoon you remember how much fun you can have when you take off on an adventure. don't hold back; start something new and exciting when the universe tells you that it's time. although you may begin the day with a high level of anxiety, your current emotional overload may be exactly the catalyst you need. you might prefer to keep quiet now, because once you begin sharing you could end up saying way more than you originally intended. don't worry if you overreact in\n",
      "\n",
      "Batch:   1500, loss:  0.3457\n",
      "perceiving yourself clearly today. keep in mind that your uplifting words can be even more effective now if you believe in them yourself. you are full of hope today as the moon joins idealistic neptune. but you may also be fearful that your meager efforts might not be enough to make things better. don't waste precious time belittling your contribution. instead, shift the energy and focus on what you can do. global change will not be the result of extraordinary work by a few people; it will come from the combined smaller deeds of everyone. the moon's conjunction with spiritual neptune in your sign today highlights your unique connection to all of humanity and the entire cosmos. you are unable to fully separate yourself from the larger picture, yet, paradoxically, an awkward venus-saturn aspect increases your current sense of isolation. fortunately, taking a bit of time out of your busy\n",
      "\n",
      "Batch:   2000, loss:  0.3447\n",
      "in balance without favoring either one over the other. you may think that your life is heading in the right direction now that progressive mars is in your sign. but you're also aware that your foundations are built on your beliefs and, perhaps, they are not as firm as you would prefer. but don't let fear convince you to hold on to your current assumptions just because what you know is more comforting than what you don't yet understand. embracing the unknown is scary at first, but it enables you to be open to the potential gains ahead. you might be so moved by someone's story that you have to avoid further conversation to prevent yourself from getting too emotional. thankfully, your imagination isn't restrained today by the facts alone; you're able to envision a more positive scenario, allowing you to paint an optimistic picture instead of just passively responding\n",
      "\n",
      "Batch:   2500, loss:  0.3433\n",
      "work to do around the home today, but you may not be eager to start. obviously, you realize that procrastination delays everything else you want to do, too. lean on your own convictions; overcome your inertia and fulfill your responsibilities. do your household chores now instead of putting them off until later. it may not be easy to initiate action, but you'll feel more confident once you get going. if you have specific plans for the week ahead, you won't want to stop and change them once you are already in motion. although your determination tends to work in your favor by helping you to be more effective, it can also add to your stress if circumstances change. your insistence on maintaining the status quo could be your downfall today. a little flexibility on your part can ease a difficult situation if you are stuck. don't miss the chance to\n",
      "\n"
     ]
    },
    {
     "data": {
      "application/vnd.jupyter.widget-view+json": {
       "model_id": "2f7b26a7f82149d082a99facf34f8b67",
       "version_major": 2,
       "version_minor": 0
      },
      "text/html": [
       "<p>Failed to display Jupyter Widget of type <code>HBox</code>.</p>\n",
       "<p>\n",
       "  If you're reading this message in the Jupyter Notebook or JupyterLab Notebook, it may mean\n",
       "  that the widgets JavaScript is still loading. If this message persists, it\n",
       "  likely means that the widgets JavaScript library is either not installed or\n",
       "  not enabled. See the <a href=\"https://ipywidgets.readthedocs.io/en/stable/user_install.html\">Jupyter\n",
       "  Widgets Documentation</a> for setup instructions.\n",
       "</p>\n",
       "<p>\n",
       "  If you're reading this message in another frontend (for example, a static\n",
       "  rendering on GitHub or <a href=\"https://nbviewer.jupyter.org/\">NBViewer</a>),\n",
       "  it may mean that your frontend doesn't currently support widgets.\n",
       "</p>\n"
      ],
      "text/plain": [
       "HBox(children=(IntProgress(value=0, description='batches', max=2518), HTML(value='')))"
      ]
     },
     "metadata": {},
     "output_type": "display_data"
    },
    {
     "name": "stdout",
     "output_type": "stream",
     "text": [
      "Batch:    500, loss:  0.3402\n",
      "to act in a positive manner while still acknowledging the constraints that are placed on you by judgmental friends or a lack of resources. instead of aiming for an unrealistic goal, choose a destination that's within reach. the willful sun runs into a square with your key planet saturn today, testing your ability to live up to your commitments. it's easy to get so excited that you believe you can defend your actions, but the ends don't justify the means. your good intentions won't be sufficient now to overcome a bad judgment call or a misdirected use of authority. forget about taking any shortcuts; instead, do what's expected of you with determination and grace. there's little margin for error today, so don't let your changing moods influence your actions. acknowledging your feelings is one thing, but allowing your emotions to control your behavior now is not a good idea. taking\n",
      "\n",
      "\n"
     ]
    },
    {
     "ename": "KeyboardInterrupt",
     "evalue": "",
     "output_type": "error",
     "traceback": [
      "\u001b[0;31m---------------------------------------------------------------------------\u001b[0m",
      "\u001b[0;31mKeyboardInterrupt\u001b[0m                         Traceback (most recent call last)",
      "\u001b[0;32m<ipython-input-18-c0d79d3d7514>\u001b[0m in \u001b[0;36m<module>\u001b[0;34m()\u001b[0m\n\u001b[1;32m     24\u001b[0m             \u001b[0moptimizer\u001b[0m\u001b[0;34m.\u001b[0m\u001b[0mstep\u001b[0m\u001b[0;34m(\u001b[0m\u001b[0;34m)\u001b[0m\u001b[0;34m\u001b[0m\u001b[0m\n\u001b[1;32m     25\u001b[0m \u001b[0;34m\u001b[0m\u001b[0m\n\u001b[0;32m---> 26\u001b[0;31m             \u001b[0mloss_value\u001b[0m    \u001b[0;34m=\u001b[0m \u001b[0mloss\u001b[0m\u001b[0;34m.\u001b[0m\u001b[0mcpu\u001b[0m\u001b[0;34m(\u001b[0m\u001b[0;34m)\u001b[0m\u001b[0;34m.\u001b[0m\u001b[0mdata\u001b[0m\u001b[0;34m[\u001b[0m\u001b[0;36m0\u001b[0m\u001b[0;34m]\u001b[0m\u001b[0;34m\u001b[0m\u001b[0m\n\u001b[0m\u001b[1;32m     27\u001b[0m             \u001b[0mrunning_loss\u001b[0m \u001b[0;34m+=\u001b[0m \u001b[0mloss_value\u001b[0m\u001b[0;34m\u001b[0m\u001b[0m\n\u001b[1;32m     28\u001b[0m             \u001b[0mloss_pbar\u001b[0m    \u001b[0;34m+=\u001b[0m \u001b[0mloss_value\u001b[0m\u001b[0;34m\u001b[0m\u001b[0m\n",
      "\u001b[0;32m~/anaconda3/envs/pytorch/lib/python3.6/site-packages/torch/autograd/variable.py\u001b[0m in \u001b[0;36mcpu\u001b[0;34m(self)\u001b[0m\n\u001b[1;32m    299\u001b[0m \u001b[0;34m\u001b[0m\u001b[0m\n\u001b[1;32m    300\u001b[0m     \u001b[0;32mdef\u001b[0m \u001b[0mcpu\u001b[0m\u001b[0;34m(\u001b[0m\u001b[0mself\u001b[0m\u001b[0;34m)\u001b[0m\u001b[0;34m:\u001b[0m\u001b[0;34m\u001b[0m\u001b[0m\n\u001b[0;32m--> 301\u001b[0;31m         \u001b[0;32mreturn\u001b[0m \u001b[0mself\u001b[0m\u001b[0;34m.\u001b[0m\u001b[0mtype\u001b[0m\u001b[0;34m(\u001b[0m\u001b[0mgetattr\u001b[0m\u001b[0;34m(\u001b[0m\u001b[0mtorch\u001b[0m\u001b[0;34m,\u001b[0m \u001b[0mtype\u001b[0m\u001b[0;34m(\u001b[0m\u001b[0mself\u001b[0m\u001b[0;34m.\u001b[0m\u001b[0mdata\u001b[0m\u001b[0;34m)\u001b[0m\u001b[0;34m.\u001b[0m\u001b[0m__name__\u001b[0m\u001b[0;34m)\u001b[0m\u001b[0;34m)\u001b[0m\u001b[0;34m\u001b[0m\u001b[0m\n\u001b[0m\u001b[1;32m    302\u001b[0m \u001b[0;34m\u001b[0m\u001b[0m\n\u001b[1;32m    303\u001b[0m     \u001b[0;32mdef\u001b[0m \u001b[0mdouble\u001b[0m\u001b[0;34m(\u001b[0m\u001b[0mself\u001b[0m\u001b[0;34m)\u001b[0m\u001b[0;34m:\u001b[0m\u001b[0;34m\u001b[0m\u001b[0m\n",
      "\u001b[0;32m~/anaconda3/envs/pytorch/lib/python3.6/site-packages/torch/autograd/variable.py\u001b[0m in \u001b[0;36mtype\u001b[0;34m(self, t)\u001b[0m\n\u001b[1;32m    283\u001b[0m     \u001b[0;32mdef\u001b[0m \u001b[0mtype\u001b[0m\u001b[0;34m(\u001b[0m\u001b[0mself\u001b[0m\u001b[0;34m,\u001b[0m \u001b[0mt\u001b[0m\u001b[0;34m)\u001b[0m\u001b[0;34m:\u001b[0m\u001b[0;34m\u001b[0m\u001b[0m\n\u001b[1;32m    284\u001b[0m         \u001b[0;32mif\u001b[0m \u001b[0mt\u001b[0m \u001b[0;34m!=\u001b[0m \u001b[0mtype\u001b[0m\u001b[0;34m(\u001b[0m\u001b[0mself\u001b[0m\u001b[0;34m.\u001b[0m\u001b[0mdata\u001b[0m\u001b[0;34m)\u001b[0m\u001b[0;34m:\u001b[0m\u001b[0;34m\u001b[0m\u001b[0m\n\u001b[0;32m--> 285\u001b[0;31m             \u001b[0;32mreturn\u001b[0m \u001b[0mType\u001b[0m\u001b[0;34m.\u001b[0m\u001b[0mapply\u001b[0m\u001b[0;34m(\u001b[0m\u001b[0mself\u001b[0m\u001b[0;34m,\u001b[0m \u001b[0mt\u001b[0m\u001b[0;34m)\u001b[0m\u001b[0;34m\u001b[0m\u001b[0m\n\u001b[0m\u001b[1;32m    286\u001b[0m         \u001b[0;32mreturn\u001b[0m \u001b[0mself\u001b[0m\u001b[0;34m\u001b[0m\u001b[0m\n\u001b[1;32m    287\u001b[0m \u001b[0;34m\u001b[0m\u001b[0m\n",
      "\u001b[0;32m~/anaconda3/envs/pytorch/lib/python3.6/site-packages/torch/autograd/_functions/tensor.py\u001b[0m in \u001b[0;36mforward\u001b[0;34m(ctx, i, dest_type)\u001b[0m\n\u001b[1;32m    179\u001b[0m         \u001b[0mctx\u001b[0m\u001b[0;34m.\u001b[0m\u001b[0minput_type\u001b[0m \u001b[0;34m=\u001b[0m \u001b[0mtype\u001b[0m\u001b[0;34m(\u001b[0m\u001b[0mi\u001b[0m\u001b[0;34m)\u001b[0m\u001b[0;34m\u001b[0m\u001b[0m\n\u001b[1;32m    180\u001b[0m         \u001b[0mctx\u001b[0m\u001b[0;34m.\u001b[0m\u001b[0minput_device\u001b[0m \u001b[0;34m=\u001b[0m \u001b[0;34m-\u001b[0m\u001b[0;36m1\u001b[0m \u001b[0;32mif\u001b[0m \u001b[0;32mnot\u001b[0m \u001b[0mi\u001b[0m\u001b[0;34m.\u001b[0m\u001b[0mis_cuda\u001b[0m \u001b[0;32melse\u001b[0m \u001b[0mi\u001b[0m\u001b[0;34m.\u001b[0m\u001b[0mget_device\u001b[0m\u001b[0;34m(\u001b[0m\u001b[0;34m)\u001b[0m\u001b[0;34m\u001b[0m\u001b[0m\n\u001b[0;32m--> 181\u001b[0;31m         \u001b[0;32mreturn\u001b[0m \u001b[0mi\u001b[0m\u001b[0;34m.\u001b[0m\u001b[0mtype\u001b[0m\u001b[0;34m(\u001b[0m\u001b[0mdest_type\u001b[0m\u001b[0;34m)\u001b[0m\u001b[0;34m\u001b[0m\u001b[0m\n\u001b[0m\u001b[1;32m    182\u001b[0m \u001b[0;34m\u001b[0m\u001b[0m\n\u001b[1;32m    183\u001b[0m     \u001b[0;34m@\u001b[0m\u001b[0mstaticmethod\u001b[0m\u001b[0;34m\u001b[0m\u001b[0m\n",
      "\u001b[0;32m~/anaconda3/envs/pytorch/lib/python3.6/site-packages/torch/cuda/__init__.py\u001b[0m in \u001b[0;36mtype\u001b[0;34m(self, *args, **kwargs)\u001b[0m\n\u001b[1;32m    394\u001b[0m     \u001b[0;32mdef\u001b[0m \u001b[0mtype\u001b[0m\u001b[0;34m(\u001b[0m\u001b[0mself\u001b[0m\u001b[0;34m,\u001b[0m \u001b[0;34m*\u001b[0m\u001b[0margs\u001b[0m\u001b[0;34m,\u001b[0m \u001b[0;34m**\u001b[0m\u001b[0mkwargs\u001b[0m\u001b[0;34m)\u001b[0m\u001b[0;34m:\u001b[0m\u001b[0;34m\u001b[0m\u001b[0m\n\u001b[1;32m    395\u001b[0m         \u001b[0;32mwith\u001b[0m \u001b[0mdevice\u001b[0m\u001b[0;34m(\u001b[0m\u001b[0mself\u001b[0m\u001b[0;34m.\u001b[0m\u001b[0mget_device\u001b[0m\u001b[0;34m(\u001b[0m\u001b[0;34m)\u001b[0m\u001b[0;34m)\u001b[0m\u001b[0;34m:\u001b[0m\u001b[0;34m\u001b[0m\u001b[0m\n\u001b[0;32m--> 396\u001b[0;31m             \u001b[0;32mreturn\u001b[0m \u001b[0msuper\u001b[0m\u001b[0;34m(\u001b[0m\u001b[0m_CudaBase\u001b[0m\u001b[0;34m,\u001b[0m \u001b[0mself\u001b[0m\u001b[0;34m)\u001b[0m\u001b[0;34m.\u001b[0m\u001b[0mtype\u001b[0m\u001b[0;34m(\u001b[0m\u001b[0;34m*\u001b[0m\u001b[0margs\u001b[0m\u001b[0;34m,\u001b[0m \u001b[0;34m**\u001b[0m\u001b[0mkwargs\u001b[0m\u001b[0;34m)\u001b[0m\u001b[0;34m\u001b[0m\u001b[0m\n\u001b[0m\u001b[1;32m    397\u001b[0m \u001b[0;34m\u001b[0m\u001b[0m\n\u001b[1;32m    398\u001b[0m     \u001b[0m__new__\u001b[0m \u001b[0;34m=\u001b[0m \u001b[0m_lazy_new\u001b[0m\u001b[0;34m\u001b[0m\u001b[0m\n",
      "\u001b[0;32m~/anaconda3/envs/pytorch/lib/python3.6/site-packages/torch/_utils.py\u001b[0m in \u001b[0;36m_type\u001b[0;34m(self, new_type, async)\u001b[0m\n\u001b[1;32m     36\u001b[0m     \u001b[0;32mif\u001b[0m \u001b[0mnew_type\u001b[0m\u001b[0;34m.\u001b[0m\u001b[0mis_sparse\u001b[0m\u001b[0;34m:\u001b[0m\u001b[0;34m\u001b[0m\u001b[0m\n\u001b[1;32m     37\u001b[0m         \u001b[0;32mraise\u001b[0m \u001b[0mRuntimeError\u001b[0m\u001b[0;34m(\u001b[0m\u001b[0;34m\"Cannot cast dense tensor to sparse tensor\"\u001b[0m\u001b[0;34m)\u001b[0m\u001b[0;34m\u001b[0m\u001b[0m\n\u001b[0;32m---> 38\u001b[0;31m     \u001b[0;32mreturn\u001b[0m \u001b[0mnew_type\u001b[0m\u001b[0;34m(\u001b[0m\u001b[0mself\u001b[0m\u001b[0;34m.\u001b[0m\u001b[0msize\u001b[0m\u001b[0;34m(\u001b[0m\u001b[0;34m)\u001b[0m\u001b[0;34m)\u001b[0m\u001b[0;34m.\u001b[0m\u001b[0mcopy_\u001b[0m\u001b[0;34m(\u001b[0m\u001b[0mself\u001b[0m\u001b[0;34m,\u001b[0m \u001b[0masync\u001b[0m\u001b[0;34m)\u001b[0m\u001b[0;34m\u001b[0m\u001b[0m\n\u001b[0m\u001b[1;32m     39\u001b[0m \u001b[0;34m\u001b[0m\u001b[0m\n\u001b[1;32m     40\u001b[0m \u001b[0;34m\u001b[0m\u001b[0m\n",
      "\u001b[0;31mKeyboardInterrupt\u001b[0m: "
     ]
    }
   ],
   "source": [
    "for epoch in tnrange(epochs, desc = 'epochs'):\n",
    "    loss_pbar    = 0 \n",
    "    running_loss = 0\n",
    "    generator    = batch_generator(data, batch_size, n_words, word_to_id)\n",
    "\n",
    "    with tqdm_notebook(\n",
    "        enumerate(generator), \n",
    "        desc = 'batches', \n",
    "        total = batch_per_epoch, \n",
    "        unit = 'batch '\n",
    "    ) as pbar:\n",
    "\n",
    "        for i, (X, y) in pbar:\n",
    "            X = Variable(X)\n",
    "            y = Variable(y)\n",
    "            X = X.cuda() if cuda else X\n",
    "            y = y.cuda() if cuda else y\n",
    "            optimizer.zero_grad()\n",
    "            y_pred = tcn(X)\n",
    "            reshaped_y      = y.view(-1)\n",
    "            reshaped_y_pred = y_pred.view(-1, n_words) \n",
    "            loss   = criterion(reshaped_y_pred, reshaped_y)\n",
    "            loss.backward()\n",
    "            optimizer.step()\n",
    "\n",
    "            loss_value    = loss.cpu().data[0]\n",
    "            running_loss += loss_value\n",
    "            loss_pbar    += loss_value\n",
    "\n",
    "            if i % loss_update_rate == loss_update_rate - 1:\n",
    "                pbar.set_postfix(loss = loss_pbar / loss_update_rate)\n",
    "                loss_pbar = 0\n",
    "\n",
    "            if i % print_every == print_every - 1:\n",
    "                test_result = test_model(tcn, test_seq_size, window_size, n_words, \n",
    "                                         id_to_word, word_to_id, data)\n",
    "                tqdm.write(f'Batch: {i + 1 : 6}, '\n",
    "                           f'loss: {running_loss / print_every : .4f}\\n'\n",
    "                           f'{test_result}\\n')\n",
    "                running_loss = 0\n",
    "    torch.save(tcn.state_dict(), '../models/tcn_horoscope.h5')"
   ]
  },
  {
   "cell_type": "code",
   "execution_count": 19,
   "metadata": {},
   "outputs": [
    {
     "data": {
      "text/plain": [
       "\"your day will be bad but you should stay optimistic because they are still fully understand your own power, but the best of your sign is in the form of its own and be smart and family can make you feel better in the long run to the distant destination. the moon's visit to your fiery sign will surely exactly what that need for other activities to work and don't make them feel better in the day to move without trying to leave things to achieve them. don't try to do what both yourself and make your way and give you the time they want now. the moon's conjunction with your key planet pluto today, making it easier to you're able to change your mind and your imagination and you want to see things in a relationship later, but you cannot just start with your responsibilities prior to having an uncomfortable situation and not when you keep your heart to the immediate situation. don't let your personal life now, even if you have to choose one problem before you make your day based on the information of what you are doing now, but you aren't necessarily interested in holding on to what you do today or to try to let it go of the future, you don't overdo the very serious view of your current task with a sensible of big ideas that truly are telling you to take the easy way out of a less rational manner. you might be extra hard to get everything in the open today. it's too little to show something for your own feelings, for you to sound shifting into your life. the smartest way to be a major set of yourself now, but you must be willing to meet your obligations as well. you don't like the idea of being in a relationship, yet your life will be easier soon than you are afraid to accept your dreams of others. you might feel like a kite that turns an opportunity to take your next step out of the open. your current position is toward a powerful opportunity and you will be more than you can deliver, especially if you don't retreat from the usual because you can maintain control of a relationship because your key planet venus squares false jupiter. you might be the best interest of all about the boundaries of what you see. but too much time to hide your feelings or not. the moon's current visit to your 12th house of secrets. encouraging you to create your own pleasure with a stabilizing and you are driven to dissipate the dynamics when you are necessarily a real hero. you may be struggling with your perspective because you don't want to be in a more practical path, yet you are probably more cautious than usual. you might not have a concrete plan, but you probably won't have any longer than you realize what the consequences of your mind. instead of just thinking\""
      ]
     },
     "execution_count": 19,
     "metadata": {},
     "output_type": "execute_result"
    }
   ],
   "source": [
    "genererate_long_sequence(\n",
    "    tcn, \n",
    "    500, \n",
    "    n_words, \n",
    "    id_to_word, \n",
    "    word_to_id, \n",
    "    'your day will be bad but you should stay optimistic because'\n",
    ")"
   ]
  },
  {
   "cell_type": "code",
   "execution_count": null,
   "metadata": {},
   "outputs": [],
   "source": []
  }
 ],
 "metadata": {
  "kernelspec": {
   "display_name": "Python 3",
   "language": "python",
   "name": "python3"
  },
  "language_info": {
   "codemirror_mode": {
    "name": "ipython",
    "version": 3
   },
   "file_extension": ".py",
   "mimetype": "text/x-python",
   "name": "python",
   "nbconvert_exporter": "python",
   "pygments_lexer": "ipython3",
   "version": "3.6.4"
  }
 },
 "nbformat": 4,
 "nbformat_minor": 2
}
