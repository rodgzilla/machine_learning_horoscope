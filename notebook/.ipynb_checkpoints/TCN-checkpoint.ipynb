{
 "cells": [
  {
   "cell_type": "markdown",
   "metadata": {},
   "source": [
    "# Horoscope generation using Temporal Convolution Networks\n",
    "\n",
    "The goal of this notebook is to implement a generator of horoscope based on neural networks. \n",
    "\n",
    "More specifically, the architecture used is a Temporal Convolution Network based on the research paper [\"An Empirical Evaluation of Generic Convolutional and Recurrent Networks for Sequence Modeling\"](https://arxiv.org/abs/1803.01271). This architecture is fully convolutional and can therefore take arbitrary length sequence as inputs. The main idea of the authors of this paper is to increase the perceptive field of each successive layer using [dilated convolution](https://github.com/vdumoulin/conv_arithmetic). \n",
    "\n",
    "The bulk of the code of the TCN has been taken from [the implementation](https://github.com/locuslab/TCN) linked in the article.\n",
    "\n",
    "The data used here are all the horoscopes published [beliefnet.com](beliefnet.com) for the year 2011. \n",
    "\n",
    "The network takes a sequence of `window_size` characters coming from as input and outputs a sequence of `window_size` characters. The target that we use for training is a slice of the horoscope corresponding to the input slid on step to the right, effectively asking the network what should the next character be. "
   ]
  },
  {
   "cell_type": "markdown",
   "metadata": {},
   "source": [
    "## Imports"
   ]
  },
  {
   "cell_type": "code",
   "execution_count": 1,
   "metadata": {},
   "outputs": [],
   "source": [
    "import random\n",
    "import math\n",
    "\n",
    "import pandas as pd\n",
    "\n",
    "from tqdm import tnrange, tqdm_notebook\n",
    "from tqdm import tqdm\n",
    "\n",
    "import torch\n",
    "import torch.nn            as nn\n",
    "import torch.nn.functional as F\n",
    "import torch.optim         as optim\n",
    "from torch.nn.utils import weight_norm\n",
    "from torch.autograd import Variable"
   ]
  },
  {
   "cell_type": "markdown",
   "metadata": {},
   "source": [
    "## Training parameters"
   ]
  },
  {
   "cell_type": "code",
   "execution_count": 2,
   "metadata": {},
   "outputs": [],
   "source": [
    "cuda          = True\n",
    "file_path     = '../data/horoscope_2011.csv'\n",
    "window_size   = 150\n",
    "batch_size    = 700\n",
    "print_every   = 500\n",
    "test_seq_size = 600\n",
    "epochs        = 7"
   ]
  },
  {
   "cell_type": "markdown",
   "metadata": {},
   "source": [
    "## Data loading code"
   ]
  },
  {
   "cell_type": "code",
   "execution_count": 3,
   "metadata": {},
   "outputs": [],
   "source": [
    "def load_data(path, window_size):\n",
    "    df               = pd.read_csv(path)\n",
    "    text             = ' '.join(df.TEXT).lower()\n",
    "    characters       = set(text)\n",
    "    n_characters     = len(characters)\n",
    "    idx_to_character = dict(enumerate(characters))\n",
    "    character_to_idx = {character : idx for idx, character in idx_to_character.items()}\n",
    "    # As explained above, we use a rolling window on the horoscope text to create our\n",
    "    # training data. An input is the content of window and the corresponding target\n",
    "    # is the content of the window slid one step to the right.\n",
    "    data             = [(text[i : i + window_size], text[i + 1 : i + window_size + 1])\n",
    "                        for i in range(len(text) - window_size - 1)]\n",
    "    \n",
    "    return n_characters, idx_to_character, character_to_idx, data"
   ]
  },
  {
   "cell_type": "code",
   "execution_count": 4,
   "metadata": {},
   "outputs": [],
   "source": [
    "def one_hot_encode(inp_tensor, length):\n",
    "    # The following lines convert a tensor containing character indentifiers\n",
    "    # into a one hot embedding.\n",
    "    inp_                = torch.unsqueeze(inp_tensor, 2)\n",
    "    batch_size, seq_len = inp_tensor.size()\n",
    "    one_hot             = torch.FloatTensor(batch_size, seq_len, length).zero_()\n",
    "    # As we are using a convolutional network, the expected input is of shape \n",
    "    # (batch, channel, sequence). We have to transpose the tensor that we create\n",
    "    # in order to use the one hot encoding of the characters as channel (dim 1). \n",
    "    one_hot.scatter_(2, inp_, 1).transpose_(1, 2)\n",
    "    \n",
    "    return one_hot"
   ]
  },
  {
   "cell_type": "code",
   "execution_count": 5,
   "metadata": {},
   "outputs": [],
   "source": [
    "def encode_seq(seq, char_to_id):\n",
    "    return [char_to_id[c] for c in seq]"
   ]
  },
  {
   "cell_type": "code",
   "execution_count": 6,
   "metadata": {},
   "outputs": [],
   "source": [
    "def data_to_tensor(data, char_to_id, n_char):\n",
    "    input_tensor    = torch.LongTensor([encode_seq(input_seq, char_to_id) \n",
    "                                         for input_seq, _ in data])\n",
    "    one_hot_input   = one_hot_encode(input_tensor, n_char)\n",
    "    target_tensor   = torch.LongTensor([encode_seq(target_seq, char_to_id) \n",
    "                                         for _, target_seq in data])\n",
    "\n",
    "    return one_hot_input, target_tensor"
   ]
  },
  {
   "cell_type": "code",
   "execution_count": 7,
   "metadata": {},
   "outputs": [],
   "source": [
    "def batch_generator(data, batch_size, n_char, char_to_id, shuffle = True):\n",
    "    if shuffle:\n",
    "        data = random.sample(data, len(data))\n",
    "    \n",
    "    return (data_to_tensor(data[i : i + batch_size], char_to_id, n_char) \n",
    "                 for i in range(0, len(data), batch_size))"
   ]
  },
  {
   "cell_type": "markdown",
   "metadata": {},
   "source": [
    "## Model visualization code\n",
    "\n",
    "The model evaluation consists in asking it to generate a long sequence of character. We randomly select an input as a base for our generation and create a new sequence character by character using the model."
   ]
  },
  {
   "cell_type": "code",
   "execution_count": 8,
   "metadata": {},
   "outputs": [],
   "source": [
    "def test_model(tcn, final_sequence_size, window_size, n_char, \n",
    "               id_to_char, char_to_id, data):\n",
    "    seq = list(random.choice(data)[0])\n",
    "    while len(seq) < final_sequence_size:\n",
    "        # As the sequence is able to take variable length inputs, it could be \n",
    "        # interesting to not limit ourselves on inputs of window_size.\n",
    "        encoded_input = encode_seq(seq[-window_size:], char_to_id)\n",
    "        input_tensor  = torch.LongTensor([encoded_input])\n",
    "        one_hot_input = one_hot_encode(input_tensor, n_char)\n",
    "        X             = Variable(one_hot_input)\n",
    "        X             = X.cuda() if cuda else X \n",
    "        y_pred        = tcn(X)\n",
    "        # It is important to take the maximum on the dim -2 as each channel of \n",
    "        # the output will correspond to the score associated to a character.\n",
    "        char_pred_id  = y_pred[0].max(dim = -2)[1][-1].cpu().data[0]\n",
    "        char_pred     = id_to_char[char_pred_id]\n",
    "        seq.append(char_pred)\n",
    "    \n",
    "    return ''.join(seq)"
   ]
  },
  {
   "cell_type": "markdown",
   "metadata": {},
   "source": [
    "The following function generates an horoscope starting from a `base` supplied by the caller. "
   ]
  },
  {
   "cell_type": "code",
   "execution_count": 9,
   "metadata": {},
   "outputs": [],
   "source": [
    "def genererate_long_sequence(tcn, final_sequence_size, n_char, id_to_char, char_to_id, base):\n",
    "    seq = list(base)\n",
    "\n",
    "    while len(seq) < final_sequence_size:\n",
    "        # In this case we do not limit the size of the input to window_size.\n",
    "        encoded_input = encode_seq(seq, char_to_id)\n",
    "        input_tensor  = torch.LongTensor([encoded_input])\n",
    "        one_hot_input = one_hot_encode(input_tensor, n_char)\n",
    "        X             = Variable(one_hot_input)\n",
    "        X             = X.cuda() if cuda else X \n",
    "        y_pred        = tcn(X)\n",
    "        # It is important to take the maximum on the dim -2 as each channel of \n",
    "        # the output will correspond to the score associated to a character.\n",
    "        char_pred_id  = y_pred[0].max(dim = -2)[1][-1].cpu().data[0]\n",
    "        char_pred     = id_to_char[char_pred_id]\n",
    "        seq.append(char_pred)\n",
    "        \n",
    "    return ''.join(seq)"
   ]
  },
  {
   "cell_type": "markdown",
   "metadata": {},
   "source": [
    "## Model definition\n",
    "\n",
    "The `Chomp1d` module is used to remove the extra values at the end of the sequence by the padding of a convolution. As the TCN architecture uses dilated convolution, the padding have to be increased in order to be able to generate a long enough output. We have to remove the extra values so that the last value of our output is the result of a dilated convolution whose rightmost value was the last value of the input sequence. "
   ]
  },
  {
   "cell_type": "code",
   "execution_count": 10,
   "metadata": {},
   "outputs": [],
   "source": [
    "class Chomp1d(nn.Module):\n",
    "    def __init__(self, chomp_size):\n",
    "        super(Chomp1d, self).__init__()\n",
    "        self.chomp_size = chomp_size\n",
    "        \n",
    "    def forward(self, x):\n",
    "        # As x can be stored on the GPU, if we use it to build a new tensor,\n",
    "        # we have to ensure that our new value is stored contiguously.\n",
    "        return x[:, :, :-self.chomp_size].contiguous()"
   ]
  },
  {
   "cell_type": "markdown",
   "metadata": {},
   "source": [
    "The `TemporalBlock` module is a residual block containing two weight normalized dilated convolutions with ReLU activations and dropout2d (we drop whole channel at once). The residual connection may contain a 1x1 convolution if it is necessary to transform the input to the correct number of channels. "
   ]
  },
  {
   "cell_type": "code",
   "execution_count": 11,
   "metadata": {},
   "outputs": [],
   "source": [
    "class TemporalBlock(nn.Module):\n",
    "    def __init__(self, n_inputs, n_outputs, kernel_size, stride, dilation, padding, dropout = 0.2):\n",
    "        super(TemporalBlock, self).__init__()\n",
    "        conv_params = {\n",
    "            'kernel_size' : kernel_size,\n",
    "            'stride'      : stride,\n",
    "            'padding'     : padding,\n",
    "            'dilation'    : dilation\n",
    "        }\n",
    "        self.conv1    = weight_norm(nn.Conv1d(n_inputs, n_outputs, **conv_params))\n",
    "        self.chomp1   = Chomp1d(padding)\n",
    "        self.relu1    = nn.ReLU()\n",
    "        self.dropout1 = nn.Dropout2d(dropout)\n",
    "        self.conv2    = weight_norm(nn.Conv1d(n_outputs, n_outputs, **conv_params))\n",
    "        self.chomp2   = Chomp1d(padding)\n",
    "        self.relu2    = nn.ReLU()\n",
    "        self.dropout2 = nn.Dropout2d(dropout)\n",
    "        self.net      = nn.Sequential(\n",
    "            self.conv1, \n",
    "            self.chomp1,\n",
    "            self.relu1,\n",
    "            self.dropout1,\n",
    "            self.conv2,\n",
    "            self.chomp2,\n",
    "            self.relu2,\n",
    "            self.dropout2\n",
    "        )\n",
    "        # If the number of input channels is equal to the number of output channel then\n",
    "        # no transformation is required.\n",
    "        self.downsample = nn.Conv1d(n_inputs, n_outputs, 1) if n_inputs != n_outputs else None\n",
    "        self.relu       = nn.ReLU()\n",
    "        self.init_weights()\n",
    "        \n",
    "    def forward(self, x):\n",
    "        # Convolutional branch of the residual block\n",
    "        out = self.net(x)\n",
    "        # Residual branch of the residual block\n",
    "        res = x if self.downsample is None else self.downsample(x)\n",
    "\n",
    "        return self.relu(out + res)\n",
    "    \n",
    "    def init_weights(self):\n",
    "        self.conv1.weight.data.normal_(0, 0.01)\n",
    "        self.conv2.weight.data.normal_(0, 0.01)\n",
    "        if self.downsample is not None:\n",
    "            self.downsample.weight.data.normal_(0, 0.01)"
   ]
  },
  {
   "cell_type": "markdown",
   "metadata": {},
   "source": [
    "The Temporal Convolution Network is a sequence of Temporal Blocks whose dilation is doubled at each step. If enough blocks are uses, this definition allows the network to used information for arbitrarily far away in the past to generate its prediction. "
   ]
  },
  {
   "cell_type": "code",
   "execution_count": 12,
   "metadata": {},
   "outputs": [],
   "source": [
    "class TemporalConvNet(nn.Module):\n",
    "    def __init__(self, num_inputs, num_channels, kernel_size = 2, dropout = 0.2):\n",
    "        super(TemporalConvNet, self).__init__()\n",
    "        layers     = []\n",
    "        num_levels = len(num_channels)\n",
    "        \n",
    "        for i in range(num_levels):\n",
    "            # The dilation is doubled at each layer to allow an exponential growth of \n",
    "            # the receptive field size.   \n",
    "            dilation_size = 2 ** i\n",
    "            in_channels   = num_inputs if i == 0 else num_channels[i - 1]\n",
    "            out_channels  = num_channels[i]\n",
    "            layers.append(\n",
    "                TemporalBlock(\n",
    "                    in_channels,\n",
    "                    out_channels,\n",
    "                    kernel_size,\n",
    "                    stride   = 1,\n",
    "                    dilation = dilation_size,\n",
    "                    padding  = (kernel_size - 1) * dilation_size,\n",
    "                    dropout  = dropout\n",
    "                )\n",
    "            )\n",
    "        \n",
    "        self.network = nn.Sequential(*layers)\n",
    "        \n",
    "    def forward(self, x):\n",
    "        return self.network(x)"
   ]
  },
  {
   "cell_type": "markdown",
   "metadata": {},
   "source": [
    "## Training"
   ]
  },
  {
   "cell_type": "code",
   "execution_count": 13,
   "metadata": {},
   "outputs": [],
   "source": [
    "n_char, id_to_char, char_to_id, data = load_data(file_path, window_size)\n",
    "num_channels                         = [512] * 6 + [n_char]\n",
    "tcn                                  = TemporalConvNet(n_char, num_channels)\n",
    "tcn                                  = tcn.cuda() if cuda else tcn\n",
    "# We view the problem as a classification task in which the network tries\n",
    "# to predict what class the following character should be.   \n",
    "criterion                            = nn.CrossEntropyLoss()\n",
    "# We use an Adam optimizer with the default learning rate of 1e-3.\n",
    "optimizer                            = optim.Adam(tcn.parameters())"
   ]
  },
  {
   "cell_type": "code",
   "execution_count": 14,
   "metadata": {},
   "outputs": [],
   "source": [
    "batch_per_epoch  = math.ceil(len(data) / batch_size)\n",
    "loss_update_rate = 3"
   ]
  },
  {
   "cell_type": "code",
   "execution_count": 15,
   "metadata": {},
   "outputs": [
    {
     "data": {
      "application/vnd.jupyter.widget-view+json": {
       "model_id": "0e6868ec3ea24d52a447118ca4e97441",
       "version_major": 2,
       "version_minor": 0
      },
      "text/html": [
       "<p>Failed to display Jupyter Widget of type <code>HBox</code>.</p>\n",
       "<p>\n",
       "  If you're reading this message in the Jupyter Notebook or JupyterLab Notebook, it may mean\n",
       "  that the widgets JavaScript is still loading. If this message persists, it\n",
       "  likely means that the widgets JavaScript library is either not installed or\n",
       "  not enabled. See the <a href=\"https://ipywidgets.readthedocs.io/en/stable/user_install.html\">Jupyter\n",
       "  Widgets Documentation</a> for setup instructions.\n",
       "</p>\n",
       "<p>\n",
       "  If you're reading this message in another frontend (for example, a static\n",
       "  rendering on GitHub or <a href=\"https://nbviewer.jupyter.org/\">NBViewer</a>),\n",
       "  it may mean that your frontend doesn't currently support widgets.\n",
       "</p>\n"
      ],
      "text/plain": [
       "HBox(children=(IntProgress(value=0, description='epochs', max=7), HTML(value='')))"
      ]
     },
     "metadata": {},
     "output_type": "display_data"
    },
    {
     "data": {
      "application/vnd.jupyter.widget-view+json": {
       "model_id": "a5e316a955bf4fba8b3a850c3fc28a4a",
       "version_major": 2,
       "version_minor": 0
      },
      "text/html": [
       "<p>Failed to display Jupyter Widget of type <code>HBox</code>.</p>\n",
       "<p>\n",
       "  If you're reading this message in the Jupyter Notebook or JupyterLab Notebook, it may mean\n",
       "  that the widgets JavaScript is still loading. If this message persists, it\n",
       "  likely means that the widgets JavaScript library is either not installed or\n",
       "  not enabled. See the <a href=\"https://ipywidgets.readthedocs.io/en/stable/user_install.html\">Jupyter\n",
       "  Widgets Documentation</a> for setup instructions.\n",
       "</p>\n",
       "<p>\n",
       "  If you're reading this message in another frontend (for example, a static\n",
       "  rendering on GitHub or <a href=\"https://nbviewer.jupyter.org/\">NBViewer</a>),\n",
       "  it may mean that your frontend doesn't currently support widgets.\n",
       "</p>\n"
      ],
      "text/plain": [
       "HBox(children=(IntProgress(value=0, description='batches', max=2683), HTML(value='')))"
      ]
     },
     "metadata": {},
     "output_type": "display_data"
    },
    {
     "name": "stdout",
     "output_type": "stream",
     "text": [
      "Batch:    500, loss:  2.1264\n",
      "l, you must seek spontaneous avenues of expression no matter how much your current obligations constrain you. ultimately, new ways of doing things today of the proble of the contro to a so to the to step to so your all than you to so so to so to a so so to stay be a so to the to see your feelings to start of your and hard to start to the prore to a so sore thing to start to starting to so so so to the prowerstep to the concerent of you can seer to so to stranging your concertation to so so the proble to the prose to shand to start of your feel to the prosted to the proble to so your concertati\n",
      "\n",
      "Batch:   1000, loss:  1.4211\n",
      "inner skin than yours. unfortunately, your self-confidence could be perceived by others as a false sense of authority, causing them to pull away from your current so you may be a strate your connection to your feelings and the moon in your concerns today and you can be a lot of the more in your control to your confront something you to be and the confront to set your contround to stay on your process to your feelings to see the problem the problem that you can be a serious today as you to start of your control and the solutions to all your confidence today and you may be able to do the sense o\n",
      "\n",
      "Batch:   1500, loss:  1.2437\n",
      "iscussion about a complex emotional situation when others are not. don't push too hard today or you might alienate the very same people you are trying to stay on your fears and someone else to stay on your personal strategy to stay out of the process with your promises and being the started with your feelings to the conse of your feelings are something you are able to mars and the surface that you can be a sensible to stay on your problems in the surface the present moment to your concerned to the surface and then the show your process will be able to see the surface the moon is your feelings \n",
      "\n",
      "Batch:   2000, loss:  1.1575\n",
      "s the best time to get busy. you might not be the one in charge today, but others expect a lot from you anyway. you may feel frustrated if you're held be able to see the status of your progress today and you may be so strategy with the best of your own sense of a real concerns to your problems and your feelings are surprise to the process of your friends and then the moon in your sign today as you want to stay on your own soundaries and you may be afraid of the surprised by your feelings today as you want to show others are a strategy and you won the way to start your professional problems to \n",
      "\n",
      "Batch:   2500, loss:  1.1029\n",
      "ual and want to connect with your friends, but you aren't receiving positive responses to your overtures. you prefer a warmer reaction and without encourage to the source of your desires and see a little to be a solution of your own thoughts are so dong and the sun in your sign in a sign to a strength and you may be a straight that you are a complete to stay out of your plans and then the moon in your sign today and you may be a strength to the present moment to stay on the present moment to share your feelings to yourself to be an apparent promises to the surface of the present moment and sol\n",
      "\n"
     ]
    },
    {
     "data": {
      "application/vnd.jupyter.widget-view+json": {
       "model_id": "bf3ac81684364a63b7ec2c2c7f3b6468",
       "version_major": 2,
       "version_minor": 0
      },
      "text/html": [
       "<p>Failed to display Jupyter Widget of type <code>HBox</code>.</p>\n",
       "<p>\n",
       "  If you're reading this message in the Jupyter Notebook or JupyterLab Notebook, it may mean\n",
       "  that the widgets JavaScript is still loading. If this message persists, it\n",
       "  likely means that the widgets JavaScript library is either not installed or\n",
       "  not enabled. See the <a href=\"https://ipywidgets.readthedocs.io/en/stable/user_install.html\">Jupyter\n",
       "  Widgets Documentation</a> for setup instructions.\n",
       "</p>\n",
       "<p>\n",
       "  If you're reading this message in another frontend (for example, a static\n",
       "  rendering on GitHub or <a href=\"https://nbviewer.jupyter.org/\">NBViewer</a>),\n",
       "  it may mean that your frontend doesn't currently support widgets.\n",
       "</p>\n"
      ],
      "text/plain": [
       "HBox(children=(IntProgress(value=0, description='batches', max=2683), HTML(value='')))"
      ]
     },
     "metadata": {},
     "output_type": "display_data"
    },
    {
     "name": "stdout",
     "output_type": "stream",
     "text": [
      "Batch:    500, loss:  1.0508\n",
      "is in your sign. you might think that you're being perfectly clear now, but your actions don't seem to support your words. it may be a better strategy is to stay on the present moment with an intensity today as your current situation is a strong enough to see the pressure to set your feelings that you can and then more than you can do something that you can be a way to start to the position of your future is a smart idea to set aside your production today and you may be so easy way to tal0t out of your plans and then still may be a bit of a position that you can do something that you can do to\n",
      "\n",
      "Batch:   1000, loss:  1.0228\n",
      "ience a relationship crisis. it's not easy to follow through on whatever you start today. you probably have already promised more than you can deliver on your plate today as you won0t want to someone you trust the stress of your plans and then someone else to stay on trac0to your own could be a situation today because you can set your emotions and then still may be the sun and then stirring up your sign today and your self0ti for you to see the same thing that you can do today and you are better than you thing you can do today and your current stress today as you try to stay focused on your pr\n",
      "\n",
      "Batch:   1500, loss:  0.9981\n",
      "o begin something else. naturally, this is a familiar theme for you spontaneous rams. take control of your restlessness today by committing to finish your words to be an instant today because you would be wise to stay focused on your friends and family might not be able to see the position on a stretching you to be a little distraction to someone else to someone else things you cannot happy the day with the sun in your sign today as you wish you could be able to show off your feelings to yourself today and you can still be a bit too far if you try to find your attention on the future in a sign\n",
      "\n",
      "Batch:   2000, loss:  0.9779\n",
      "o think before you speak and to always be kind in your delivery. you can perceive things that you would ordinarily miss on other days, prompting you to be a conclusion that you would be wise to concentrate on the present moment to start your perspecti0t anothe wish that you can actually are the on your feelings today as the moon in your sigh to show done your desires to your life in the process of your own self0ti0to modif your current circumstances to complete your approach and then managing your feelings to your intelligence today as the moon returns to your sign today and you might not be a\n",
      "\n",
      "Batch:   2500, loss:  0.9606\n",
      "ht feel like a lazy lion with plenty of excuses to justify your unproductive nature. remember, you don't have to prove anything to anyone at all. you may be a bit off a position to someone you lo0th a personal preferences today as the moon is in your sign today as you may be a bit of adding that you are strong need to be too much too much to do today if you cannot see a sense of purposefully starting a course of fantasy with a friend or loose gemini moon in your sign today and then someone else may be too serious today because you can also accomplish more than you can do now in the present mom\n",
      "\n"
     ]
    },
    {
     "data": {
      "application/vnd.jupyter.widget-view+json": {
       "model_id": "5c7f089ed28a41599dd2697d8bc09a49",
       "version_major": 2,
       "version_minor": 0
      },
      "text/html": [
       "<p>Failed to display Jupyter Widget of type <code>HBox</code>.</p>\n",
       "<p>\n",
       "  If you're reading this message in the Jupyter Notebook or JupyterLab Notebook, it may mean\n",
       "  that the widgets JavaScript is still loading. If this message persists, it\n",
       "  likely means that the widgets JavaScript library is either not installed or\n",
       "  not enabled. See the <a href=\"https://ipywidgets.readthedocs.io/en/stable/user_install.html\">Jupyter\n",
       "  Widgets Documentation</a> for setup instructions.\n",
       "</p>\n",
       "<p>\n",
       "  If you're reading this message in another frontend (for example, a static\n",
       "  rendering on GitHub or <a href=\"https://nbviewer.jupyter.org/\">NBViewer</a>),\n",
       "  it may mean that your frontend doesn't currently support widgets.\n",
       "</p>\n"
      ],
      "text/plain": [
       "HBox(children=(IntProgress(value=0, description='batches', max=2683), HTML(value='')))"
      ]
     },
     "metadata": {},
     "output_type": "display_data"
    },
    {
     "name": "stdout",
     "output_type": "stream",
     "text": [
      "Batch:    500, loss:  0.9399\n",
      "ely nothing to provoke this kind of rejection. be patient and let the situation unfold on its own. ultimately, you could discover that your angst stems to be pretty grown one that you can do now will set aside your personal listener is now that you might not be able to see how to get a healthy perspection of your feelings to a more complete and the sun in your sign today as you thin0th your agenda and stay opposition to start a problem that you are able to manage your words and then let you only to set yourself to be as possible if you are too hard to manage your desires today as the moon in y\n",
      "\n",
      "Batch:   1000, loss:  0.9269\n",
      " possibilities when only yesterday everything seemed more problematic. however, you haven't been suddenly struck with answers to all of your questions about your discomfort with your friends and family minds you with a conscient day to reach your goals and then stic0ti0to your spiritual course of although you may be tempted to tale a solid plan today and you are able to stay into a deep interested in your life today because you can set your discouraged by your life will probably be so much attempting to an intelligent perspecti0t may be a bit difficult to find a way to be alone to start your c\n",
      "\n",
      "Batch:   1500, loss:  0.9160\n",
      "e asserting your self-reliance, showing up with warmth and honesty will help your cause. you might believe that you can float along in a current relationship today because you are on the edge of a completely disagreement of your current sense of action is a big difference between your strategy is to get bac0te to finish a long one that will lead to a solution to an emotional intensity that you can do today and you are also attention to the simplest routiness to settle down and reali0ti mone0t at the best pay careful if you don0t  contradually is a smart stand that you can still see the beauth \n",
      "\n",
      "Batch:   2000, loss:  0.9050\n",
      "e time for everything to settle down so you can decide how much to say. until your mental clarity returns, it's best now to err on the side of sharing your position and get into a day or two the pressure of your control today because you don0t mi0th something that you ha0th your apparent lac0te a place of your own path is the only only seems as if you are clearly and hiding your thoughts and then motion will be uncharacted feelings that are trying to finish a lot of your present communication with a conser0ti ehere is a great day to get what you want to do that you can be a mistall stough time\n",
      "\n",
      "Batch:   2500, loss:  0.8958\n",
      " once you find your pace, no one will likely get in your way. however if someone does pose trouble, you should be able to overcome your annoyance by trying to control the issue that you can find the right time to change your plans for the day as the moon enters your self is the most self0th you see hard and words to consciously so you can allow you to tal0ta your actions since you could be a commitment to assuming that you are able to see the process complicated if you are able to see the positi0t another personal feelings today as the moon in your sign that you want to share your feelings wit\n",
      "\n"
     ]
    },
    {
     "data": {
      "application/vnd.jupyter.widget-view+json": {
       "model_id": "32968b44b5c9414db1a7ff15638e2bcb",
       "version_major": 2,
       "version_minor": 0
      },
      "text/html": [
       "<p>Failed to display Jupyter Widget of type <code>HBox</code>.</p>\n",
       "<p>\n",
       "  If you're reading this message in the Jupyter Notebook or JupyterLab Notebook, it may mean\n",
       "  that the widgets JavaScript is still loading. If this message persists, it\n",
       "  likely means that the widgets JavaScript library is either not installed or\n",
       "  not enabled. See the <a href=\"https://ipywidgets.readthedocs.io/en/stable/user_install.html\">Jupyter\n",
       "  Widgets Documentation</a> for setup instructions.\n",
       "</p>\n",
       "<p>\n",
       "  If you're reading this message in another frontend (for example, a static\n",
       "  rendering on GitHub or <a href=\"https://nbviewer.jupyter.org/\">NBViewer</a>),\n",
       "  it may mean that your frontend doesn't currently support widgets.\n",
       "</p>\n"
      ],
      "text/plain": [
       "HBox(children=(IntProgress(value=0, description='batches', max=2683), HTML(value='')))"
      ]
     },
     "metadata": {},
     "output_type": "display_data"
    },
    {
     "name": "stdout",
     "output_type": "stream",
     "text": [
      "Batch:    500, loss:  0.8845\n",
      "tionships from growing more complicated. consider the potential impact of what you do prior to taking action. practicing a bit of self-restraint now is to sharing your feelings and then the discussion by stepping out of your success as best approach to loo0th your concerted as you thin0th a tell you who will happy anyone else today and then someone who is complicated by imagination and support your feelings today as the moon moment is the best way to reach your goals and follow through on whate0th you see that you can do now is the best time to any sidestep a problem is that you can see the ho\n",
      "\n",
      "Batch:   1000, loss:  0.8782\n",
      "en to stop. thankfully, you can use your common sense to balance your need for connection with your desire to be alone. although you may believe that you can see the role of a relationship today as you thin0th house of communication is a small strategy that you can see the positi0t and enable your top parado0th someone you li0t of your current problem with someone you trust today as you want to do anything that you don0th an important until you find your own destinations that are not as possible to be as the moon more problematic as possible source of your life that you can tall the time to pl\n",
      "\n",
      "Batch:   1500, loss:  0.8722\n",
      "o manifesting the highest potential. remember, your imagination can create the future that you want. it's crucial to reestablish your center today, especially if you are being comfortable with your feelings will ma0th on the facts of your presentation that you can see your finant optimism with your interactions with others and you cannot be so struggle today to stress because your position at the stimulating and your head is of starts will approach that you don0th something that you harbories to escape from your priorities before you actually happen that you may ha0th positing against the topi\n",
      "\n",
      "Batch:   2000, loss:  0.8657\n",
      "our financial condition may be unstable now, yet you don't want your lack of expendable cash to deter your big weekend plans. fortunately, you may discourage you can be a master of dissipation of what you want to do ne0th the best production that you are more supporting a few days before you try to shift the energy by allowing yourself to deli0ty countermate precent as if you are unattached to your life today because you could be a settle down in the way of your production today because you want to share your current strategy today as you try to be accepted to start a professional desires toda\n",
      "\n",
      "Batch:   2500, loss:  0.8605\n",
      "h too hard prior to having real evidence. you're better off to wait a day or two to see what information surfaces on its own. you may feel wired today as the moon more clarity you need to maintain your integrity now will be more powerful than you reali0ti0t any wasting time with family memories and support you need to manage your stress today to another feelings that you wourn into your own agenda today and then stic0th it in a state the energy will ha0th you more present and then still might be able to change your mind with the moon in your sign today as you thin0t stop and then stic0th the c\n",
      "\n"
     ]
    },
    {
     "data": {
      "application/vnd.jupyter.widget-view+json": {
       "model_id": "efdd04a32ea1466ea4755a203a7848ae",
       "version_major": 2,
       "version_minor": 0
      },
      "text/html": [
       "<p>Failed to display Jupyter Widget of type <code>HBox</code>.</p>\n",
       "<p>\n",
       "  If you're reading this message in the Jupyter Notebook or JupyterLab Notebook, it may mean\n",
       "  that the widgets JavaScript is still loading. If this message persists, it\n",
       "  likely means that the widgets JavaScript library is either not installed or\n",
       "  not enabled. See the <a href=\"https://ipywidgets.readthedocs.io/en/stable/user_install.html\">Jupyter\n",
       "  Widgets Documentation</a> for setup instructions.\n",
       "</p>\n",
       "<p>\n",
       "  If you're reading this message in another frontend (for example, a static\n",
       "  rendering on GitHub or <a href=\"https://nbviewer.jupyter.org/\">NBViewer</a>),\n",
       "  it may mean that your frontend doesn't currently support widgets.\n",
       "</p>\n"
      ],
      "text/plain": [
       "HBox(children=(IntProgress(value=0, description='batches', max=2683), HTML(value='')))"
      ]
     },
     "metadata": {},
     "output_type": "display_data"
    },
    {
     "name": "stdout",
     "output_type": "stream",
     "text": [
      "Batch:    500, loss:  0.8536\n",
      "recedence today over encouraging the whimsical dreams of others. as much as you might want to help a friend turn a fantasy into reality, don't let your confidence will ultimately be for your personality or the moment way to manipulate your current stress is a smart strategy now that you can saster an inspiration of your dreams come true to your own who as long as you tall a strategy is to get your friends and associates than you will be able to do it alone today and your contemplation may be the situation by accepting a bit of a position to be an une0t an upcoming apparent that you ha0th a fan\n",
      "\n",
      "Batch:   1000, loss:  0.8497\n",
      "specifically wrong today, you still might feel bored and restless. don't be too judgmental about your current circumstances. it's okay if you want to promise your choices at wor0t on try not to deal with an impulsi common sense the position by simply tang the process of a few days before you easier to accomplishing what you want to do ney may be discouraged by the current situation is sure that you can be a positife in your imagination because you can see the best of you to be forced to tal0t mood in a difficult situation at wor0s may be too much confidence today as you thin0th conterrow about\n",
      "\n",
      "Batch:   1500, loss:  0.8456\n",
      "goals is a waste of time. trust your intuition now; it will steer you in the right direction. you are resistant to being talked out of your opinions today because you want to accomplish a lot at your discomfort and then stic0t an all of the day by pretending your feelings are now will be easier if you finish your chores that you are at this time at the moon enters your sign for the significant moon in your sign today may be more effecti0th than a day or two today and you may be uncomfortable with an intense interaction with a friend that indicates that you must be able to step outside of your \n",
      "\n",
      "Batch:   2000, loss:  0.8419\n",
      "not your smartest solution. exploring your feelings about getting lost in a cause that is greater than you is the first step to deciding on your next moment to the possibilities ahead and your ability to process your feelings today as the full moon slops in your life will still be there in the moment and then get them before you find the possibilities that you won0t act with your own integrity now because you don0th someone else might be a bit subself and concentrate on what you must be accurate for your current state of something that you may be the one who is stirring until you ha0t an oppor\n",
      "\n",
      "Batch:   2500, loss:  0.8384\n",
      " willing to make a decision today and stand by it. even if your ideas are unpopular, your serious demeanor convinces others to go along with your choices to successfully the one who is so you can focus on what you want to do ne0tlich to stability to share your ideas with the moon in your endea today as long as you are more confident than you thin0s around the ner0to more starting a part of your true familiar disappointment or a false acti0ty to see a problem that you want to do the most intelligent procrastinate with one of what you are trac0time to accomplish them as they build your mood if y\n",
      "\n"
     ]
    },
    {
     "data": {
      "application/vnd.jupyter.widget-view+json": {
       "model_id": "c4a3e2029dcf4a98b598d32a0ced0522",
       "version_major": 2,
       "version_minor": 0
      },
      "text/html": [
       "<p>Failed to display Jupyter Widget of type <code>HBox</code>.</p>\n",
       "<p>\n",
       "  If you're reading this message in the Jupyter Notebook or JupyterLab Notebook, it may mean\n",
       "  that the widgets JavaScript is still loading. If this message persists, it\n",
       "  likely means that the widgets JavaScript library is either not installed or\n",
       "  not enabled. See the <a href=\"https://ipywidgets.readthedocs.io/en/stable/user_install.html\">Jupyter\n",
       "  Widgets Documentation</a> for setup instructions.\n",
       "</p>\n",
       "<p>\n",
       "  If you're reading this message in another frontend (for example, a static\n",
       "  rendering on GitHub or <a href=\"https://nbviewer.jupyter.org/\">NBViewer</a>),\n",
       "  it may mean that your frontend doesn't currently support widgets.\n",
       "</p>\n"
      ],
      "text/plain": [
       "HBox(children=(IntProgress(value=0, description='batches', max=2683), HTML(value='')))"
      ]
     },
     "metadata": {},
     "output_type": "display_data"
    },
    {
     "name": "stdout",
     "output_type": "stream",
     "text": [
      "Batch:    500, loss:  0.8334\n",
      "hood days. unfortunately, it's hard to tell which memories are based upon truth and which ones are fully fabricated from the depths of your unconscious aries moon is in your sign today as the moon mo0th threaling shifts and be surprising a simple things to do it or you will go to concerned about your future is little down to the rest of your taste today and you may be feeling a bit uncert in a comple0s at wor0th a few obstacles that you must be cautious obligations as you can be so sure of yourself that you may not be able to engage in a relationship now that the needs of personal plans now an\n",
      "\n",
      "Batch:   1000, loss:  0.8302\n",
      "e the time to play. naturally, meeting your obligations remains a high priority, but your overall quality of work won't be as good if you don't also get benefit to your future is less that you can be scared of drawing what you should do new to ma0th a compromise more than you can deli0th the best courage to be follow you so fast that you can still only manage a comple0ti too much of your fantasies today because you could ha0t so eager to reach your goals today as the moon in your sign today may be a bit each more than you can deli0tomorrow your fears interaction with a conflict with your emoti\n",
      "\n",
      "Batch:   1500, loss:  0.8277\n",
      " in to sweep you off your feet. ironically, you're optimistic about your future, even if the current circumstances feel unsettling. be careful about what you don0th worn in a different situation that arises will ha0th the moon in your strategy is worth pursuing plenty of time to shift your position and see where you want to go now to your own harsh conflict with the support you need to be completed that you cannot easily ready to tal0th someone else things out on the most effecti0t any talent now and you may not be as fired step to the rescuesires in a consensuf against something your feelings\n",
      "\n",
      "Batch:   2000, loss:  0.8249\n",
      "ortable with reconnecting to some aspect of your personal history. you would rather shoot your arrow toward the horizon, yet current circumstances may be to follow through on a long wal0to which energy to step away from the start of longer now and you may not be able to answer an emotional pattern and the past of your professional planets in your sign today as the moon in your sign to get it to the process to tal0th a friend or attempt to the opposition to the finish lighthearted balance between your current thoughts and up to any others and then stic0th holidly urgency to tal0th some responsi\n",
      "\n",
      "Batch:   2500, loss:  0.8225\n",
      "e brought to fruition as long as you maintain a realistic attitude. there is a lot to do and there isn't a better time than this moment to get started to the sun and mercury is to be completely negular to the new moon in your sign today is so much anger for you to let go of your feelings that are not being able to follow the right thing to do now that you must do today you ha0th your emotions and into the future with your friends and associates are now intense emotional connections and or you might feel as if you are trying to approach them into your storme with your plans today and you can fi\n",
      "\n"
     ]
    },
    {
     "data": {
      "application/vnd.jupyter.widget-view+json": {
       "model_id": "76d7827390a44c25885555439e4f30c5",
       "version_major": 2,
       "version_minor": 0
      },
      "text/html": [
       "<p>Failed to display Jupyter Widget of type <code>HBox</code>.</p>\n",
       "<p>\n",
       "  If you're reading this message in the Jupyter Notebook or JupyterLab Notebook, it may mean\n",
       "  that the widgets JavaScript is still loading. If this message persists, it\n",
       "  likely means that the widgets JavaScript library is either not installed or\n",
       "  not enabled. See the <a href=\"https://ipywidgets.readthedocs.io/en/stable/user_install.html\">Jupyter\n",
       "  Widgets Documentation</a> for setup instructions.\n",
       "</p>\n",
       "<p>\n",
       "  If you're reading this message in another frontend (for example, a static\n",
       "  rendering on GitHub or <a href=\"https://nbviewer.jupyter.org/\">NBViewer</a>),\n",
       "  it may mean that your frontend doesn't currently support widgets.\n",
       "</p>\n"
      ],
      "text/plain": [
       "HBox(children=(IntProgress(value=0, description='batches', max=2683), HTML(value='')))"
      ]
     },
     "metadata": {},
     "output_type": "display_data"
    },
    {
     "name": "stdout",
     "output_type": "stream",
     "text": [
      "Batch:    500, loss:  0.8185\n",
      "t your calendar today, but all your efforts seem to be for naught. once the fabric of your day begins to unravel, nothing you do seems to put it all boost to reach your desire to do the situation is the best way to reach your destination as you can tell that you could be more interested in your future obstacles that can be a little completely problematic because you are able to catch your desires in the current circumstances may be undergorner when you begin to share your feelings with a smarter strategy to be a surprising possibilities about what you should be doing something that you set you\n",
      "\n",
      "Batch:   1000, loss:  0.8166\n",
      "t of creativity early on, you might get irritated with someone who tries to hijack your day with their agenda. but you're not interested in playing it to your position is now that the moon is bac0se by tomorrow and then step into your plan to get in the way of a difficult situation today is so much self0ti by steps into your personal discussions about your special and the day solutions are probably see the both contens today as the moon returns to your sign enables you to be discouraged with friends to approach the suppressed and what to do ne0th a sensition to your worry now that you might be\n",
      "\n",
      "Batch:   1500, loss:  0.8146\n",
      "er, you can always complete your work tomorrow. you can tell that things are changing for the better now that the pace of your life is picking up against your resistance is your life today and you might want to tall any different concrete an emotional price seleraly and your heart and do something that will show up with a complete and your need in the present moment with your common sense when you are already as mult as you thin0th house of self0too outside of your current responsibilities and lingering your opinions and then let go of your own desires and be more completely when you tell to m\n",
      "\n",
      "Batch:   2000, loss:  0.8129\n",
      "han you can deliver. it's better to be realistic than to commit to a deadline you won't be able to keep. you are tempted to overspend while buying something to get you then well what you are doing today because you cannot figure out what you want to do in order to do anything that you don to see things are probably going the easier participating in the real world could be the same things you are longing for someone that you are ali0t able to maintain a couple of days to be a simple tas0time to grace your feelings to yourself be responsible for a while wonderful emotional conscious of your drea\n",
      "\n",
      "Batch:   2500, loss:  0.8107\n",
      " dualistic way you approach life today. on one hand, you're thinking like an analytical scientist, carefully observing your current situation in a cool and can ma0th it will be planning your own life because you won0th a few of the reality concentrate on the present moment and handle a corple time for a while because you are ready to show up and more important than social acti0tom out in the open may be tough to find some that you ha0t on what you promised to do now that it is a wise to stay an issue today is that you can probably will wait from your pace in the same old ways to accomplish you\n",
      "\n",
      "\n"
     ]
    }
   ],
   "source": [
    "for epoch in tnrange(epochs, desc = 'epochs'):\n",
    "    loss_pbar    = 0 \n",
    "    running_loss = 0\n",
    "    generator    = batch_generator(data, batch_size, n_char, char_to_id)\n",
    "\n",
    "    with tqdm_notebook(\n",
    "        enumerate(generator), \n",
    "        desc = 'batches', \n",
    "        total = batch_per_epoch, \n",
    "        unit = 'batch '\n",
    "    ) as pbar:\n",
    "\n",
    "        for i, (X, y) in pbar:\n",
    "            X = Variable(X)\n",
    "            y = Variable(y)\n",
    "            X = X.cuda() if cuda else X\n",
    "            y = y.cuda() if cuda else y\n",
    "            optimizer.zero_grad()\n",
    "            y_pred = tcn(X)\n",
    "            loss   = criterion(y_pred, y)\n",
    "            loss.backward()\n",
    "            optimizer.step()\n",
    "\n",
    "            loss_value    = loss.cpu().data[0]\n",
    "            running_loss += loss_value\n",
    "            loss_pbar    += loss_value\n",
    "\n",
    "            if i % loss_update_rate == loss_update_rate - 1:\n",
    "                pbar.set_postfix(loss = loss_pbar / loss_update_rate)\n",
    "                loss_pbar = 0\n",
    "\n",
    "            if i % print_every == print_every - 1:\n",
    "                test_result = test_model(tcn, test_seq_size, window_size, n_char, \n",
    "                                         id_to_char, char_to_id, data)\n",
    "                tqdm.write(f'Batch: {i + 1 : 6}, '\n",
    "                           f'loss: {running_loss / print_every : .4f}\\n'\n",
    "                           f'{test_result}\\n')\n",
    "                running_loss = 0"
   ]
  },
  {
   "cell_type": "code",
   "execution_count": 17,
   "metadata": {},
   "outputs": [
    {
     "data": {
      "text/plain": [
       "'your day will be terrible but you should stay optimistic because you try to listen to the finish your prodates and reality chec0s so you can deli0t a different direction now that shifts in your fantasies of the past and see where they can be an emotional outch out along the way0th a more meaning that it will be easier to learn something that you want to be accessed the role to your courage to focus on the edge with others isn0t a different situation by retreating up of change that you would be wise to tal0ti you intensional problems later on the shift of your plan and endle your world or may not be what you need to be in the long run0th solution could be totally unrape today as possible about your dreams that you need to do anything may be a position to someone else thin0th to support your producti0th ahead with a matter moti0t dri0t and then the sun in your sign lead you to ha0th your life of choice and prior an ally for affection to hear for a while to stay on trac0s and there may be to gi0tu a lot on an ampting this doesn0th focus your attention on the details at words and start something that is a smart idea to the confines of your family and family today and alter the intensity of your feelings today as the sun in your sign today are probably a bit of are contemplating your best in the game of the une0t mo the energy in a financustic day to see an amount of accomplishments of your dreams can be so gracome that you are able to maintain a complement and start a friend or loo0s around your heart and allow your final answer and lead you into a simple taste of setting a new promise if you don0th road and to gain yourself by being as if your emotions are analing and your success is not alwing them in a stressful to share in the more you attempt to settle down and raison your choices and your desires may be glossing on your wor0th house of securitys you to help the best of your current opportunities are showing your agenda out of control and could be a concrete problem when you return to choose a simple lanted player or an intelligent strategy is to start your new desires and you are finished today because you might see the truth with your plans and how you can be feeling and you want to go bac0se world and supporter becomes clearly and do your best foot forward to stop your own resistance to change and get you into agreement in your approach to your inner process can lead to tal0time for your progress today as your plans and ma0th the clear boundaries and then may be easier than you thought is more important than anything that you might not be able to maintain your chores today because your actions alone with a friend or partner today can be a concrete plan because the sun is in your sign today as you thin0t around the boundaries to manage that you cannot tell your feelings about your own power by setting a soul or position today and you might find your goals first and tomorrow all is not a good idea to thing all about your responsibilities as the'"
      ]
     },
     "execution_count": 17,
     "metadata": {},
     "output_type": "execute_result"
    }
   ],
   "source": [
    "genererate_long_sequence(\n",
    "    tcn, \n",
    "    3000, \n",
    "    n_char, \n",
    "    id_to_char, \n",
    "    char_to_id, \n",
    "    'your day will be terrible but you should stay optimistic because'\n",
    ")"
   ]
  }
 ],
 "metadata": {
  "kernelspec": {
   "display_name": "Python 3",
   "language": "python",
   "name": "python3"
  },
  "language_info": {
   "codemirror_mode": {
    "name": "ipython",
    "version": 3
   },
   "file_extension": ".py",
   "mimetype": "text/x-python",
   "name": "python",
   "nbconvert_exporter": "python",
   "pygments_lexer": "ipython3",
   "version": "3.6.4"
  }
 },
 "nbformat": 4,
 "nbformat_minor": 2
}
